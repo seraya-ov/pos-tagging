{
  "nbformat": 4,
  "nbformat_minor": 0,
  "metadata": {
    "colab": {
      "name": "NLP_hometask.ipynb",
      "provenance": [],
      "machine_shape": "hm",
      "collapsed_sections": []
    },
    "kernelspec": {
      "name": "python3",
      "display_name": "Python 3"
    },
    "language_info": {
      "name": "python"
    },
    "accelerator": "GPU",
    "widgets": {
      "application/vnd.jupyter.widget-state+json": {
        "7338278e212c4e9e87fb931b8cc5a253": {
          "model_module": "@jupyter-widgets/controls",
          "model_name": "VBoxModel",
          "model_module_version": "1.5.0",
          "state": {
            "_view_name": "VBoxView",
            "_dom_classes": [],
            "_model_name": "VBoxModel",
            "_view_module": "@jupyter-widgets/controls",
            "_model_module_version": "1.5.0",
            "_view_count": null,
            "_view_module_version": "1.5.0",
            "box_style": "",
            "layout": "IPY_MODEL_4c4930a9a1a744d5869420111d57e487",
            "_model_module": "@jupyter-widgets/controls",
            "children": [
              "IPY_MODEL_ac92b94593d54fa7802fc038d3b730d5",
              "IPY_MODEL_27579e09ca40464a8153dae5a40ce540"
            ]
          }
        },
        "4c4930a9a1a744d5869420111d57e487": {
          "model_module": "@jupyter-widgets/base",
          "model_name": "LayoutModel",
          "model_module_version": "1.2.0",
          "state": {
            "_view_name": "LayoutView",
            "grid_template_rows": null,
            "right": null,
            "justify_content": null,
            "_view_module": "@jupyter-widgets/base",
            "overflow": null,
            "_model_module_version": "1.2.0",
            "_view_count": null,
            "flex_flow": null,
            "width": null,
            "min_width": null,
            "border": null,
            "align_items": null,
            "bottom": null,
            "_model_module": "@jupyter-widgets/base",
            "top": null,
            "grid_column": null,
            "overflow_y": null,
            "overflow_x": null,
            "grid_auto_flow": null,
            "grid_area": null,
            "grid_template_columns": null,
            "flex": null,
            "_model_name": "LayoutModel",
            "justify_items": null,
            "grid_row": null,
            "max_height": null,
            "align_content": null,
            "visibility": null,
            "align_self": null,
            "height": null,
            "min_height": null,
            "padding": null,
            "grid_auto_rows": null,
            "grid_gap": null,
            "max_width": null,
            "order": null,
            "_view_module_version": "1.2.0",
            "grid_template_areas": null,
            "object_position": null,
            "object_fit": null,
            "grid_auto_columns": null,
            "margin": null,
            "display": null,
            "left": null
          }
        },
        "ac92b94593d54fa7802fc038d3b730d5": {
          "model_module": "@jupyter-widgets/controls",
          "model_name": "LabelModel",
          "model_module_version": "1.5.0",
          "state": {
            "_view_name": "LabelView",
            "style": "IPY_MODEL_cf41651667644660a5ff6ca74edf0fcd",
            "_dom_classes": [],
            "description": "",
            "_model_name": "LabelModel",
            "placeholder": "​",
            "_view_module": "@jupyter-widgets/controls",
            "_model_module_version": "1.5.0",
            "value": " 0.01MB of 0.01MB uploaded (0.00MB deduped)\r",
            "_view_count": null,
            "_view_module_version": "1.5.0",
            "description_tooltip": null,
            "_model_module": "@jupyter-widgets/controls",
            "layout": "IPY_MODEL_6cbee6d3de774b4781cbb9949e447de5"
          }
        },
        "27579e09ca40464a8153dae5a40ce540": {
          "model_module": "@jupyter-widgets/controls",
          "model_name": "FloatProgressModel",
          "model_module_version": "1.5.0",
          "state": {
            "_view_name": "ProgressView",
            "style": "IPY_MODEL_8c2e7a20565f4dbb94c992e3842a98d4",
            "_dom_classes": [],
            "description": "",
            "_model_name": "FloatProgressModel",
            "bar_style": "",
            "max": 1,
            "_view_module": "@jupyter-widgets/controls",
            "_model_module_version": "1.5.0",
            "value": 1,
            "_view_count": null,
            "_view_module_version": "1.5.0",
            "orientation": "horizontal",
            "min": 0,
            "description_tooltip": null,
            "_model_module": "@jupyter-widgets/controls",
            "layout": "IPY_MODEL_91642626de2a40269f08ecdcd0ab3c82"
          }
        },
        "cf41651667644660a5ff6ca74edf0fcd": {
          "model_module": "@jupyter-widgets/controls",
          "model_name": "DescriptionStyleModel",
          "model_module_version": "1.5.0",
          "state": {
            "_view_name": "StyleView",
            "_model_name": "DescriptionStyleModel",
            "description_width": "",
            "_view_module": "@jupyter-widgets/base",
            "_model_module_version": "1.5.0",
            "_view_count": null,
            "_view_module_version": "1.2.0",
            "_model_module": "@jupyter-widgets/controls"
          }
        },
        "6cbee6d3de774b4781cbb9949e447de5": {
          "model_module": "@jupyter-widgets/base",
          "model_name": "LayoutModel",
          "model_module_version": "1.2.0",
          "state": {
            "_view_name": "LayoutView",
            "grid_template_rows": null,
            "right": null,
            "justify_content": null,
            "_view_module": "@jupyter-widgets/base",
            "overflow": null,
            "_model_module_version": "1.2.0",
            "_view_count": null,
            "flex_flow": null,
            "width": null,
            "min_width": null,
            "border": null,
            "align_items": null,
            "bottom": null,
            "_model_module": "@jupyter-widgets/base",
            "top": null,
            "grid_column": null,
            "overflow_y": null,
            "overflow_x": null,
            "grid_auto_flow": null,
            "grid_area": null,
            "grid_template_columns": null,
            "flex": null,
            "_model_name": "LayoutModel",
            "justify_items": null,
            "grid_row": null,
            "max_height": null,
            "align_content": null,
            "visibility": null,
            "align_self": null,
            "height": null,
            "min_height": null,
            "padding": null,
            "grid_auto_rows": null,
            "grid_gap": null,
            "max_width": null,
            "order": null,
            "_view_module_version": "1.2.0",
            "grid_template_areas": null,
            "object_position": null,
            "object_fit": null,
            "grid_auto_columns": null,
            "margin": null,
            "display": null,
            "left": null
          }
        },
        "8c2e7a20565f4dbb94c992e3842a98d4": {
          "model_module": "@jupyter-widgets/controls",
          "model_name": "ProgressStyleModel",
          "model_module_version": "1.5.0",
          "state": {
            "_view_name": "StyleView",
            "_model_name": "ProgressStyleModel",
            "description_width": "",
            "_view_module": "@jupyter-widgets/base",
            "_model_module_version": "1.5.0",
            "_view_count": null,
            "_view_module_version": "1.2.0",
            "bar_color": null,
            "_model_module": "@jupyter-widgets/controls"
          }
        },
        "91642626de2a40269f08ecdcd0ab3c82": {
          "model_module": "@jupyter-widgets/base",
          "model_name": "LayoutModel",
          "model_module_version": "1.2.0",
          "state": {
            "_view_name": "LayoutView",
            "grid_template_rows": null,
            "right": null,
            "justify_content": null,
            "_view_module": "@jupyter-widgets/base",
            "overflow": null,
            "_model_module_version": "1.2.0",
            "_view_count": null,
            "flex_flow": null,
            "width": null,
            "min_width": null,
            "border": null,
            "align_items": null,
            "bottom": null,
            "_model_module": "@jupyter-widgets/base",
            "top": null,
            "grid_column": null,
            "overflow_y": null,
            "overflow_x": null,
            "grid_auto_flow": null,
            "grid_area": null,
            "grid_template_columns": null,
            "flex": null,
            "_model_name": "LayoutModel",
            "justify_items": null,
            "grid_row": null,
            "max_height": null,
            "align_content": null,
            "visibility": null,
            "align_self": null,
            "height": null,
            "min_height": null,
            "padding": null,
            "grid_auto_rows": null,
            "grid_gap": null,
            "max_width": null,
            "order": null,
            "_view_module_version": "1.2.0",
            "grid_template_areas": null,
            "object_position": null,
            "object_fit": null,
            "grid_auto_columns": null,
            "margin": null,
            "display": null,
            "left": null
          }
        },
        "10f693cad20d4115a608c4d654614e28": {
          "model_module": "@jupyter-widgets/controls",
          "model_name": "VBoxModel",
          "model_module_version": "1.5.0",
          "state": {
            "_view_name": "VBoxView",
            "_dom_classes": [],
            "_model_name": "VBoxModel",
            "_view_module": "@jupyter-widgets/controls",
            "_model_module_version": "1.5.0",
            "_view_count": null,
            "_view_module_version": "1.5.0",
            "box_style": "",
            "layout": "IPY_MODEL_2d08b658210d4d0a9d4ae29a8658163d",
            "_model_module": "@jupyter-widgets/controls",
            "children": [
              "IPY_MODEL_9b8fe494de4e4e8c9d0d07731e534f8d",
              "IPY_MODEL_de9c51aae4344b10a2a2ef0b1089ad1d"
            ]
          }
        },
        "2d08b658210d4d0a9d4ae29a8658163d": {
          "model_module": "@jupyter-widgets/base",
          "model_name": "LayoutModel",
          "model_module_version": "1.2.0",
          "state": {
            "_view_name": "LayoutView",
            "grid_template_rows": null,
            "right": null,
            "justify_content": null,
            "_view_module": "@jupyter-widgets/base",
            "overflow": null,
            "_model_module_version": "1.2.0",
            "_view_count": null,
            "flex_flow": null,
            "width": null,
            "min_width": null,
            "border": null,
            "align_items": null,
            "bottom": null,
            "_model_module": "@jupyter-widgets/base",
            "top": null,
            "grid_column": null,
            "overflow_y": null,
            "overflow_x": null,
            "grid_auto_flow": null,
            "grid_area": null,
            "grid_template_columns": null,
            "flex": null,
            "_model_name": "LayoutModel",
            "justify_items": null,
            "grid_row": null,
            "max_height": null,
            "align_content": null,
            "visibility": null,
            "align_self": null,
            "height": null,
            "min_height": null,
            "padding": null,
            "grid_auto_rows": null,
            "grid_gap": null,
            "max_width": null,
            "order": null,
            "_view_module_version": "1.2.0",
            "grid_template_areas": null,
            "object_position": null,
            "object_fit": null,
            "grid_auto_columns": null,
            "margin": null,
            "display": null,
            "left": null
          }
        },
        "9b8fe494de4e4e8c9d0d07731e534f8d": {
          "model_module": "@jupyter-widgets/controls",
          "model_name": "LabelModel",
          "model_module_version": "1.5.0",
          "state": {
            "_view_name": "LabelView",
            "style": "IPY_MODEL_7e7a076c56444d0b9ca6d3ff9fe4554b",
            "_dom_classes": [],
            "description": "",
            "_model_name": "LabelModel",
            "placeholder": "​",
            "_view_module": "@jupyter-widgets/controls",
            "_model_module_version": "1.5.0",
            "value": " 0.01MB of 0.01MB uploaded (0.00MB deduped)\r",
            "_view_count": null,
            "_view_module_version": "1.5.0",
            "description_tooltip": null,
            "_model_module": "@jupyter-widgets/controls",
            "layout": "IPY_MODEL_a43f4a4ce6704ac3b5b98330da696c1e"
          }
        },
        "de9c51aae4344b10a2a2ef0b1089ad1d": {
          "model_module": "@jupyter-widgets/controls",
          "model_name": "FloatProgressModel",
          "model_module_version": "1.5.0",
          "state": {
            "_view_name": "ProgressView",
            "style": "IPY_MODEL_c46b6544e4c2411e8211323ec8837b0e",
            "_dom_classes": [],
            "description": "",
            "_model_name": "FloatProgressModel",
            "bar_style": "",
            "max": 1,
            "_view_module": "@jupyter-widgets/controls",
            "_model_module_version": "1.5.0",
            "value": 1,
            "_view_count": null,
            "_view_module_version": "1.5.0",
            "orientation": "horizontal",
            "min": 0,
            "description_tooltip": null,
            "_model_module": "@jupyter-widgets/controls",
            "layout": "IPY_MODEL_1e6ae78e4b5846428d4b912dcf6a9292"
          }
        },
        "7e7a076c56444d0b9ca6d3ff9fe4554b": {
          "model_module": "@jupyter-widgets/controls",
          "model_name": "DescriptionStyleModel",
          "model_module_version": "1.5.0",
          "state": {
            "_view_name": "StyleView",
            "_model_name": "DescriptionStyleModel",
            "description_width": "",
            "_view_module": "@jupyter-widgets/base",
            "_model_module_version": "1.5.0",
            "_view_count": null,
            "_view_module_version": "1.2.0",
            "_model_module": "@jupyter-widgets/controls"
          }
        },
        "a43f4a4ce6704ac3b5b98330da696c1e": {
          "model_module": "@jupyter-widgets/base",
          "model_name": "LayoutModel",
          "model_module_version": "1.2.0",
          "state": {
            "_view_name": "LayoutView",
            "grid_template_rows": null,
            "right": null,
            "justify_content": null,
            "_view_module": "@jupyter-widgets/base",
            "overflow": null,
            "_model_module_version": "1.2.0",
            "_view_count": null,
            "flex_flow": null,
            "width": null,
            "min_width": null,
            "border": null,
            "align_items": null,
            "bottom": null,
            "_model_module": "@jupyter-widgets/base",
            "top": null,
            "grid_column": null,
            "overflow_y": null,
            "overflow_x": null,
            "grid_auto_flow": null,
            "grid_area": null,
            "grid_template_columns": null,
            "flex": null,
            "_model_name": "LayoutModel",
            "justify_items": null,
            "grid_row": null,
            "max_height": null,
            "align_content": null,
            "visibility": null,
            "align_self": null,
            "height": null,
            "min_height": null,
            "padding": null,
            "grid_auto_rows": null,
            "grid_gap": null,
            "max_width": null,
            "order": null,
            "_view_module_version": "1.2.0",
            "grid_template_areas": null,
            "object_position": null,
            "object_fit": null,
            "grid_auto_columns": null,
            "margin": null,
            "display": null,
            "left": null
          }
        },
        "c46b6544e4c2411e8211323ec8837b0e": {
          "model_module": "@jupyter-widgets/controls",
          "model_name": "ProgressStyleModel",
          "model_module_version": "1.5.0",
          "state": {
            "_view_name": "StyleView",
            "_model_name": "ProgressStyleModel",
            "description_width": "",
            "_view_module": "@jupyter-widgets/base",
            "_model_module_version": "1.5.0",
            "_view_count": null,
            "_view_module_version": "1.2.0",
            "bar_color": null,
            "_model_module": "@jupyter-widgets/controls"
          }
        },
        "1e6ae78e4b5846428d4b912dcf6a9292": {
          "model_module": "@jupyter-widgets/base",
          "model_name": "LayoutModel",
          "model_module_version": "1.2.0",
          "state": {
            "_view_name": "LayoutView",
            "grid_template_rows": null,
            "right": null,
            "justify_content": null,
            "_view_module": "@jupyter-widgets/base",
            "overflow": null,
            "_model_module_version": "1.2.0",
            "_view_count": null,
            "flex_flow": null,
            "width": null,
            "min_width": null,
            "border": null,
            "align_items": null,
            "bottom": null,
            "_model_module": "@jupyter-widgets/base",
            "top": null,
            "grid_column": null,
            "overflow_y": null,
            "overflow_x": null,
            "grid_auto_flow": null,
            "grid_area": null,
            "grid_template_columns": null,
            "flex": null,
            "_model_name": "LayoutModel",
            "justify_items": null,
            "grid_row": null,
            "max_height": null,
            "align_content": null,
            "visibility": null,
            "align_self": null,
            "height": null,
            "min_height": null,
            "padding": null,
            "grid_auto_rows": null,
            "grid_gap": null,
            "max_width": null,
            "order": null,
            "_view_module_version": "1.2.0",
            "grid_template_areas": null,
            "object_position": null,
            "object_fit": null,
            "grid_auto_columns": null,
            "margin": null,
            "display": null,
            "left": null
          }
        },
        "c836506fdcc44f419c5e0cc56f1c4086": {
          "model_module": "@jupyter-widgets/controls",
          "model_name": "VBoxModel",
          "model_module_version": "1.5.0",
          "state": {
            "_view_name": "VBoxView",
            "_dom_classes": [],
            "_model_name": "VBoxModel",
            "_view_module": "@jupyter-widgets/controls",
            "_model_module_version": "1.5.0",
            "_view_count": null,
            "_view_module_version": "1.5.0",
            "box_style": "",
            "layout": "IPY_MODEL_a962cfff1f3c4c67af19e789b4bdcba6",
            "_model_module": "@jupyter-widgets/controls",
            "children": [
              "IPY_MODEL_0829fecfba864f9894a5c577e7f88f23",
              "IPY_MODEL_6cfd9fc3feac4b89ba704ecbd57d0490"
            ]
          }
        },
        "a962cfff1f3c4c67af19e789b4bdcba6": {
          "model_module": "@jupyter-widgets/base",
          "model_name": "LayoutModel",
          "model_module_version": "1.2.0",
          "state": {
            "_view_name": "LayoutView",
            "grid_template_rows": null,
            "right": null,
            "justify_content": null,
            "_view_module": "@jupyter-widgets/base",
            "overflow": null,
            "_model_module_version": "1.2.0",
            "_view_count": null,
            "flex_flow": null,
            "width": null,
            "min_width": null,
            "border": null,
            "align_items": null,
            "bottom": null,
            "_model_module": "@jupyter-widgets/base",
            "top": null,
            "grid_column": null,
            "overflow_y": null,
            "overflow_x": null,
            "grid_auto_flow": null,
            "grid_area": null,
            "grid_template_columns": null,
            "flex": null,
            "_model_name": "LayoutModel",
            "justify_items": null,
            "grid_row": null,
            "max_height": null,
            "align_content": null,
            "visibility": null,
            "align_self": null,
            "height": null,
            "min_height": null,
            "padding": null,
            "grid_auto_rows": null,
            "grid_gap": null,
            "max_width": null,
            "order": null,
            "_view_module_version": "1.2.0",
            "grid_template_areas": null,
            "object_position": null,
            "object_fit": null,
            "grid_auto_columns": null,
            "margin": null,
            "display": null,
            "left": null
          }
        },
        "0829fecfba864f9894a5c577e7f88f23": {
          "model_module": "@jupyter-widgets/controls",
          "model_name": "LabelModel",
          "model_module_version": "1.5.0",
          "state": {
            "_view_name": "LabelView",
            "style": "IPY_MODEL_c3f3cd798ca144a29d3ea6f523010392",
            "_dom_classes": [],
            "description": "",
            "_model_name": "LabelModel",
            "placeholder": "​",
            "_view_module": "@jupyter-widgets/controls",
            "_model_module_version": "1.5.0",
            "value": " 0.01MB of 0.01MB uploaded (0.00MB deduped)\r",
            "_view_count": null,
            "_view_module_version": "1.5.0",
            "description_tooltip": null,
            "_model_module": "@jupyter-widgets/controls",
            "layout": "IPY_MODEL_19a3cfe5767c40cfba71ebbaaa837d96"
          }
        },
        "6cfd9fc3feac4b89ba704ecbd57d0490": {
          "model_module": "@jupyter-widgets/controls",
          "model_name": "FloatProgressModel",
          "model_module_version": "1.5.0",
          "state": {
            "_view_name": "ProgressView",
            "style": "IPY_MODEL_4c58f14f2344451b9c6acbb2547ec335",
            "_dom_classes": [],
            "description": "",
            "_model_name": "FloatProgressModel",
            "bar_style": "",
            "max": 1,
            "_view_module": "@jupyter-widgets/controls",
            "_model_module_version": "1.5.0",
            "value": 1,
            "_view_count": null,
            "_view_module_version": "1.5.0",
            "orientation": "horizontal",
            "min": 0,
            "description_tooltip": null,
            "_model_module": "@jupyter-widgets/controls",
            "layout": "IPY_MODEL_91e66e2e20a6410db643f7faead5f2bf"
          }
        },
        "c3f3cd798ca144a29d3ea6f523010392": {
          "model_module": "@jupyter-widgets/controls",
          "model_name": "DescriptionStyleModel",
          "model_module_version": "1.5.0",
          "state": {
            "_view_name": "StyleView",
            "_model_name": "DescriptionStyleModel",
            "description_width": "",
            "_view_module": "@jupyter-widgets/base",
            "_model_module_version": "1.5.0",
            "_view_count": null,
            "_view_module_version": "1.2.0",
            "_model_module": "@jupyter-widgets/controls"
          }
        },
        "19a3cfe5767c40cfba71ebbaaa837d96": {
          "model_module": "@jupyter-widgets/base",
          "model_name": "LayoutModel",
          "model_module_version": "1.2.0",
          "state": {
            "_view_name": "LayoutView",
            "grid_template_rows": null,
            "right": null,
            "justify_content": null,
            "_view_module": "@jupyter-widgets/base",
            "overflow": null,
            "_model_module_version": "1.2.0",
            "_view_count": null,
            "flex_flow": null,
            "width": null,
            "min_width": null,
            "border": null,
            "align_items": null,
            "bottom": null,
            "_model_module": "@jupyter-widgets/base",
            "top": null,
            "grid_column": null,
            "overflow_y": null,
            "overflow_x": null,
            "grid_auto_flow": null,
            "grid_area": null,
            "grid_template_columns": null,
            "flex": null,
            "_model_name": "LayoutModel",
            "justify_items": null,
            "grid_row": null,
            "max_height": null,
            "align_content": null,
            "visibility": null,
            "align_self": null,
            "height": null,
            "min_height": null,
            "padding": null,
            "grid_auto_rows": null,
            "grid_gap": null,
            "max_width": null,
            "order": null,
            "_view_module_version": "1.2.0",
            "grid_template_areas": null,
            "object_position": null,
            "object_fit": null,
            "grid_auto_columns": null,
            "margin": null,
            "display": null,
            "left": null
          }
        },
        "4c58f14f2344451b9c6acbb2547ec335": {
          "model_module": "@jupyter-widgets/controls",
          "model_name": "ProgressStyleModel",
          "model_module_version": "1.5.0",
          "state": {
            "_view_name": "StyleView",
            "_model_name": "ProgressStyleModel",
            "description_width": "",
            "_view_module": "@jupyter-widgets/base",
            "_model_module_version": "1.5.0",
            "_view_count": null,
            "_view_module_version": "1.2.0",
            "bar_color": null,
            "_model_module": "@jupyter-widgets/controls"
          }
        },
        "91e66e2e20a6410db643f7faead5f2bf": {
          "model_module": "@jupyter-widgets/base",
          "model_name": "LayoutModel",
          "model_module_version": "1.2.0",
          "state": {
            "_view_name": "LayoutView",
            "grid_template_rows": null,
            "right": null,
            "justify_content": null,
            "_view_module": "@jupyter-widgets/base",
            "overflow": null,
            "_model_module_version": "1.2.0",
            "_view_count": null,
            "flex_flow": null,
            "width": null,
            "min_width": null,
            "border": null,
            "align_items": null,
            "bottom": null,
            "_model_module": "@jupyter-widgets/base",
            "top": null,
            "grid_column": null,
            "overflow_y": null,
            "overflow_x": null,
            "grid_auto_flow": null,
            "grid_area": null,
            "grid_template_columns": null,
            "flex": null,
            "_model_name": "LayoutModel",
            "justify_items": null,
            "grid_row": null,
            "max_height": null,
            "align_content": null,
            "visibility": null,
            "align_self": null,
            "height": null,
            "min_height": null,
            "padding": null,
            "grid_auto_rows": null,
            "grid_gap": null,
            "max_width": null,
            "order": null,
            "_view_module_version": "1.2.0",
            "grid_template_areas": null,
            "object_position": null,
            "object_fit": null,
            "grid_auto_columns": null,
            "margin": null,
            "display": null,
            "left": null
          }
        },
        "12e42bfdca7b4ad698136d2b8ba503be": {
          "model_module": "@jupyter-widgets/controls",
          "model_name": "VBoxModel",
          "model_module_version": "1.5.0",
          "state": {
            "_view_name": "VBoxView",
            "_dom_classes": [],
            "_model_name": "VBoxModel",
            "_view_module": "@jupyter-widgets/controls",
            "_model_module_version": "1.5.0",
            "_view_count": null,
            "_view_module_version": "1.5.0",
            "box_style": "",
            "layout": "IPY_MODEL_397df724c57b4ff48c428f37a149e6c1",
            "_model_module": "@jupyter-widgets/controls",
            "children": [
              "IPY_MODEL_39278a3a14a14c38bdedd298632ff50f",
              "IPY_MODEL_77f4d6a9d2fe4610b5dd8c93828f06e0"
            ]
          }
        },
        "397df724c57b4ff48c428f37a149e6c1": {
          "model_module": "@jupyter-widgets/base",
          "model_name": "LayoutModel",
          "model_module_version": "1.2.0",
          "state": {
            "_view_name": "LayoutView",
            "grid_template_rows": null,
            "right": null,
            "justify_content": null,
            "_view_module": "@jupyter-widgets/base",
            "overflow": null,
            "_model_module_version": "1.2.0",
            "_view_count": null,
            "flex_flow": null,
            "width": null,
            "min_width": null,
            "border": null,
            "align_items": null,
            "bottom": null,
            "_model_module": "@jupyter-widgets/base",
            "top": null,
            "grid_column": null,
            "overflow_y": null,
            "overflow_x": null,
            "grid_auto_flow": null,
            "grid_area": null,
            "grid_template_columns": null,
            "flex": null,
            "_model_name": "LayoutModel",
            "justify_items": null,
            "grid_row": null,
            "max_height": null,
            "align_content": null,
            "visibility": null,
            "align_self": null,
            "height": null,
            "min_height": null,
            "padding": null,
            "grid_auto_rows": null,
            "grid_gap": null,
            "max_width": null,
            "order": null,
            "_view_module_version": "1.2.0",
            "grid_template_areas": null,
            "object_position": null,
            "object_fit": null,
            "grid_auto_columns": null,
            "margin": null,
            "display": null,
            "left": null
          }
        },
        "39278a3a14a14c38bdedd298632ff50f": {
          "model_module": "@jupyter-widgets/controls",
          "model_name": "LabelModel",
          "model_module_version": "1.5.0",
          "state": {
            "_view_name": "LabelView",
            "style": "IPY_MODEL_31bfacb2c93348c98d43ef4f9bd9451d",
            "_dom_classes": [],
            "description": "",
            "_model_name": "LabelModel",
            "placeholder": "​",
            "_view_module": "@jupyter-widgets/controls",
            "_model_module_version": "1.5.0",
            "value": " 0.01MB of 0.01MB uploaded (0.00MB deduped)\r",
            "_view_count": null,
            "_view_module_version": "1.5.0",
            "description_tooltip": null,
            "_model_module": "@jupyter-widgets/controls",
            "layout": "IPY_MODEL_bd72eb046c8945128b702aa07f472b6b"
          }
        },
        "77f4d6a9d2fe4610b5dd8c93828f06e0": {
          "model_module": "@jupyter-widgets/controls",
          "model_name": "FloatProgressModel",
          "model_module_version": "1.5.0",
          "state": {
            "_view_name": "ProgressView",
            "style": "IPY_MODEL_5f03cc73397241b383cb04a2243cc36f",
            "_dom_classes": [],
            "description": "",
            "_model_name": "FloatProgressModel",
            "bar_style": "",
            "max": 1,
            "_view_module": "@jupyter-widgets/controls",
            "_model_module_version": "1.5.0",
            "value": 1,
            "_view_count": null,
            "_view_module_version": "1.5.0",
            "orientation": "horizontal",
            "min": 0,
            "description_tooltip": null,
            "_model_module": "@jupyter-widgets/controls",
            "layout": "IPY_MODEL_a8eefdc2253e482398c88f8b1561d1a3"
          }
        },
        "31bfacb2c93348c98d43ef4f9bd9451d": {
          "model_module": "@jupyter-widgets/controls",
          "model_name": "DescriptionStyleModel",
          "model_module_version": "1.5.0",
          "state": {
            "_view_name": "StyleView",
            "_model_name": "DescriptionStyleModel",
            "description_width": "",
            "_view_module": "@jupyter-widgets/base",
            "_model_module_version": "1.5.0",
            "_view_count": null,
            "_view_module_version": "1.2.0",
            "_model_module": "@jupyter-widgets/controls"
          }
        },
        "bd72eb046c8945128b702aa07f472b6b": {
          "model_module": "@jupyter-widgets/base",
          "model_name": "LayoutModel",
          "model_module_version": "1.2.0",
          "state": {
            "_view_name": "LayoutView",
            "grid_template_rows": null,
            "right": null,
            "justify_content": null,
            "_view_module": "@jupyter-widgets/base",
            "overflow": null,
            "_model_module_version": "1.2.0",
            "_view_count": null,
            "flex_flow": null,
            "width": null,
            "min_width": null,
            "border": null,
            "align_items": null,
            "bottom": null,
            "_model_module": "@jupyter-widgets/base",
            "top": null,
            "grid_column": null,
            "overflow_y": null,
            "overflow_x": null,
            "grid_auto_flow": null,
            "grid_area": null,
            "grid_template_columns": null,
            "flex": null,
            "_model_name": "LayoutModel",
            "justify_items": null,
            "grid_row": null,
            "max_height": null,
            "align_content": null,
            "visibility": null,
            "align_self": null,
            "height": null,
            "min_height": null,
            "padding": null,
            "grid_auto_rows": null,
            "grid_gap": null,
            "max_width": null,
            "order": null,
            "_view_module_version": "1.2.0",
            "grid_template_areas": null,
            "object_position": null,
            "object_fit": null,
            "grid_auto_columns": null,
            "margin": null,
            "display": null,
            "left": null
          }
        },
        "5f03cc73397241b383cb04a2243cc36f": {
          "model_module": "@jupyter-widgets/controls",
          "model_name": "ProgressStyleModel",
          "model_module_version": "1.5.0",
          "state": {
            "_view_name": "StyleView",
            "_model_name": "ProgressStyleModel",
            "description_width": "",
            "_view_module": "@jupyter-widgets/base",
            "_model_module_version": "1.5.0",
            "_view_count": null,
            "_view_module_version": "1.2.0",
            "bar_color": null,
            "_model_module": "@jupyter-widgets/controls"
          }
        },
        "a8eefdc2253e482398c88f8b1561d1a3": {
          "model_module": "@jupyter-widgets/base",
          "model_name": "LayoutModel",
          "model_module_version": "1.2.0",
          "state": {
            "_view_name": "LayoutView",
            "grid_template_rows": null,
            "right": null,
            "justify_content": null,
            "_view_module": "@jupyter-widgets/base",
            "overflow": null,
            "_model_module_version": "1.2.0",
            "_view_count": null,
            "flex_flow": null,
            "width": null,
            "min_width": null,
            "border": null,
            "align_items": null,
            "bottom": null,
            "_model_module": "@jupyter-widgets/base",
            "top": null,
            "grid_column": null,
            "overflow_y": null,
            "overflow_x": null,
            "grid_auto_flow": null,
            "grid_area": null,
            "grid_template_columns": null,
            "flex": null,
            "_model_name": "LayoutModel",
            "justify_items": null,
            "grid_row": null,
            "max_height": null,
            "align_content": null,
            "visibility": null,
            "align_self": null,
            "height": null,
            "min_height": null,
            "padding": null,
            "grid_auto_rows": null,
            "grid_gap": null,
            "max_width": null,
            "order": null,
            "_view_module_version": "1.2.0",
            "grid_template_areas": null,
            "object_position": null,
            "object_fit": null,
            "grid_auto_columns": null,
            "margin": null,
            "display": null,
            "left": null
          }
        },
        "2dcdd938085b43569e89577dffcef0a2": {
          "model_module": "@jupyter-widgets/controls",
          "model_name": "VBoxModel",
          "model_module_version": "1.5.0",
          "state": {
            "_view_name": "VBoxView",
            "_dom_classes": [],
            "_model_name": "VBoxModel",
            "_view_module": "@jupyter-widgets/controls",
            "_model_module_version": "1.5.0",
            "_view_count": null,
            "_view_module_version": "1.5.0",
            "box_style": "",
            "layout": "IPY_MODEL_805d27d7ed7448c09dd4c813059ee766",
            "_model_module": "@jupyter-widgets/controls",
            "children": [
              "IPY_MODEL_3025109f60234129ac3bf56a7a43fb26",
              "IPY_MODEL_b7894b1d3477462aaa66b48a9fb6c9c1"
            ]
          }
        },
        "805d27d7ed7448c09dd4c813059ee766": {
          "model_module": "@jupyter-widgets/base",
          "model_name": "LayoutModel",
          "model_module_version": "1.2.0",
          "state": {
            "_view_name": "LayoutView",
            "grid_template_rows": null,
            "right": null,
            "justify_content": null,
            "_view_module": "@jupyter-widgets/base",
            "overflow": null,
            "_model_module_version": "1.2.0",
            "_view_count": null,
            "flex_flow": null,
            "width": null,
            "min_width": null,
            "border": null,
            "align_items": null,
            "bottom": null,
            "_model_module": "@jupyter-widgets/base",
            "top": null,
            "grid_column": null,
            "overflow_y": null,
            "overflow_x": null,
            "grid_auto_flow": null,
            "grid_area": null,
            "grid_template_columns": null,
            "flex": null,
            "_model_name": "LayoutModel",
            "justify_items": null,
            "grid_row": null,
            "max_height": null,
            "align_content": null,
            "visibility": null,
            "align_self": null,
            "height": null,
            "min_height": null,
            "padding": null,
            "grid_auto_rows": null,
            "grid_gap": null,
            "max_width": null,
            "order": null,
            "_view_module_version": "1.2.0",
            "grid_template_areas": null,
            "object_position": null,
            "object_fit": null,
            "grid_auto_columns": null,
            "margin": null,
            "display": null,
            "left": null
          }
        },
        "3025109f60234129ac3bf56a7a43fb26": {
          "model_module": "@jupyter-widgets/controls",
          "model_name": "LabelModel",
          "model_module_version": "1.5.0",
          "state": {
            "_view_name": "LabelView",
            "style": "IPY_MODEL_ed0a8830b275435ebc8175f750d3b3fb",
            "_dom_classes": [],
            "description": "",
            "_model_name": "LabelModel",
            "placeholder": "​",
            "_view_module": "@jupyter-widgets/controls",
            "_model_module_version": "1.5.0",
            "value": " 0.01MB of 0.01MB uploaded (0.00MB deduped)\r",
            "_view_count": null,
            "_view_module_version": "1.5.0",
            "description_tooltip": null,
            "_model_module": "@jupyter-widgets/controls",
            "layout": "IPY_MODEL_8ac93c4079cd4aab9736629a62514308"
          }
        },
        "b7894b1d3477462aaa66b48a9fb6c9c1": {
          "model_module": "@jupyter-widgets/controls",
          "model_name": "FloatProgressModel",
          "model_module_version": "1.5.0",
          "state": {
            "_view_name": "ProgressView",
            "style": "IPY_MODEL_dd6f90cd294f4a7b9347f5e9991daccf",
            "_dom_classes": [],
            "description": "",
            "_model_name": "FloatProgressModel",
            "bar_style": "",
            "max": 1,
            "_view_module": "@jupyter-widgets/controls",
            "_model_module_version": "1.5.0",
            "value": 1,
            "_view_count": null,
            "_view_module_version": "1.5.0",
            "orientation": "horizontal",
            "min": 0,
            "description_tooltip": null,
            "_model_module": "@jupyter-widgets/controls",
            "layout": "IPY_MODEL_e309ab8e7c644e9a9e96fe88776d7022"
          }
        },
        "ed0a8830b275435ebc8175f750d3b3fb": {
          "model_module": "@jupyter-widgets/controls",
          "model_name": "DescriptionStyleModel",
          "model_module_version": "1.5.0",
          "state": {
            "_view_name": "StyleView",
            "_model_name": "DescriptionStyleModel",
            "description_width": "",
            "_view_module": "@jupyter-widgets/base",
            "_model_module_version": "1.5.0",
            "_view_count": null,
            "_view_module_version": "1.2.0",
            "_model_module": "@jupyter-widgets/controls"
          }
        },
        "8ac93c4079cd4aab9736629a62514308": {
          "model_module": "@jupyter-widgets/base",
          "model_name": "LayoutModel",
          "model_module_version": "1.2.0",
          "state": {
            "_view_name": "LayoutView",
            "grid_template_rows": null,
            "right": null,
            "justify_content": null,
            "_view_module": "@jupyter-widgets/base",
            "overflow": null,
            "_model_module_version": "1.2.0",
            "_view_count": null,
            "flex_flow": null,
            "width": null,
            "min_width": null,
            "border": null,
            "align_items": null,
            "bottom": null,
            "_model_module": "@jupyter-widgets/base",
            "top": null,
            "grid_column": null,
            "overflow_y": null,
            "overflow_x": null,
            "grid_auto_flow": null,
            "grid_area": null,
            "grid_template_columns": null,
            "flex": null,
            "_model_name": "LayoutModel",
            "justify_items": null,
            "grid_row": null,
            "max_height": null,
            "align_content": null,
            "visibility": null,
            "align_self": null,
            "height": null,
            "min_height": null,
            "padding": null,
            "grid_auto_rows": null,
            "grid_gap": null,
            "max_width": null,
            "order": null,
            "_view_module_version": "1.2.0",
            "grid_template_areas": null,
            "object_position": null,
            "object_fit": null,
            "grid_auto_columns": null,
            "margin": null,
            "display": null,
            "left": null
          }
        },
        "dd6f90cd294f4a7b9347f5e9991daccf": {
          "model_module": "@jupyter-widgets/controls",
          "model_name": "ProgressStyleModel",
          "model_module_version": "1.5.0",
          "state": {
            "_view_name": "StyleView",
            "_model_name": "ProgressStyleModel",
            "description_width": "",
            "_view_module": "@jupyter-widgets/base",
            "_model_module_version": "1.5.0",
            "_view_count": null,
            "_view_module_version": "1.2.0",
            "bar_color": null,
            "_model_module": "@jupyter-widgets/controls"
          }
        },
        "e309ab8e7c644e9a9e96fe88776d7022": {
          "model_module": "@jupyter-widgets/base",
          "model_name": "LayoutModel",
          "model_module_version": "1.2.0",
          "state": {
            "_view_name": "LayoutView",
            "grid_template_rows": null,
            "right": null,
            "justify_content": null,
            "_view_module": "@jupyter-widgets/base",
            "overflow": null,
            "_model_module_version": "1.2.0",
            "_view_count": null,
            "flex_flow": null,
            "width": null,
            "min_width": null,
            "border": null,
            "align_items": null,
            "bottom": null,
            "_model_module": "@jupyter-widgets/base",
            "top": null,
            "grid_column": null,
            "overflow_y": null,
            "overflow_x": null,
            "grid_auto_flow": null,
            "grid_area": null,
            "grid_template_columns": null,
            "flex": null,
            "_model_name": "LayoutModel",
            "justify_items": null,
            "grid_row": null,
            "max_height": null,
            "align_content": null,
            "visibility": null,
            "align_self": null,
            "height": null,
            "min_height": null,
            "padding": null,
            "grid_auto_rows": null,
            "grid_gap": null,
            "max_width": null,
            "order": null,
            "_view_module_version": "1.2.0",
            "grid_template_areas": null,
            "object_position": null,
            "object_fit": null,
            "grid_auto_columns": null,
            "margin": null,
            "display": null,
            "left": null
          }
        },
        "361b591579c04701b8d333d0cae7d15a": {
          "model_module": "@jupyter-widgets/controls",
          "model_name": "VBoxModel",
          "model_module_version": "1.5.0",
          "state": {
            "_view_name": "VBoxView",
            "_dom_classes": [],
            "_model_name": "VBoxModel",
            "_view_module": "@jupyter-widgets/controls",
            "_model_module_version": "1.5.0",
            "_view_count": null,
            "_view_module_version": "1.5.0",
            "box_style": "",
            "layout": "IPY_MODEL_0b6d5a6cbdaa46aeadc1d5994ba3579c",
            "_model_module": "@jupyter-widgets/controls",
            "children": [
              "IPY_MODEL_bf278356083a41a7bbd8610ed0212332",
              "IPY_MODEL_e76a4390d1de49edb75fdd425611c6fe"
            ]
          }
        },
        "0b6d5a6cbdaa46aeadc1d5994ba3579c": {
          "model_module": "@jupyter-widgets/base",
          "model_name": "LayoutModel",
          "model_module_version": "1.2.0",
          "state": {
            "_view_name": "LayoutView",
            "grid_template_rows": null,
            "right": null,
            "justify_content": null,
            "_view_module": "@jupyter-widgets/base",
            "overflow": null,
            "_model_module_version": "1.2.0",
            "_view_count": null,
            "flex_flow": null,
            "width": null,
            "min_width": null,
            "border": null,
            "align_items": null,
            "bottom": null,
            "_model_module": "@jupyter-widgets/base",
            "top": null,
            "grid_column": null,
            "overflow_y": null,
            "overflow_x": null,
            "grid_auto_flow": null,
            "grid_area": null,
            "grid_template_columns": null,
            "flex": null,
            "_model_name": "LayoutModel",
            "justify_items": null,
            "grid_row": null,
            "max_height": null,
            "align_content": null,
            "visibility": null,
            "align_self": null,
            "height": null,
            "min_height": null,
            "padding": null,
            "grid_auto_rows": null,
            "grid_gap": null,
            "max_width": null,
            "order": null,
            "_view_module_version": "1.2.0",
            "grid_template_areas": null,
            "object_position": null,
            "object_fit": null,
            "grid_auto_columns": null,
            "margin": null,
            "display": null,
            "left": null
          }
        },
        "bf278356083a41a7bbd8610ed0212332": {
          "model_module": "@jupyter-widgets/controls",
          "model_name": "LabelModel",
          "model_module_version": "1.5.0",
          "state": {
            "_view_name": "LabelView",
            "style": "IPY_MODEL_250e1660636c4b23a7d839285683bce6",
            "_dom_classes": [],
            "description": "",
            "_model_name": "LabelModel",
            "placeholder": "​",
            "_view_module": "@jupyter-widgets/controls",
            "_model_module_version": "1.5.0",
            "value": " 0.01MB of 0.01MB uploaded (0.00MB deduped)\r",
            "_view_count": null,
            "_view_module_version": "1.5.0",
            "description_tooltip": null,
            "_model_module": "@jupyter-widgets/controls",
            "layout": "IPY_MODEL_48e04df1357f4aae9481fa51c93091d4"
          }
        },
        "e76a4390d1de49edb75fdd425611c6fe": {
          "model_module": "@jupyter-widgets/controls",
          "model_name": "FloatProgressModel",
          "model_module_version": "1.5.0",
          "state": {
            "_view_name": "ProgressView",
            "style": "IPY_MODEL_f55c4b077de04131abe412132dbe5c33",
            "_dom_classes": [],
            "description": "",
            "_model_name": "FloatProgressModel",
            "bar_style": "",
            "max": 1,
            "_view_module": "@jupyter-widgets/controls",
            "_model_module_version": "1.5.0",
            "value": 1,
            "_view_count": null,
            "_view_module_version": "1.5.0",
            "orientation": "horizontal",
            "min": 0,
            "description_tooltip": null,
            "_model_module": "@jupyter-widgets/controls",
            "layout": "IPY_MODEL_02b0604bb5a642e5ae502e1f8dcac580"
          }
        },
        "250e1660636c4b23a7d839285683bce6": {
          "model_module": "@jupyter-widgets/controls",
          "model_name": "DescriptionStyleModel",
          "model_module_version": "1.5.0",
          "state": {
            "_view_name": "StyleView",
            "_model_name": "DescriptionStyleModel",
            "description_width": "",
            "_view_module": "@jupyter-widgets/base",
            "_model_module_version": "1.5.0",
            "_view_count": null,
            "_view_module_version": "1.2.0",
            "_model_module": "@jupyter-widgets/controls"
          }
        },
        "48e04df1357f4aae9481fa51c93091d4": {
          "model_module": "@jupyter-widgets/base",
          "model_name": "LayoutModel",
          "model_module_version": "1.2.0",
          "state": {
            "_view_name": "LayoutView",
            "grid_template_rows": null,
            "right": null,
            "justify_content": null,
            "_view_module": "@jupyter-widgets/base",
            "overflow": null,
            "_model_module_version": "1.2.0",
            "_view_count": null,
            "flex_flow": null,
            "width": null,
            "min_width": null,
            "border": null,
            "align_items": null,
            "bottom": null,
            "_model_module": "@jupyter-widgets/base",
            "top": null,
            "grid_column": null,
            "overflow_y": null,
            "overflow_x": null,
            "grid_auto_flow": null,
            "grid_area": null,
            "grid_template_columns": null,
            "flex": null,
            "_model_name": "LayoutModel",
            "justify_items": null,
            "grid_row": null,
            "max_height": null,
            "align_content": null,
            "visibility": null,
            "align_self": null,
            "height": null,
            "min_height": null,
            "padding": null,
            "grid_auto_rows": null,
            "grid_gap": null,
            "max_width": null,
            "order": null,
            "_view_module_version": "1.2.0",
            "grid_template_areas": null,
            "object_position": null,
            "object_fit": null,
            "grid_auto_columns": null,
            "margin": null,
            "display": null,
            "left": null
          }
        },
        "f55c4b077de04131abe412132dbe5c33": {
          "model_module": "@jupyter-widgets/controls",
          "model_name": "ProgressStyleModel",
          "model_module_version": "1.5.0",
          "state": {
            "_view_name": "StyleView",
            "_model_name": "ProgressStyleModel",
            "description_width": "",
            "_view_module": "@jupyter-widgets/base",
            "_model_module_version": "1.5.0",
            "_view_count": null,
            "_view_module_version": "1.2.0",
            "bar_color": null,
            "_model_module": "@jupyter-widgets/controls"
          }
        },
        "02b0604bb5a642e5ae502e1f8dcac580": {
          "model_module": "@jupyter-widgets/base",
          "model_name": "LayoutModel",
          "model_module_version": "1.2.0",
          "state": {
            "_view_name": "LayoutView",
            "grid_template_rows": null,
            "right": null,
            "justify_content": null,
            "_view_module": "@jupyter-widgets/base",
            "overflow": null,
            "_model_module_version": "1.2.0",
            "_view_count": null,
            "flex_flow": null,
            "width": null,
            "min_width": null,
            "border": null,
            "align_items": null,
            "bottom": null,
            "_model_module": "@jupyter-widgets/base",
            "top": null,
            "grid_column": null,
            "overflow_y": null,
            "overflow_x": null,
            "grid_auto_flow": null,
            "grid_area": null,
            "grid_template_columns": null,
            "flex": null,
            "_model_name": "LayoutModel",
            "justify_items": null,
            "grid_row": null,
            "max_height": null,
            "align_content": null,
            "visibility": null,
            "align_self": null,
            "height": null,
            "min_height": null,
            "padding": null,
            "grid_auto_rows": null,
            "grid_gap": null,
            "max_width": null,
            "order": null,
            "_view_module_version": "1.2.0",
            "grid_template_areas": null,
            "object_position": null,
            "object_fit": null,
            "grid_auto_columns": null,
            "margin": null,
            "display": null,
            "left": null
          }
        },
        "4043cb6e4a844b31a84e0d9ec85b2bb2": {
          "model_module": "@jupyter-widgets/controls",
          "model_name": "VBoxModel",
          "model_module_version": "1.5.0",
          "state": {
            "_view_name": "VBoxView",
            "_dom_classes": [],
            "_model_name": "VBoxModel",
            "_view_module": "@jupyter-widgets/controls",
            "_model_module_version": "1.5.0",
            "_view_count": null,
            "_view_module_version": "1.5.0",
            "box_style": "",
            "layout": "IPY_MODEL_9843412f03ad4821a395ae268e7467fb",
            "_model_module": "@jupyter-widgets/controls",
            "children": [
              "IPY_MODEL_0f1de44b5b6b4585a61d7f89bd35b1c9",
              "IPY_MODEL_1ba01a69aef845fa8b78d65b6f134e02"
            ]
          }
        },
        "9843412f03ad4821a395ae268e7467fb": {
          "model_module": "@jupyter-widgets/base",
          "model_name": "LayoutModel",
          "model_module_version": "1.2.0",
          "state": {
            "_view_name": "LayoutView",
            "grid_template_rows": null,
            "right": null,
            "justify_content": null,
            "_view_module": "@jupyter-widgets/base",
            "overflow": null,
            "_model_module_version": "1.2.0",
            "_view_count": null,
            "flex_flow": null,
            "width": null,
            "min_width": null,
            "border": null,
            "align_items": null,
            "bottom": null,
            "_model_module": "@jupyter-widgets/base",
            "top": null,
            "grid_column": null,
            "overflow_y": null,
            "overflow_x": null,
            "grid_auto_flow": null,
            "grid_area": null,
            "grid_template_columns": null,
            "flex": null,
            "_model_name": "LayoutModel",
            "justify_items": null,
            "grid_row": null,
            "max_height": null,
            "align_content": null,
            "visibility": null,
            "align_self": null,
            "height": null,
            "min_height": null,
            "padding": null,
            "grid_auto_rows": null,
            "grid_gap": null,
            "max_width": null,
            "order": null,
            "_view_module_version": "1.2.0",
            "grid_template_areas": null,
            "object_position": null,
            "object_fit": null,
            "grid_auto_columns": null,
            "margin": null,
            "display": null,
            "left": null
          }
        },
        "0f1de44b5b6b4585a61d7f89bd35b1c9": {
          "model_module": "@jupyter-widgets/controls",
          "model_name": "LabelModel",
          "model_module_version": "1.5.0",
          "state": {
            "_view_name": "LabelView",
            "style": "IPY_MODEL_7264f61d0cbd4a20849a0303faaa5496",
            "_dom_classes": [],
            "description": "",
            "_model_name": "LabelModel",
            "placeholder": "​",
            "_view_module": "@jupyter-widgets/controls",
            "_model_module_version": "1.5.0",
            "value": " 0.01MB of 0.01MB uploaded (0.00MB deduped)\r",
            "_view_count": null,
            "_view_module_version": "1.5.0",
            "description_tooltip": null,
            "_model_module": "@jupyter-widgets/controls",
            "layout": "IPY_MODEL_a069debfd9d544dab131f7329b323bb1"
          }
        },
        "1ba01a69aef845fa8b78d65b6f134e02": {
          "model_module": "@jupyter-widgets/controls",
          "model_name": "FloatProgressModel",
          "model_module_version": "1.5.0",
          "state": {
            "_view_name": "ProgressView",
            "style": "IPY_MODEL_7b4f85f0a03f44ea91508c12d9283721",
            "_dom_classes": [],
            "description": "",
            "_model_name": "FloatProgressModel",
            "bar_style": "",
            "max": 1,
            "_view_module": "@jupyter-widgets/controls",
            "_model_module_version": "1.5.0",
            "value": 1,
            "_view_count": null,
            "_view_module_version": "1.5.0",
            "orientation": "horizontal",
            "min": 0,
            "description_tooltip": null,
            "_model_module": "@jupyter-widgets/controls",
            "layout": "IPY_MODEL_0288f1310f9944e8b78d1c754a919dc0"
          }
        },
        "7264f61d0cbd4a20849a0303faaa5496": {
          "model_module": "@jupyter-widgets/controls",
          "model_name": "DescriptionStyleModel",
          "model_module_version": "1.5.0",
          "state": {
            "_view_name": "StyleView",
            "_model_name": "DescriptionStyleModel",
            "description_width": "",
            "_view_module": "@jupyter-widgets/base",
            "_model_module_version": "1.5.0",
            "_view_count": null,
            "_view_module_version": "1.2.0",
            "_model_module": "@jupyter-widgets/controls"
          }
        },
        "a069debfd9d544dab131f7329b323bb1": {
          "model_module": "@jupyter-widgets/base",
          "model_name": "LayoutModel",
          "model_module_version": "1.2.0",
          "state": {
            "_view_name": "LayoutView",
            "grid_template_rows": null,
            "right": null,
            "justify_content": null,
            "_view_module": "@jupyter-widgets/base",
            "overflow": null,
            "_model_module_version": "1.2.0",
            "_view_count": null,
            "flex_flow": null,
            "width": null,
            "min_width": null,
            "border": null,
            "align_items": null,
            "bottom": null,
            "_model_module": "@jupyter-widgets/base",
            "top": null,
            "grid_column": null,
            "overflow_y": null,
            "overflow_x": null,
            "grid_auto_flow": null,
            "grid_area": null,
            "grid_template_columns": null,
            "flex": null,
            "_model_name": "LayoutModel",
            "justify_items": null,
            "grid_row": null,
            "max_height": null,
            "align_content": null,
            "visibility": null,
            "align_self": null,
            "height": null,
            "min_height": null,
            "padding": null,
            "grid_auto_rows": null,
            "grid_gap": null,
            "max_width": null,
            "order": null,
            "_view_module_version": "1.2.0",
            "grid_template_areas": null,
            "object_position": null,
            "object_fit": null,
            "grid_auto_columns": null,
            "margin": null,
            "display": null,
            "left": null
          }
        },
        "7b4f85f0a03f44ea91508c12d9283721": {
          "model_module": "@jupyter-widgets/controls",
          "model_name": "ProgressStyleModel",
          "model_module_version": "1.5.0",
          "state": {
            "_view_name": "StyleView",
            "_model_name": "ProgressStyleModel",
            "description_width": "",
            "_view_module": "@jupyter-widgets/base",
            "_model_module_version": "1.5.0",
            "_view_count": null,
            "_view_module_version": "1.2.0",
            "bar_color": null,
            "_model_module": "@jupyter-widgets/controls"
          }
        },
        "0288f1310f9944e8b78d1c754a919dc0": {
          "model_module": "@jupyter-widgets/base",
          "model_name": "LayoutModel",
          "model_module_version": "1.2.0",
          "state": {
            "_view_name": "LayoutView",
            "grid_template_rows": null,
            "right": null,
            "justify_content": null,
            "_view_module": "@jupyter-widgets/base",
            "overflow": null,
            "_model_module_version": "1.2.0",
            "_view_count": null,
            "flex_flow": null,
            "width": null,
            "min_width": null,
            "border": null,
            "align_items": null,
            "bottom": null,
            "_model_module": "@jupyter-widgets/base",
            "top": null,
            "grid_column": null,
            "overflow_y": null,
            "overflow_x": null,
            "grid_auto_flow": null,
            "grid_area": null,
            "grid_template_columns": null,
            "flex": null,
            "_model_name": "LayoutModel",
            "justify_items": null,
            "grid_row": null,
            "max_height": null,
            "align_content": null,
            "visibility": null,
            "align_self": null,
            "height": null,
            "min_height": null,
            "padding": null,
            "grid_auto_rows": null,
            "grid_gap": null,
            "max_width": null,
            "order": null,
            "_view_module_version": "1.2.0",
            "grid_template_areas": null,
            "object_position": null,
            "object_fit": null,
            "grid_auto_columns": null,
            "margin": null,
            "display": null,
            "left": null
          }
        },
        "5f36bdd3dee44426a4b1994536a68d4d": {
          "model_module": "@jupyter-widgets/controls",
          "model_name": "VBoxModel",
          "model_module_version": "1.5.0",
          "state": {
            "_view_name": "VBoxView",
            "_dom_classes": [],
            "_model_name": "VBoxModel",
            "_view_module": "@jupyter-widgets/controls",
            "_model_module_version": "1.5.0",
            "_view_count": null,
            "_view_module_version": "1.5.0",
            "box_style": "",
            "layout": "IPY_MODEL_65326348d2934067ad8e78e4f7ac0bd7",
            "_model_module": "@jupyter-widgets/controls",
            "children": [
              "IPY_MODEL_9efa16612c1b4536aa9f37a28cc1a885",
              "IPY_MODEL_d1edac559bf642e599ef3b3171d79df2"
            ]
          }
        },
        "65326348d2934067ad8e78e4f7ac0bd7": {
          "model_module": "@jupyter-widgets/base",
          "model_name": "LayoutModel",
          "model_module_version": "1.2.0",
          "state": {
            "_view_name": "LayoutView",
            "grid_template_rows": null,
            "right": null,
            "justify_content": null,
            "_view_module": "@jupyter-widgets/base",
            "overflow": null,
            "_model_module_version": "1.2.0",
            "_view_count": null,
            "flex_flow": null,
            "width": null,
            "min_width": null,
            "border": null,
            "align_items": null,
            "bottom": null,
            "_model_module": "@jupyter-widgets/base",
            "top": null,
            "grid_column": null,
            "overflow_y": null,
            "overflow_x": null,
            "grid_auto_flow": null,
            "grid_area": null,
            "grid_template_columns": null,
            "flex": null,
            "_model_name": "LayoutModel",
            "justify_items": null,
            "grid_row": null,
            "max_height": null,
            "align_content": null,
            "visibility": null,
            "align_self": null,
            "height": null,
            "min_height": null,
            "padding": null,
            "grid_auto_rows": null,
            "grid_gap": null,
            "max_width": null,
            "order": null,
            "_view_module_version": "1.2.0",
            "grid_template_areas": null,
            "object_position": null,
            "object_fit": null,
            "grid_auto_columns": null,
            "margin": null,
            "display": null,
            "left": null
          }
        },
        "9efa16612c1b4536aa9f37a28cc1a885": {
          "model_module": "@jupyter-widgets/controls",
          "model_name": "LabelModel",
          "model_module_version": "1.5.0",
          "state": {
            "_view_name": "LabelView",
            "style": "IPY_MODEL_1d7268ec90574af6a660a27691b8aec9",
            "_dom_classes": [],
            "description": "",
            "_model_name": "LabelModel",
            "placeholder": "​",
            "_view_module": "@jupyter-widgets/controls",
            "_model_module_version": "1.5.0",
            "value": " 0.01MB of 0.01MB uploaded (0.00MB deduped)\r",
            "_view_count": null,
            "_view_module_version": "1.5.0",
            "description_tooltip": null,
            "_model_module": "@jupyter-widgets/controls",
            "layout": "IPY_MODEL_3bcf7d59647f4704b8cf9799a6376f01"
          }
        },
        "d1edac559bf642e599ef3b3171d79df2": {
          "model_module": "@jupyter-widgets/controls",
          "model_name": "FloatProgressModel",
          "model_module_version": "1.5.0",
          "state": {
            "_view_name": "ProgressView",
            "style": "IPY_MODEL_3e49f1d4cbb2496ab6ec2f06cd637b23",
            "_dom_classes": [],
            "description": "",
            "_model_name": "FloatProgressModel",
            "bar_style": "",
            "max": 1,
            "_view_module": "@jupyter-widgets/controls",
            "_model_module_version": "1.5.0",
            "value": 1,
            "_view_count": null,
            "_view_module_version": "1.5.0",
            "orientation": "horizontal",
            "min": 0,
            "description_tooltip": null,
            "_model_module": "@jupyter-widgets/controls",
            "layout": "IPY_MODEL_a48e7fdf7c304bf0abb3113482294120"
          }
        },
        "1d7268ec90574af6a660a27691b8aec9": {
          "model_module": "@jupyter-widgets/controls",
          "model_name": "DescriptionStyleModel",
          "model_module_version": "1.5.0",
          "state": {
            "_view_name": "StyleView",
            "_model_name": "DescriptionStyleModel",
            "description_width": "",
            "_view_module": "@jupyter-widgets/base",
            "_model_module_version": "1.5.0",
            "_view_count": null,
            "_view_module_version": "1.2.0",
            "_model_module": "@jupyter-widgets/controls"
          }
        },
        "3bcf7d59647f4704b8cf9799a6376f01": {
          "model_module": "@jupyter-widgets/base",
          "model_name": "LayoutModel",
          "model_module_version": "1.2.0",
          "state": {
            "_view_name": "LayoutView",
            "grid_template_rows": null,
            "right": null,
            "justify_content": null,
            "_view_module": "@jupyter-widgets/base",
            "overflow": null,
            "_model_module_version": "1.2.0",
            "_view_count": null,
            "flex_flow": null,
            "width": null,
            "min_width": null,
            "border": null,
            "align_items": null,
            "bottom": null,
            "_model_module": "@jupyter-widgets/base",
            "top": null,
            "grid_column": null,
            "overflow_y": null,
            "overflow_x": null,
            "grid_auto_flow": null,
            "grid_area": null,
            "grid_template_columns": null,
            "flex": null,
            "_model_name": "LayoutModel",
            "justify_items": null,
            "grid_row": null,
            "max_height": null,
            "align_content": null,
            "visibility": null,
            "align_self": null,
            "height": null,
            "min_height": null,
            "padding": null,
            "grid_auto_rows": null,
            "grid_gap": null,
            "max_width": null,
            "order": null,
            "_view_module_version": "1.2.0",
            "grid_template_areas": null,
            "object_position": null,
            "object_fit": null,
            "grid_auto_columns": null,
            "margin": null,
            "display": null,
            "left": null
          }
        },
        "3e49f1d4cbb2496ab6ec2f06cd637b23": {
          "model_module": "@jupyter-widgets/controls",
          "model_name": "ProgressStyleModel",
          "model_module_version": "1.5.0",
          "state": {
            "_view_name": "StyleView",
            "_model_name": "ProgressStyleModel",
            "description_width": "",
            "_view_module": "@jupyter-widgets/base",
            "_model_module_version": "1.5.0",
            "_view_count": null,
            "_view_module_version": "1.2.0",
            "bar_color": null,
            "_model_module": "@jupyter-widgets/controls"
          }
        },
        "a48e7fdf7c304bf0abb3113482294120": {
          "model_module": "@jupyter-widgets/base",
          "model_name": "LayoutModel",
          "model_module_version": "1.2.0",
          "state": {
            "_view_name": "LayoutView",
            "grid_template_rows": null,
            "right": null,
            "justify_content": null,
            "_view_module": "@jupyter-widgets/base",
            "overflow": null,
            "_model_module_version": "1.2.0",
            "_view_count": null,
            "flex_flow": null,
            "width": null,
            "min_width": null,
            "border": null,
            "align_items": null,
            "bottom": null,
            "_model_module": "@jupyter-widgets/base",
            "top": null,
            "grid_column": null,
            "overflow_y": null,
            "overflow_x": null,
            "grid_auto_flow": null,
            "grid_area": null,
            "grid_template_columns": null,
            "flex": null,
            "_model_name": "LayoutModel",
            "justify_items": null,
            "grid_row": null,
            "max_height": null,
            "align_content": null,
            "visibility": null,
            "align_self": null,
            "height": null,
            "min_height": null,
            "padding": null,
            "grid_auto_rows": null,
            "grid_gap": null,
            "max_width": null,
            "order": null,
            "_view_module_version": "1.2.0",
            "grid_template_areas": null,
            "object_position": null,
            "object_fit": null,
            "grid_auto_columns": null,
            "margin": null,
            "display": null,
            "left": null
          }
        }
      }
    }
  },
  "cells": [
    {
      "cell_type": "code",
      "execution_count": 70,
      "metadata": {
        "id": "zHb34_DuaGM-"
      },
      "outputs": [],
      "source": [
        "import torch\n",
        "import torch.nn as nn\n",
        "import numpy as np\n",
        "import wandb\n",
        "\n",
        "from typing import List\n",
        "from IPython.display import clear_output\n",
        "\n",
        "from torch.utils.data import Dataset, DataLoader\n",
        "from torch.nn.utils.rnn import pack_padded_sequence, pad_packed_sequence\n",
        "from torch.nn.utils.rnn import pad_sequence\n",
        "\n",
        "from nerus import load_nerus\n",
        "import nerus\n",
        "\n",
        "import os\n",
        "import json\n",
        "\n",
        "from transformers import BertModel, BertConfig, BertTokenizer"
      ]
    },
    {
      "cell_type": "code",
      "source": [
        "docs = load_nerus('/content/drive/MyDrive/nerus_lenta.conllu.gz')\n",
        "doc = next(docs)"
      ],
      "metadata": {
        "id": "zTjIJs6ilfFL"
      },
      "execution_count": 7,
      "outputs": []
    },
    {
      "cell_type": "code",
      "source": [
        "sent = doc.sents[0]\n",
        "sent.morph.tokens[0]"
      ],
      "metadata": {
        "colab": {
          "base_uri": "https://localhost:8080/"
        },
        "id": "A9po7LhXluih",
        "outputId": "fab423d7-7149-4b4b-f36e-f0a506c36cd5"
      },
      "execution_count": 8,
      "outputs": [
        {
          "output_type": "execute_result",
          "data": {
            "text/plain": [
              "MorphToken(\n",
              "    text='Вице-премьер',\n",
              "    pos='NOUN',\n",
              "    feats={'Animacy': 'Anim',\n",
              "     'Case': 'Nom',\n",
              "     'Gender': 'Masc',\n",
              "     'Number': 'Sing'}\n",
              ")"
            ]
          },
          "metadata": {},
          "execution_count": 8
        }
      ]
    },
    {
      "cell_type": "code",
      "source": [
        "sent.morph"
      ],
      "metadata": {
        "colab": {
          "base_uri": "https://localhost:8080/"
        },
        "id": "6NKGP4AYnUI8",
        "outputId": "e09a2689-0088-4df3-9315-1cabda77a773"
      },
      "execution_count": 9,
      "outputs": [
        {
          "output_type": "execute_result",
          "data": {
            "text/plain": [
              "MorphMarkup(\n",
              "    tokens=[MorphToken(\n",
              "         text='Вице-премьер',\n",
              "         pos='NOUN',\n",
              "         feats={'Animacy': 'Anim',\n",
              "          'Case': 'Nom',\n",
              "          'Gender': 'Masc',\n",
              "          'Number': 'Sing'}\n",
              "     ),\n",
              "     MorphToken(\n",
              "         text='по',\n",
              "         pos='ADP',\n",
              "         feats={}\n",
              "     ),\n",
              "     MorphToken(\n",
              "         text='социальным',\n",
              "         pos='ADJ',\n",
              "         feats={'Case': 'Dat', 'Degree': 'Pos', 'Number': 'Plur'}\n",
              "     ),\n",
              "     MorphToken(\n",
              "         text='вопросам',\n",
              "         pos='NOUN',\n",
              "         feats={'Animacy': 'Inan',\n",
              "          'Case': 'Dat',\n",
              "          'Gender': 'Masc',\n",
              "          'Number': 'Plur'}\n",
              "     ),\n",
              "     MorphToken(\n",
              "         text='Татьяна',\n",
              "         pos='PROPN',\n",
              "         feats={'Animacy': 'Anim',\n",
              "          'Case': 'Nom',\n",
              "          'Gender': 'Fem',\n",
              "          'Number': 'Sing'}\n",
              "     ),\n",
              "     MorphToken(\n",
              "         text='Голикова',\n",
              "         pos='PROPN',\n",
              "         feats={'Animacy': 'Anim',\n",
              "          'Case': 'Nom',\n",
              "          'Gender': 'Fem',\n",
              "          'Number': 'Sing'}\n",
              "     ),\n",
              "     MorphToken(\n",
              "         text='рассказала',\n",
              "         pos='VERB',\n",
              "         feats={'Aspect': 'Perf',\n",
              "          'Gender': 'Fem',\n",
              "          'Mood': 'Ind',\n",
              "          'Number': 'Sing',\n",
              "          'Tense': 'Past',\n",
              "          'VerbForm': 'Fin',\n",
              "          'Voice': 'Act'}\n",
              "     ),\n",
              "     MorphToken(\n",
              "         text=',',\n",
              "         pos='PUNCT',\n",
              "         feats={}\n",
              "     ),\n",
              "     MorphToken(\n",
              "         text='в',\n",
              "         pos='ADP',\n",
              "         feats={}\n",
              "     ),\n",
              "     MorphToken(\n",
              "         text='каких',\n",
              "         pos='DET',\n",
              "         feats={'Case': 'Loc', 'Number': 'Plur'}\n",
              "     ),\n",
              "     MorphToken(\n",
              "         text='регионах',\n",
              "         pos='NOUN',\n",
              "         feats={'Animacy': 'Inan',\n",
              "          'Case': 'Loc',\n",
              "          'Gender': 'Masc',\n",
              "          'Number': 'Plur'}\n",
              "     ),\n",
              "     MorphToken(\n",
              "         text='России',\n",
              "         pos='PROPN',\n",
              "         feats={'Animacy': 'Inan',\n",
              "          'Case': 'Gen',\n",
              "          'Gender': 'Fem',\n",
              "          'Number': 'Sing'}\n",
              "     ),\n",
              "     MorphToken(\n",
              "         text='зафиксирована',\n",
              "         pos='VERB',\n",
              "         feats={'Aspect': 'Perf',\n",
              "          'Gender': 'Fem',\n",
              "          'Number': 'Sing',\n",
              "          'Tense': 'Past',\n",
              "          'Variant': 'Short',\n",
              "          'VerbForm': 'Part',\n",
              "          'Voice': 'Pass'}\n",
              "     ),\n",
              "     MorphToken(\n",
              "         text='наиболее',\n",
              "         pos='ADV',\n",
              "         feats={'Degree': 'Pos'}\n",
              "     ),\n",
              "     MorphToken(\n",
              "         text='высокая',\n",
              "         pos='ADJ',\n",
              "         feats={'Case': 'Nom',\n",
              "          'Degree': 'Pos',\n",
              "          'Gender': 'Fem',\n",
              "          'Number': 'Sing'}\n",
              "     ),\n",
              "     MorphToken(\n",
              "         text='смертность',\n",
              "         pos='NOUN',\n",
              "         feats={'Animacy': 'Inan',\n",
              "          'Case': 'Nom',\n",
              "          'Gender': 'Fem',\n",
              "          'Number': 'Sing'}\n",
              "     ),\n",
              "     MorphToken(\n",
              "         text='от',\n",
              "         pos='ADP',\n",
              "         feats={}\n",
              "     ),\n",
              "     MorphToken(\n",
              "         text='рака',\n",
              "         pos='NOUN',\n",
              "         feats={'Animacy': 'Inan',\n",
              "          'Case': 'Gen',\n",
              "          'Gender': 'Masc',\n",
              "          'Number': 'Sing'}\n",
              "     ),\n",
              "     MorphToken(\n",
              "         text=',',\n",
              "         pos='PUNCT',\n",
              "         feats={}\n",
              "     ),\n",
              "     MorphToken(\n",
              "         text='сообщает',\n",
              "         pos='VERB',\n",
              "         feats={'Aspect': 'Imp',\n",
              "          'Mood': 'Ind',\n",
              "          'Number': 'Sing',\n",
              "          'Person': '3',\n",
              "          'Tense': 'Pres',\n",
              "          'VerbForm': 'Fin',\n",
              "          'Voice': 'Act'}\n",
              "     ),\n",
              "     MorphToken(\n",
              "         text='РИА',\n",
              "         pos='PROPN',\n",
              "         feats={'Animacy': 'Inan',\n",
              "          'Case': 'Nom',\n",
              "          'Gender': 'Neut',\n",
              "          'Number': 'Sing'}\n",
              "     ),\n",
              "     MorphToken(\n",
              "         text='Новости',\n",
              "         pos='PROPN',\n",
              "         feats={'Animacy': 'Inan',\n",
              "          'Case': 'Nom',\n",
              "          'Gender': 'Fem',\n",
              "          'Number': 'Plur'}\n",
              "     ),\n",
              "     MorphToken(\n",
              "         text='.',\n",
              "         pos='PUNCT',\n",
              "         feats={}\n",
              "     )]\n",
              ")"
            ]
          },
          "metadata": {},
          "execution_count": 9
        }
      ]
    },
    {
      "cell_type": "code",
      "source": [
        "len(doc.sents)"
      ],
      "metadata": {
        "colab": {
          "base_uri": "https://localhost:8080/"
        },
        "id": "AQn3Gw6QABzy",
        "outputId": "94e7c400-2507-4f27-a9b1-cdb76f0a00b3"
      },
      "execution_count": 10,
      "outputs": [
        {
          "output_type": "execute_result",
          "data": {
            "text/plain": [
              "6"
            ]
          },
          "metadata": {},
          "execution_count": 10
        }
      ]
    },
    {
      "cell_type": "code",
      "source": [
        "sent.text"
      ],
      "metadata": {
        "colab": {
          "base_uri": "https://localhost:8080/",
          "height": 53
        },
        "id": "ZlFSBvDtClTe",
        "outputId": "9b6da900-71a4-4971-aa06-716a1bf8e64a"
      },
      "execution_count": 11,
      "outputs": [
        {
          "output_type": "execute_result",
          "data": {
            "application/vnd.google.colaboratory.intrinsic+json": {
              "type": "string"
            },
            "text/plain": [
              "'Вице-премьер по социальным вопросам Татьяна Голикова рассказала, в каких регионах России зафиксирована наиболее высокая смертность от рака, сообщает РИА Новости.'"
            ]
          },
          "metadata": {},
          "execution_count": 11
        }
      ]
    },
    {
      "cell_type": "code",
      "source": [
        "sent.tokens[0].text"
      ],
      "metadata": {
        "colab": {
          "base_uri": "https://localhost:8080/",
          "height": 35
        },
        "id": "ayP0YhnPCo8-",
        "outputId": "4c7528dd-d592-40eb-8c3d-ceacddf37779"
      },
      "execution_count": 12,
      "outputs": [
        {
          "output_type": "execute_result",
          "data": {
            "application/vnd.google.colaboratory.intrinsic+json": {
              "type": "string"
            },
            "text/plain": [
              "'Вице-премьер'"
            ]
          },
          "metadata": {},
          "execution_count": 12
        }
      ]
    },
    {
      "cell_type": "code",
      "source": [
        "class Vocab:\n",
        "    def __init__(self, capacity=10000, save_path='./vocab'):\n",
        "        self.capacity = capacity\n",
        "        self.save_path = save_path\n",
        "\n",
        "        self.max_len = 0\n",
        "        self.max_chars = 0\n",
        "\n",
        "        self.i2c = ['<SEP>', '<BEGIN>', '<END>', '<UNK>']\n",
        "        self.c2i = {'<SEP>': 0, '<BEGIN>': 1, '<END>': 2, '<UNK>': 3}\n",
        "\n",
        "        self.i2w = ['<SEP>', '<UNK>']\n",
        "        self.w2i = {'<SEP>': 0, '<UNK>': 1}\n",
        "\n",
        "        self.i2t = ['<SEP>', '<UNK>']\n",
        "        self.t2i = {'<SEP>': 0, '<UNK>': 1}\n",
        "\n",
        "    def load(self, max_len=200, max_chars=1000):\n",
        "        with open(os.path.join(self.save_path, 'words.txt'), 'r') as v:\n",
        "            self.w2i = json.load(v)\n",
        "            self.i2w = [_ for _ in self.w2i]\n",
        "            for k in self.w2i:\n",
        "                self.i2w[self.w2i[k]] = k\n",
        "        with open(os.path.join(self.save_path, 'chars.txt'), 'r') as v:\n",
        "            self.c2i = json.load(v)\n",
        "            self.i2c = [_ for _ in self.c2i]\n",
        "            for k in self.c2i:\n",
        "                self.i2c[self.c2i[k]] = k\n",
        "        with open(os.path.join(self.save_path, 'labels.txt'), 'r') as v:\n",
        "            self.t2i = json.load(v)\n",
        "            self.i2t = [_ for _ in self.t2i]\n",
        "            for k in self.t2i:\n",
        "                self.i2t[self.t2i[k]] = k\n",
        "\n",
        "        self.max_len = max_len\n",
        "        self.max_chars = max_chars\n",
        "\n",
        "    def save(self):\n",
        "        with open(os.path.join(self.save_path, 'words.txt'), 'w') as v:\n",
        "            json.dump(self.w2i, v)\n",
        "        with open(os.path.join(self.save_path, 'chars.txt'), 'w') as v:\n",
        "            json.dump(self.c2i, v)\n",
        "        with open(os.path.join(self.save_path, 'labels.txt'), 'w') as v:\n",
        "            json.dump(self.t2i, v)\n",
        "\n",
        "    def read(self, docs):\n",
        "        for _ in range(self.capacity):\n",
        "            clear_output()\n",
        "            print('Reading: ')\n",
        "            print(_, '/', self.capacity)\n",
        "            doc = next(docs)\n",
        "            for sent in doc.sents:\n",
        "                self.max_len = max(self.max_len, len(sent.tokens))\n",
        "                chars_len = 0\n",
        "                for token in sent.morph.tokens:\n",
        "                    if token.pos not in self.t2i:\n",
        "                        self.i2t.append(token.pos)\n",
        "                        self.t2i[token.pos] = len(self.i2t) - 1\n",
        "                    if token.text not in self.w2i:\n",
        "                        self.i2w.append(token.text)\n",
        "                        self.w2i[token.text] = len(self.i2w) - 1\n",
        "                    for char in token.text:\n",
        "                        chars_len += 1\n",
        "                        if char not in self.c2i:\n",
        "                            self.i2c.append(char)\n",
        "                            self.c2i[char] = len(self.i2c) - 1\n",
        "                self.max_chars = max(self.max_chars, chars_len + 10)\n",
        "\n",
        "class POSDataset(Dataset):\n",
        "    def __init__(self, vocab, capacity=2000):\n",
        "        super().__init__()\n",
        "        self.tokens = []\n",
        "        self.chars = []\n",
        "        self.targets = []\n",
        "        self.capacity = capacity\n",
        "\n",
        "        self.vocab=vocab\n",
        "\n",
        "    def __getitem__(self, i):\n",
        "        return torch.LongTensor(self.chars[i]), torch.LongTensor(self.tokens[i]), torch.LongTensor(self.targets[i])\n",
        "\n",
        "    def __len__(self):\n",
        "        return len(self.chars)\n",
        "\n",
        "    def collate_fn(self, batch):\n",
        "        tokens, words, pos_tags = list(zip(*batch))\n",
        "        tokens = pad_sequence(tokens, batch_first=True)\n",
        "        words = pad_sequence(words, batch_first=True)\n",
        "        pos_tags = pad_sequence(pos_tags, batch_first=True)\n",
        "        return tokens, words, pos_tags\n",
        "\n",
        "    def read(self, docs):\n",
        "        while len(self.chars) < self.capacity:\n",
        "            clear_output()\n",
        "            print('Reading: ')\n",
        "            print(len(self.chars), '/', self.capacity)\n",
        "            doc = next(docs)\n",
        "            for sent in doc.sents:\n",
        "                self.tokens.append([])\n",
        "                self.chars.append([])\n",
        "                self.targets.append([])\n",
        "                for token in sent.morph.tokens:\n",
        "                    if token.pos not in self.vocab.t2i:\n",
        "                        self.targets[-1].append(self.vocab.t2i['<UNK>'])\n",
        "                    else:\n",
        "                        self.targets[-1].append(self.vocab.t2i[token.pos])\n",
        "                    if token.text not in self.vocab.w2i:\n",
        "                        self.tokens[-1].append(self.vocab.w2i['<UNK>'])\n",
        "                    else:\n",
        "                        self.tokens[-1].append(self.vocab.w2i[token.text])\n",
        "                    self.chars[-1].append(self.vocab.c2i['<BEGIN>'])\n",
        "                    for char in token.text:\n",
        "                        if char not in self.vocab.c2i:\n",
        "                            self.chars[-1].append(self.vocab.c2i['<UNK>'])\n",
        "                        else:\n",
        "                            self.chars[-1].append(self.vocab.c2i[char])\n",
        "                self.chars[-1].append(self.vocab.c2i['<BEGIN>'])\n",
        "            "
      ],
      "metadata": {
        "id": "5hLPBPd5hZXn"
      },
      "execution_count": 16,
      "outputs": []
    },
    {
      "cell_type": "code",
      "source": [
        "BATCH_SIZE=128\n",
        "\n",
        "docs = load_nerus('/content/drive/MyDrive/nerus_lenta.conllu.gz')\n",
        "vocab = Vocab(capacity=150000)\n",
        "vocab.read(docs)\n",
        "vocab.save()\n",
        "\n",
        "docs = load_nerus('/content/drive/MyDrive/nerus_lenta.conllu.gz')\n",
        "train_pos_dataset = POSDataset(vocab, capacity=100000)\n",
        "train_pos_dataset.read(docs)\n",
        "\n",
        "val_pos_dataset = POSDataset(vocab, capacity=20000)\n",
        "val_pos_dataset.read(docs)\n",
        "\n",
        "test_pos_dataset = POSDataset(vocab, capacity=20000)\n",
        "test_pos_dataset.read(docs)\n",
        "\n",
        "train_loader = DataLoader(train_pos_dataset, batch_size=128, collate_fn=train_pos_dataset.collate_fn)\n",
        "val_loader = DataLoader(val_pos_dataset, batch_size=128, collate_fn=val_pos_dataset.collate_fn)\n",
        "test_loader = DataLoader(test_pos_dataset, batch_size=128, collate_fn=test_pos_dataset.collate_fn)"
      ],
      "metadata": {
        "colab": {
          "base_uri": "https://localhost:8080/"
        },
        "id": "IWsdGJVriw5d",
        "outputId": "e93ff656-25e7-4cea-a8fe-6ea02488225a"
      },
      "execution_count": 21,
      "outputs": [
        {
          "output_type": "stream",
          "name": "stdout",
          "text": [
            "Reading: \n",
            "19992 / 20000\n"
          ]
        }
      ]
    },
    {
      "cell_type": "code",
      "source": [
        "for batch in train_loader:\n",
        "    print(batch[0].shape, batch[1].shape, batch[2].shape)\n",
        "    break"
      ],
      "metadata": {
        "colab": {
          "base_uri": "https://localhost:8080/"
        },
        "id": "8gJrRkjnppvm",
        "outputId": "b072e9c2-9692-42d7-aba1-2f33cf51a8f5"
      },
      "execution_count": 22,
      "outputs": [
        {
          "output_type": "stream",
          "name": "stdout",
          "text": [
            "torch.Size([128, 290]) torch.Size([128, 39]) torch.Size([128, 39])\n"
          ]
        }
      ]
    },
    {
      "cell_type": "markdown",
      "source": [
        "# Flair Embeddings"
      ],
      "metadata": {
        "id": "HD6Qa9WCpvpE"
      }
    },
    {
      "cell_type": "code",
      "source": [
        "class FlairEmbeddings(nn.Module):\n",
        "    def __init__(self, n_tokens=len(vocab.c2i), max_words=vocab.max_len, embedding_dim=128, hidden_dim=256, dropout=0.3):\n",
        "        super().__init__()\n",
        "        self.embedding = nn.Embedding(n_tokens, embedding_dim)\n",
        "        self.lstm = nn.LSTM(embedding_dim, hidden_dim, num_layers=1, dropout=dropout, bidirectional=True, batch_first=True)\n",
        "        self.dropout = nn.Dropout(dropout)\n",
        "        self.fc = nn.Linear(hidden_dim * 2, n_tokens)\n",
        "\n",
        "        self.max_words = max_words\n",
        "        self.n_tokens = n_tokens\n",
        "\n",
        "        self.hidden_dim = hidden_dim\n",
        "        self.embedding_dim = embedding_dim\n",
        "        \n",
        "    def forward(self, x, hidden=None):\n",
        "        mask = (x != 0).to(torch.long)\n",
        "\n",
        "        lengths = mask.sum(dim=1).to('cpu')\n",
        "        total_length = x.shape[1]\n",
        "        x = self.embedding(x)\n",
        "\n",
        "        x = pack_padded_sequence(x, lengths, batch_first=True, enforce_sorted=False)\n",
        "        output, hidden = self.lstm(x, hidden)\n",
        "        output, _ = pad_packed_sequence(output, batch_first=True)\n",
        "\n",
        "        out = self.dropout(output)\n",
        "        out = self.fc(out)\n",
        "        return output, (out, hidden)\n",
        "\n",
        "    def predict(self, x, hidden=None):\n",
        "        out, _ = self.forward(x.to(dtype=torch.long), hidden)\n",
        "        emb = torch.zeros((x.shape[0], self.max_words, self.hidden_dim*2)).to(device=x.device)\n",
        "        one_ids = (x == 1).nonzero()\n",
        "        j = 0\n",
        "        emb[one_ids[0, 0], 0, self.hidden_dim:] = out[one_ids[0, 0], one_ids[0, 1], self.hidden_dim:]\n",
        "        for i in range(1, one_ids.shape[0]):\n",
        "            if one_ids[i, 0] != one_ids[i - 1, 0]:\n",
        "                emb[one_ids[i, 0] - 1, j, self.hidden_dim:] = 0\n",
        "                j = 0\n",
        "                emb[one_ids[i, 0], j, self.hidden_dim:] = out[one_ids[i, 0], one_ids[i, 1], self.hidden_dim:]\n",
        "            else:\n",
        "                emb[one_ids[i, 0], j, :self.hidden_dim] = out[one_ids[i, 0], one_ids[i, 1], :self.hidden_dim]\n",
        "                j += 1\n",
        "                emb[one_ids[i, 0], j, self.hidden_dim:] = out[one_ids[i, 0], one_ids[i, 1], self.hidden_dim:]\n",
        "\n",
        "        return emb"
      ],
      "metadata": {
        "id": "vQla6GIpmQqn"
      },
      "execution_count": 23,
      "outputs": []
    },
    {
      "cell_type": "code",
      "source": [
        "class FlairTrainer:\n",
        "    def __init__(self, model: nn.Module, train_loader, val_loader, lr=2e-5, betas=(0.9, 0.999),\n",
        "                 project=\"flair_embeddings\", save_every=None, save_path='./'):\n",
        "        self.criterion = nn.CrossEntropyLoss()\n",
        "        self.optimizer = torch.optim.Adam(model.parameters(), lr=lr, betas=betas)\n",
        "        self.train_loader = train_loader\n",
        "        self.val_loader = val_loader\n",
        "        self.model = model\n",
        "        self.save_path = save_path\n",
        "        self.save_every = save_every\n",
        "        self.name = project\n",
        "        wandb.init(project=project)\n",
        "\n",
        "    def train_epoch(self, cuda=True, clip=5):\n",
        "        if cuda:\n",
        "            self.model.cuda()\n",
        "        else:\n",
        "            self.model.cpu()\n",
        "        self.model.train()\n",
        "        total_loss = 0\n",
        "        for batch_idx, (tokens, _, __) in enumerate(self.train_loader):\n",
        "            self.optimizer.zero_grad()\n",
        "            if cuda:\n",
        "                tokens = tokens.cuda()\n",
        "            x = tokens[:, :-1]\n",
        "            y = tokens[:, 1:]\n",
        "            output = self.model(x.to(dtype=torch.long))[1][0]\n",
        "            loss = self.criterion(output.view(-1, output.shape[-1]).to(dtype=torch.float),\n",
        "                                  y.reshape(-1).to(dtype=torch.long))\n",
        "\n",
        "            loss.backward()\n",
        "            nn.utils.clip_grad_norm_(self.model.parameters(), clip)\n",
        "            self.optimizer.step()\n",
        "\n",
        "            total_loss += loss.item()\n",
        "\n",
        "            print('\\rTrain loss: %4f, Batch: %d of %d' % (\n",
        "                total_loss / (batch_idx + 1), batch_idx + 1, len(self.train_loader)), end='')\n",
        "        print()\n",
        "        loss = total_loss / len(self.train_loader)\n",
        "        return loss\n",
        "\n",
        "    def test_epoch(self, cuda=True):\n",
        "        if cuda:\n",
        "            self.model.cuda()\n",
        "        else:\n",
        "            self.model.cpu()\n",
        "        with torch.no_grad():\n",
        "            self.model.eval()\n",
        "            total_loss = 0\n",
        "            for batch_idx, (tokens, _, __) in enumerate(self.val_loader):\n",
        "                if cuda:\n",
        "                    tokens = tokens.cuda()\n",
        "                x = tokens[:, :-1]\n",
        "                y = tokens[:, 1:]\n",
        "                output = self.model(x.to(dtype=torch.long))[1][0]\n",
        "                loss = self.criterion(output.view(-1, output.shape[-1]).to(dtype=torch.float),\n",
        "                                      y.reshape(-1).to(dtype=torch.long))\n",
        "\n",
        "                total_loss += loss.item()\n",
        "\n",
        "                print('\\rVal loss: %4f, Batch: %d of %d' % (\n",
        "                    total_loss / (batch_idx + 1), batch_idx + 1, len(self.val_loader)), end='')\n",
        "            print()\n",
        "            loss = total_loss / len(self.val_loader)\n",
        "            return loss\n",
        "\n",
        "    @staticmethod\n",
        "    def log(epoch, train_loss, test_loss):\n",
        "        wandb.log({\n",
        "            'train': {\n",
        "                'loss': train_loss,\n",
        "            },\n",
        "            'val': {\n",
        "                'loss': test_loss,\n",
        "            },\n",
        "            'epoch': epoch\n",
        "        })\n",
        "\n",
        "    def checkpoint(self, epoch):\n",
        "        torch.save(self.model.state_dict(), os.path.join(self.save_path, self.name + str(epoch) + '.ckpt'))\n",
        "\n",
        "    def fit(self, max_epochs: int = 20, cuda=True, clip=5, log=False):\n",
        "        for epoch in range(max_epochs):\n",
        "            if epoch and self.save_every and epoch % self.save_every == 0:\n",
        "                self.checkpoint(epoch)\n",
        "            print('\\rEpoch: %d' % epoch)\n",
        "            train_loss = self.train_epoch(cuda=cuda, clip=clip)\n",
        "            test_loss = self.test_epoch(cuda=cuda)\n",
        "            if log:\n",
        "                self.log(epoch, train_loss, test_loss)"
      ],
      "metadata": {
        "id": "olUIVQm0pu-Q"
      },
      "execution_count": 27,
      "outputs": []
    },
    {
      "cell_type": "code",
      "source": [
        "flair_model = FlairEmbeddings()\n",
        "flair_trainer = FlairTrainer(flair_model, train_loader, val_loader, lr=3e-4, save_every=5)\n",
        "flair_trainer.fit(log=True)"
      ],
      "metadata": {
        "colab": {
          "base_uri": "https://localhost:8080/",
          "height": 1000,
          "referenced_widgets": [
            "7338278e212c4e9e87fb931b8cc5a253",
            "4c4930a9a1a744d5869420111d57e487",
            "ac92b94593d54fa7802fc038d3b730d5",
            "27579e09ca40464a8153dae5a40ce540",
            "cf41651667644660a5ff6ca74edf0fcd",
            "6cbee6d3de774b4781cbb9949e447de5",
            "8c2e7a20565f4dbb94c992e3842a98d4",
            "91642626de2a40269f08ecdcd0ab3c82"
          ]
        },
        "id": "6RRfzYsFiPlA",
        "outputId": "674a03de-0c7f-4e34-eac4-f624e8365e14"
      },
      "execution_count": 30,
      "outputs": [
        {
          "output_type": "stream",
          "name": "stderr",
          "text": [
            "/usr/local/lib/python3.7/dist-packages/torch/nn/modules/rnn.py:65: UserWarning: dropout option adds dropout after all but last recurrent layer, so non-zero dropout expects num_layers greater than 1, but got dropout=0.3 and num_layers=1\n",
            "  \"num_layers={}\".format(dropout, num_layers))\n"
          ]
        },
        {
          "output_type": "display_data",
          "data": {
            "text/html": [
              "Finishing last run (ID:1fx379r2) before initializing another..."
            ],
            "text/plain": [
              "<IPython.core.display.HTML object>"
            ]
          },
          "metadata": {}
        },
        {
          "output_type": "display_data",
          "data": {
            "text/html": [
              "<br/>Waiting for W&B process to finish, PID 692... <strong style=\"color:green\">(success).</strong>"
            ],
            "text/plain": [
              "<IPython.core.display.HTML object>"
            ]
          },
          "metadata": {}
        },
        {
          "output_type": "display_data",
          "data": {
            "application/vnd.jupyter.widget-view+json": {
              "model_id": "7338278e212c4e9e87fb931b8cc5a253",
              "version_minor": 0,
              "version_major": 2
            },
            "text/plain": [
              "VBox(children=(Label(value=' 0.00MB of 0.00MB uploaded (0.00MB deduped)\\r'), FloatProgress(value=1.0, max=1.0)…"
            ]
          },
          "metadata": {}
        },
        {
          "output_type": "display_data",
          "data": {
            "text/html": [
              "<style>\n",
              "    table.wandb td:nth-child(1) { padding: 0 10px; text-align: right }\n",
              "    .wandb-row { display: flex; flex-direction: row; flex-wrap: wrap; width: 100% }\n",
              "    .wandb-col { display: flex; flex-direction: column; flex-basis: 100%; flex: 1; padding: 10px; }\n",
              "    </style>\n",
              "<div class=\"wandb-row\"><div class=\"wandb-col\">\n",
              "</div><div class=\"wandb-col\">\n",
              "</div></div>\n",
              "Synced 5 W&B file(s), 0 media file(s), 0 artifact file(s) and 0 other file(s)\n",
              "<br/>Synced <strong style=\"color:#cdcd00\">trim-universe-1</strong>: <a href=\"https://wandb.ai/olgaseraya/flair_embeddings/runs/1fx379r2\" target=\"_blank\">https://wandb.ai/olgaseraya/flair_embeddings/runs/1fx379r2</a><br/>\n",
              "Find logs at: <code>./wandb/run-20211219_113548-1fx379r2/logs</code><br/>\n"
            ],
            "text/plain": [
              "<IPython.core.display.HTML object>"
            ]
          },
          "metadata": {}
        },
        {
          "output_type": "display_data",
          "data": {
            "text/html": [
              "Successfully finished last run (ID:1fx379r2). Initializing new run:<br/>"
            ],
            "text/plain": [
              "<IPython.core.display.HTML object>"
            ]
          },
          "metadata": {}
        },
        {
          "output_type": "display_data",
          "data": {
            "text/html": [
              "\n",
              "                    Syncing run <strong><a href=\"https://wandb.ai/olgaseraya/flair_embeddings/runs/5a2kbju1\" target=\"_blank\">fragrant-darkness-2</a></strong> to <a href=\"https://wandb.ai/olgaseraya/flair_embeddings\" target=\"_blank\">Weights & Biases</a> (<a href=\"https://docs.wandb.com/integrations/jupyter.html\" target=\"_blank\">docs</a>).<br/>\n",
              "\n",
              "                "
            ],
            "text/plain": [
              "<IPython.core.display.HTML object>"
            ]
          },
          "metadata": {}
        },
        {
          "output_type": "stream",
          "name": "stdout",
          "text": [
            "Epoch: 0\n",
            "Train loss: 4.896546, Batch: 782 of 782\n",
            "Val loss: 4.508872, Batch: 157 of 157\n",
            "Epoch: 1\n",
            "Train loss: 4.302160, Batch: 782 of 782\n",
            "Val loss: 4.198440, Batch: 157 of 157\n",
            "Epoch: 2\n",
            "Train loss: 3.999873, Batch: 782 of 782\n",
            "Val loss: 3.895781, Batch: 157 of 157\n",
            "Epoch: 3\n",
            "Train loss: 3.700885, Batch: 782 of 782\n",
            "Val loss: 3.593791, Batch: 157 of 157\n",
            "Epoch: 4\n",
            "Train loss: 3.402564, Batch: 782 of 782\n",
            "Val loss: 3.292335, Batch: 157 of 157\n",
            "Epoch: 5\n",
            "Train loss: 3.105017, Batch: 782 of 782\n",
            "Val loss: 2.991888, Batch: 157 of 157\n",
            "Epoch: 6\n",
            "Train loss: 2.808870, Batch: 782 of 782\n",
            "Val loss: 2.693204, Batch: 157 of 157\n",
            "Epoch: 7\n",
            "Train loss: 2.515046, Batch: 782 of 782\n",
            "Val loss: 2.397543, Batch: 157 of 157\n",
            "Epoch: 8\n",
            "Train loss: 2.224989, Batch: 782 of 782\n",
            "Val loss: 2.106562, Batch: 157 of 157\n",
            "Epoch: 9\n",
            "Train loss: 1.940727, Batch: 782 of 782\n",
            "Val loss: 1.822737, Batch: 157 of 157\n",
            "Epoch: 10\n",
            "Train loss: 1.665172, Batch: 782 of 782\n",
            "Val loss: 1.549513, Batch: 157 of 157\n",
            "Epoch: 11\n",
            "Train loss: 1.402245, Batch: 782 of 782\n",
            "Val loss: 1.291424, Batch: 157 of 157\n",
            "Epoch: 12\n",
            "Train loss: 1.156823, Batch: 782 of 782\n",
            "Val loss: 1.053726, Batch: 157 of 157\n",
            "Epoch: 13\n",
            "Train loss: 0.934209, Batch: 782 of 782\n",
            "Val loss: 0.841693, Batch: 157 of 157\n",
            "Epoch: 14\n",
            "Train loss: 0.739103, Batch: 782 of 782\n",
            "Val loss: 0.659369, Batch: 157 of 157\n",
            "Epoch: 15\n",
            "Train loss: 0.574377, Batch: 782 of 782\n",
            "Val loss: 0.508353, Batch: 157 of 157\n",
            "Epoch: 16\n",
            "Train loss: 0.440232, Batch: 782 of 782\n",
            "Val loss: 0.387464, Batch: 157 of 157\n",
            "Epoch: 17\n",
            "Train loss: 0.334307, Batch: 782 of 782\n",
            "Val loss: 0.293289, Batch: 157 of 157\n",
            "Epoch: 18\n",
            "Train loss: 0.252585, Batch: 782 of 782\n",
            "Val loss: 0.221297, Batch: 157 of 157\n",
            "Epoch: 19\n",
            "Train loss: 0.190483, Batch: 782 of 782\n",
            "Val loss: 0.166875, Batch: 157 of 157\n"
          ]
        }
      ]
    },
    {
      "cell_type": "code",
      "source": [
        "flair_model.cpu()"
      ],
      "metadata": {
        "colab": {
          "base_uri": "https://localhost:8080/"
        },
        "id": "467P7-AQ7vki",
        "outputId": "ba3e9260-8eff-4179-d050-550eba021d08"
      },
      "execution_count": 32,
      "outputs": [
        {
          "output_type": "execute_result",
          "data": {
            "text/plain": [
              "FlairEmbeddings(\n",
              "  (embedding): Embedding(1528, 128)\n",
              "  (lstm): LSTM(128, 256, batch_first=True, dropout=0.3, bidirectional=True)\n",
              "  (dropout): Dropout(p=0.3, inplace=False)\n",
              "  (fc): Linear(in_features=512, out_features=1528, bias=True)\n",
              ")"
            ]
          },
          "metadata": {},
          "execution_count": 32
        }
      ]
    },
    {
      "cell_type": "markdown",
      "source": [
        "# POS tagging model"
      ],
      "metadata": {
        "id": "dGXFElf3u9ar"
      }
    },
    {
      "cell_type": "code",
      "source": [
        "class PosTagger(nn.Module):\n",
        "    def __init__(self, output_dim: int, flair, hidden_dim=300,\n",
        "                 feedforward_dim=100, dropout_rate=0.1,\n",
        "                 freeze_emb=True, num_embeddings=None, classic_emb_dim=128):\n",
        "        super(PosTagger, self).__init__()\n",
        "        self.hidden_dim = hidden_dim\n",
        "        self.embedding_dim = flair.hidden_dim * 2\n",
        "        self.embedder = flair.cpu()\n",
        "        self.classic_embeddings = None\n",
        "        if num_embeddings:\n",
        "            self.classic_embeddings = nn.Embedding(num_embeddings, classic_emb_dim)\n",
        "            self.embedding_dim += classic_emb_dim\n",
        "        if freeze_emb:\n",
        "            self.embedder = self.embedder.eval()\n",
        "            for param in self.embedder.parameters():\n",
        "                param.requires_grad = False\n",
        "        self.encoder = nn.LSTM(self.embedding_dim, hidden_dim, num_layers=2, bidirectional=True,\n",
        "                               batch_first=True)\n",
        "        self.feedforward = nn.Linear(2 * hidden_dim, feedforward_dim)\n",
        "        self.out = nn.Linear(feedforward_dim, output_dim)\n",
        "        self.dropout = nn.Dropout(dropout_rate)\n",
        "\n",
        "    def forward(self, x: torch.LongTensor, words: torch.LongTensor):\n",
        "        mask = (words != 0).to(torch.long)\n",
        "        lengths = mask.sum(dim=1).to('cpu')\n",
        "\n",
        "        if self.classic_embeddings:\n",
        "            flair = self.embedder.predict(x)\n",
        "            classic = self.classic_embeddings(words)\n",
        "            classic_target = torch.zeros(classic.shape[0], flair.shape[1], classic.shape[-1]).to(classic.device)\n",
        "            classic_target[:, :classic.shape[1], :] = classic\n",
        "            x = torch.cat([flair, classic_target], dim=-1)\n",
        "        else:\n",
        "            x = self.embedder.predict(x)\n",
        "        x = pack_padded_sequence(x, lengths, batch_first=True, enforce_sorted=False)\n",
        "        x, _ = self.encoder(x)\n",
        "        x, _ = pad_packed_sequence(x, batch_first=True)\n",
        "\n",
        "        x = self.feedforward(x)\n",
        "        x = torch.relu(x)\n",
        "        x = self.dropout(x)\n",
        "        return self.out(x)"
      ],
      "metadata": {
        "id": "BQNwGGQOlzCN"
      },
      "execution_count": 55,
      "outputs": []
    },
    {
      "cell_type": "code",
      "source": [
        "class POSTrainer:\n",
        "    def __init__(self, model: nn.Module, train_loader, val_loader, lr=3e-3, betas=(0.9, 0.999),\n",
        "                 project=\"flair_pos_tagger\", save_every=None, save_path='./', name=None):\n",
        "        self.criterion = nn.CrossEntropyLoss()\n",
        "        self.optimizer = torch.optim.Adam(model.parameters(), lr=lr, betas=betas)\n",
        "        self.train_loader = train_loader\n",
        "        self.val_loader = val_loader\n",
        "        self.model = model\n",
        "        self.save_path = save_path\n",
        "        self.save_every = save_every\n",
        "        self.name = project\n",
        "        wandb.init(project=project, name=name)\n",
        "\n",
        "    def train_epoch(self, cuda=True, clip=5):\n",
        "        if cuda:\n",
        "            self.model.cuda()\n",
        "        else:\n",
        "            self.model.cpu()\n",
        "        self.model.train()\n",
        "        total_loss = 0\n",
        "        total = 0\n",
        "        correct = 0\n",
        "        for batch_idx, (tokens, words, pos_tags) in enumerate(self.train_loader):\n",
        "            self.optimizer.zero_grad()\n",
        "            if cuda:\n",
        "                tokens = tokens.cuda()\n",
        "                pos_tags = pos_tags.cuda()\n",
        "                words = words.cuda()\n",
        "\n",
        "            output = self.model(tokens.to(dtype=torch.long), words)\n",
        "            loss = self.criterion(output.view(-1, output.shape[-1]),\n",
        "                                  pos_tags.view(-1).to(dtype=torch.long))\n",
        "\n",
        "            loss.backward()\n",
        "            nn.utils.clip_grad_norm_(self.model.parameters(), clip)\n",
        "            self.optimizer.step()\n",
        "\n",
        "            total_loss += loss.item()\n",
        "\n",
        "            mask = (words != 0).to(torch.long)\n",
        "            pred = torch.argmax(output, dim=-1)\n",
        "            correct += ((pred == pos_tags)*mask).sum().item()\n",
        "            total += mask.sum().item()\n",
        "            print('\\rTrain loss: %4f, Train accuracy: %4f, Batch: %d of %d' % (\n",
        "                total_loss / (batch_idx + 1), correct / total, batch_idx + 1, len(self.train_loader)\n",
        "            ), end='')\n",
        "        print()\n",
        "        loss, accuracy = total_loss / len(self.train_loader), correct / total\n",
        "        return loss, accuracy\n",
        "\n",
        "    def test_epoch(self, cuda=True):\n",
        "        if cuda:\n",
        "            self.model.cuda()\n",
        "        else:\n",
        "            self.model.cpu()\n",
        "        with torch.no_grad():\n",
        "            self.model.eval()\n",
        "            total_loss = 0\n",
        "            total = 0\n",
        "            correct = 0\n",
        "            for batch_idx, (tokens, words, pos_tags) in enumerate(self.val_loader):\n",
        "                if cuda:\n",
        "                    tokens = tokens.cuda()\n",
        "                    pos_tags = pos_tags.cuda()\n",
        "                    words = words.cuda()\n",
        "\n",
        "                output = self.model(tokens.to(dtype=torch.long), words)\n",
        "                loss = self.criterion(output.view(-1, output.shape[-1]),\n",
        "                                      pos_tags.view(-1).to(dtype=torch.long))\n",
        "                total_loss += loss.item()\n",
        "\n",
        "                mask = (words != 0).to(torch.long)\n",
        "                pred = torch.argmax(output, dim=-1)\n",
        "                correct += ((pred == pos_tags) * mask).sum().item()\n",
        "                total += mask.sum().item()\n",
        "\n",
        "                print('\\rVal loss: %4f, Val accuracy: %4f, Batch: %d of %d' % (\n",
        "                    total_loss / (batch_idx + 1), correct / total, batch_idx + 1, len(self.val_loader)\n",
        "                ), end='')\n",
        "            print()\n",
        "            loss, accuracy = total_loss / len(self.val_loader), correct / total\n",
        "            return loss, accuracy\n",
        "\n",
        "    @staticmethod\n",
        "    def log(epoch, train_loss, train_accuracy, test_loss, test_accuracy):\n",
        "        wandb.log({\n",
        "            'train': {\n",
        "                'loss': train_loss,\n",
        "                'acc': train_accuracy\n",
        "            },\n",
        "            'val': {\n",
        "                'loss': test_loss,\n",
        "                'acc': test_accuracy\n",
        "            },\n",
        "            'epoch': epoch\n",
        "        })\n",
        "\n",
        "    def checkpoint(self, epoch):\n",
        "        torch.save(self.model.state_dict(), os.path.join(self.save_path, self.name + str(epoch) + '.ckpt'))\n",
        "\n",
        "    def fit(self, max_epochs: int = 20, cuda=True, clip=5, log=False):\n",
        "        for epoch in range(max_epochs):\n",
        "            if epoch and self.save_every and epoch % self.save_every == 0:\n",
        "                self.checkpoint(epoch)\n",
        "            print('\\rEpoch: %d' % epoch)\n",
        "            train_loss, train_accuracy = self.train_epoch(cuda=cuda, clip=clip)\n",
        "            test_loss, test_accuracy = self.test_epoch(cuda=cuda)\n",
        "            if log:\n",
        "                self.log(epoch, train_loss, train_accuracy, test_loss, test_accuracy)\n",
        "        if self.save_every:\n",
        "            self.checkpoint(max_epochs)"
      ],
      "metadata": {
        "id": "7w_Kwei_VTZs"
      },
      "execution_count": 58,
      "outputs": []
    },
    {
      "cell_type": "markdown",
      "source": [
        "# Experiments"
      ],
      "metadata": {
        "id": "LIP48i5xuxvd"
      }
    },
    {
      "cell_type": "code",
      "source": [
        "pos_model = PosTagger(len(vocab.t2i), flair_model)\n",
        "pos_trainer = POSTrainer(pos_model, train_loader, val_loader, save_every=1, name='flair_only, lr=3e-3, 10 epochs, hidden_dim=300')\n",
        "pos_trainer.fit(max_epochs=10, log=True)\n",
        "pos_model = PosTagger(len(vocab.t2i), flair_model, hidden_dim=512)\n",
        "pos_trainer = POSTrainer(pos_model, train_loader, val_loader, save_every=1, lr=2e-5, name='flair_only, lr=2e-5, 10 epochs, hidden_dim=512')\n",
        "pos_trainer.fit(max_epochs=10, log=True)\n",
        "pos_model = PosTagger(len(vocab.t2i), flair_model, hidden_dim=128)\n",
        "pos_trainer = POSTrainer(pos_model, train_loader, val_loader, save_every=1, name='flair_only, lr=3e-3, 10 epochs, hidden_dim=128')\n",
        "pos_trainer.fit(max_epochs=10, log=True)"
      ],
      "metadata": {
        "colab": {
          "base_uri": "https://localhost:8080/",
          "height": 1000,
          "referenced_widgets": [
            "10f693cad20d4115a608c4d654614e28",
            "2d08b658210d4d0a9d4ae29a8658163d",
            "9b8fe494de4e4e8c9d0d07731e534f8d",
            "de9c51aae4344b10a2a2ef0b1089ad1d",
            "7e7a076c56444d0b9ca6d3ff9fe4554b",
            "a43f4a4ce6704ac3b5b98330da696c1e",
            "c46b6544e4c2411e8211323ec8837b0e",
            "1e6ae78e4b5846428d4b912dcf6a9292",
            "c836506fdcc44f419c5e0cc56f1c4086",
            "a962cfff1f3c4c67af19e789b4bdcba6",
            "0829fecfba864f9894a5c577e7f88f23",
            "6cfd9fc3feac4b89ba704ecbd57d0490",
            "c3f3cd798ca144a29d3ea6f523010392",
            "19a3cfe5767c40cfba71ebbaaa837d96",
            "4c58f14f2344451b9c6acbb2547ec335",
            "91e66e2e20a6410db643f7faead5f2bf",
            "12e42bfdca7b4ad698136d2b8ba503be",
            "397df724c57b4ff48c428f37a149e6c1",
            "39278a3a14a14c38bdedd298632ff50f",
            "77f4d6a9d2fe4610b5dd8c93828f06e0",
            "31bfacb2c93348c98d43ef4f9bd9451d",
            "bd72eb046c8945128b702aa07f472b6b",
            "5f03cc73397241b383cb04a2243cc36f",
            "a8eefdc2253e482398c88f8b1561d1a3"
          ]
        },
        "id": "sLemcD9v5IiW",
        "outputId": "9c289d55-2420-45f3-8756-cc2b7a8168bd"
      },
      "execution_count": 65,
      "outputs": [
        {
          "output_type": "display_data",
          "data": {
            "text/html": [
              "Finishing last run (ID:2lmkgf6l) before initializing another..."
            ],
            "text/plain": [
              "<IPython.core.display.HTML object>"
            ]
          },
          "metadata": {}
        },
        {
          "output_type": "display_data",
          "data": {
            "text/html": [
              "<br/>Waiting for W&B process to finish, PID 2053... <strong style=\"color:green\">(success).</strong>"
            ],
            "text/plain": [
              "<IPython.core.display.HTML object>"
            ]
          },
          "metadata": {}
        },
        {
          "output_type": "display_data",
          "data": {
            "application/vnd.jupyter.widget-view+json": {
              "model_id": "10f693cad20d4115a608c4d654614e28",
              "version_minor": 0,
              "version_major": 2
            },
            "text/plain": [
              "VBox(children=(Label(value=' 0.00MB of 0.00MB uploaded (0.00MB deduped)\\r'), FloatProgress(value=1.0, max=1.0)…"
            ]
          },
          "metadata": {}
        },
        {
          "output_type": "display_data",
          "data": {
            "text/html": [
              "<style>\n",
              "    table.wandb td:nth-child(1) { padding: 0 10px; text-align: right }\n",
              "    .wandb-row { display: flex; flex-direction: row; flex-wrap: wrap; width: 100% }\n",
              "    .wandb-col { display: flex; flex-direction: column; flex-basis: 100%; flex: 1; padding: 10px; }\n",
              "    </style>\n",
              "<div class=\"wandb-row\"><div class=\"wandb-col\">\n",
              "<h3>Run history:</h3><br/><table class=\"wandb\"><tr><td>epoch</td><td>▁█</td></tr></table><br/></div><div class=\"wandb-col\">\n",
              "<h3>Run summary:</h3><br/><table class=\"wandb\"><tr><td>epoch</td><td>1</td></tr></table>\n",
              "</div></div>\n",
              "Synced 5 W&B file(s), 0 media file(s), 0 artifact file(s) and 0 other file(s)\n",
              "<br/>Synced <strong style=\"color:#cdcd00\">flair_only</strong>: <a href=\"https://wandb.ai/olgaseraya/flair_pos_tagger/runs/2lmkgf6l\" target=\"_blank\">https://wandb.ai/olgaseraya/flair_pos_tagger/runs/2lmkgf6l</a><br/>\n",
              "Find logs at: <code>./wandb/run-20211219_131226-2lmkgf6l/logs</code><br/>\n"
            ],
            "text/plain": [
              "<IPython.core.display.HTML object>"
            ]
          },
          "metadata": {}
        },
        {
          "output_type": "display_data",
          "data": {
            "text/html": [
              "Successfully finished last run (ID:2lmkgf6l). Initializing new run:<br/>"
            ],
            "text/plain": [
              "<IPython.core.display.HTML object>"
            ]
          },
          "metadata": {}
        },
        {
          "output_type": "display_data",
          "data": {
            "text/html": [
              "\n",
              "                    Syncing run <strong><a href=\"https://wandb.ai/olgaseraya/flair_pos_tagger/runs/33htrlja\" target=\"_blank\">flair_only, lr=3e-3, 10 epochs, hidden_dim=300</a></strong> to <a href=\"https://wandb.ai/olgaseraya/flair_pos_tagger\" target=\"_blank\">Weights & Biases</a> (<a href=\"https://docs.wandb.com/integrations/jupyter.html\" target=\"_blank\">docs</a>).<br/>\n",
              "\n",
              "                "
            ],
            "text/plain": [
              "<IPython.core.display.HTML object>"
            ]
          },
          "metadata": {}
        },
        {
          "output_type": "stream",
          "name": "stdout",
          "text": [
            "Epoch: 0\n",
            "Train loss: 0.277874, Train accuracy: 0.844580, Batch: 782 of 782\n",
            "Val loss: 0.076120, Val accuracy: 0.924874, Batch: 157 of 157\n",
            "Epoch: 1\n",
            "Train loss: 0.064065, Train accuracy: 0.940464, Batch: 782 of 782\n",
            "Val loss: 0.050280, Val accuracy: 0.950281, Batch: 157 of 157\n",
            "Epoch: 2\n",
            "Train loss: 0.046206, Train accuracy: 0.956739, Batch: 782 of 782\n",
            "Val loss: 0.038078, Val accuracy: 0.962438, Batch: 157 of 157\n",
            "Epoch: 3\n",
            "Train loss: 0.036685, Train accuracy: 0.965414, Batch: 782 of 782\n",
            "Val loss: 0.033927, Val accuracy: 0.966341, Batch: 157 of 157\n",
            "Epoch: 4\n",
            "Train loss: 0.030763, Train accuracy: 0.970841, Batch: 782 of 782\n",
            "Val loss: 0.031339, Val accuracy: 0.969413, Batch: 157 of 157\n",
            "Epoch: 5\n",
            "Train loss: 0.026975, Train accuracy: 0.974111, Batch: 782 of 782\n",
            "Val loss: 0.029424, Val accuracy: 0.971394, Batch: 157 of 157\n",
            "Epoch: 6\n",
            "Train loss: 0.023406, Train accuracy: 0.977262, Batch: 782 of 782\n",
            "Val loss: 0.027996, Val accuracy: 0.972687, Batch: 157 of 157\n",
            "Epoch: 7\n",
            "Train loss: 0.020978, Train accuracy: 0.979450, Batch: 782 of 782\n",
            "Val loss: 0.028346, Val accuracy: 0.973012, Batch: 157 of 157\n",
            "Epoch: 8\n",
            "Train loss: 0.019357, Train accuracy: 0.980771, Batch: 782 of 782\n",
            "Val loss: 0.028290, Val accuracy: 0.973286, Batch: 157 of 157\n",
            "Epoch: 9\n",
            "Train loss: 0.017387, Train accuracy: 0.982553, Batch: 782 of 782\n",
            "Val loss: 0.030778, Val accuracy: 0.971685, Batch: 157 of 157\n"
          ]
        },
        {
          "output_type": "display_data",
          "data": {
            "text/html": [
              "Finishing last run (ID:33htrlja) before initializing another..."
            ],
            "text/plain": [
              "<IPython.core.display.HTML object>"
            ]
          },
          "metadata": {}
        },
        {
          "output_type": "display_data",
          "data": {
            "text/html": [
              "<br/>Waiting for W&B process to finish, PID 2238... <strong style=\"color:green\">(success).</strong>"
            ],
            "text/plain": [
              "<IPython.core.display.HTML object>"
            ]
          },
          "metadata": {}
        },
        {
          "output_type": "display_data",
          "data": {
            "application/vnd.jupyter.widget-view+json": {
              "model_id": "c836506fdcc44f419c5e0cc56f1c4086",
              "version_minor": 0,
              "version_major": 2
            },
            "text/plain": [
              "VBox(children=(Label(value=' 0.00MB of 0.00MB uploaded (0.00MB deduped)\\r'), FloatProgress(value=1.0, max=1.0)…"
            ]
          },
          "metadata": {}
        },
        {
          "output_type": "display_data",
          "data": {
            "text/html": [
              "<style>\n",
              "    table.wandb td:nth-child(1) { padding: 0 10px; text-align: right }\n",
              "    .wandb-row { display: flex; flex-direction: row; flex-wrap: wrap; width: 100% }\n",
              "    .wandb-col { display: flex; flex-direction: column; flex-basis: 100%; flex: 1; padding: 10px; }\n",
              "    </style>\n",
              "<div class=\"wandb-row\"><div class=\"wandb-col\">\n",
              "<h3>Run history:</h3><br/><table class=\"wandb\"><tr><td>epoch</td><td>▁▂▃▃▄▅▆▆▇█</td></tr></table><br/></div><div class=\"wandb-col\">\n",
              "<h3>Run summary:</h3><br/><table class=\"wandb\"><tr><td>epoch</td><td>9</td></tr></table>\n",
              "</div></div>\n",
              "Synced 5 W&B file(s), 0 media file(s), 0 artifact file(s) and 0 other file(s)\n",
              "<br/>Synced <strong style=\"color:#cdcd00\">flair_only, lr=3e-3, 10 epochs, hidden_dim=300</strong>: <a href=\"https://wandb.ai/olgaseraya/flair_pos_tagger/runs/33htrlja\" target=\"_blank\">https://wandb.ai/olgaseraya/flair_pos_tagger/runs/33htrlja</a><br/>\n",
              "Find logs at: <code>./wandb/run-20211219_133045-33htrlja/logs</code><br/>\n"
            ],
            "text/plain": [
              "<IPython.core.display.HTML object>"
            ]
          },
          "metadata": {}
        },
        {
          "output_type": "display_data",
          "data": {
            "text/html": [
              "Successfully finished last run (ID:33htrlja). Initializing new run:<br/>"
            ],
            "text/plain": [
              "<IPython.core.display.HTML object>"
            ]
          },
          "metadata": {}
        },
        {
          "output_type": "display_data",
          "data": {
            "text/html": [
              "\n",
              "                    Syncing run <strong><a href=\"https://wandb.ai/olgaseraya/flair_pos_tagger/runs/3h9q7chr\" target=\"_blank\">flair_only, lr=2e-5, 10 epochs, hidden_dim=512</a></strong> to <a href=\"https://wandb.ai/olgaseraya/flair_pos_tagger\" target=\"_blank\">Weights & Biases</a> (<a href=\"https://docs.wandb.com/integrations/jupyter.html\" target=\"_blank\">docs</a>).<br/>\n",
              "\n",
              "                "
            ],
            "text/plain": [
              "<IPython.core.display.HTML object>"
            ]
          },
          "metadata": {}
        },
        {
          "output_type": "stream",
          "name": "stdout",
          "text": [
            "Epoch: 0\n",
            "Train loss: 2.435118, Train accuracy: 0.475064, Batch: 782 of 782\n",
            "Val loss: 2.195481, Val accuracy: 0.667277, Batch: 157 of 157\n",
            "Epoch: 1\n",
            "Train loss: 2.064369, Train accuracy: 0.724348, Batch: 782 of 782\n",
            "Val loss: 1.982083, Val accuracy: 0.781865, Batch: 157 of 157\n",
            "Epoch: 2\n",
            "Train loss: 1.880241, Train accuracy: 0.800369, Batch: 782 of 782\n",
            "Val loss: 1.810056, Val accuracy: 0.831031, Batch: 157 of 157\n",
            "Epoch: 3\n",
            "Train loss: 1.705973, Train accuracy: 0.838164, Batch: 782 of 782\n",
            "Val loss: 1.631747, Val accuracy: 0.856731, Batch: 157 of 157\n",
            "Epoch: 4\n",
            "Train loss: 1.522045, Train accuracy: 0.859826, Batch: 782 of 782\n",
            "Val loss: 1.439692, Val accuracy: 0.873506, Batch: 157 of 157\n",
            "Epoch: 5\n",
            "Train loss: 1.326913, Train accuracy: 0.875048, Batch: 782 of 782\n",
            "Val loss: 1.237817, Val accuracy: 0.885902, Batch: 157 of 157\n",
            "Epoch: 6\n",
            "Train loss: 1.126294, Train accuracy: 0.886273, Batch: 782 of 782\n",
            "Val loss: 1.034073, Val accuracy: 0.894908, Batch: 157 of 157\n",
            "Epoch: 7\n",
            "Train loss: 0.928654, Train accuracy: 0.894791, Batch: 782 of 782\n",
            "Val loss: 0.838352, Val accuracy: 0.901799, Batch: 157 of 157\n",
            "Epoch: 8\n",
            "Train loss: 0.744340, Train accuracy: 0.901755, Batch: 782 of 782\n",
            "Val loss: 0.660955, Val accuracy: 0.907821, Batch: 157 of 157\n",
            "Epoch: 9\n",
            "Train loss: 0.582541, Train accuracy: 0.907378, Batch: 782 of 782\n",
            "Val loss: 0.510373, Val accuracy: 0.912176, Batch: 157 of 157\n"
          ]
        },
        {
          "output_type": "display_data",
          "data": {
            "text/html": [
              "Finishing last run (ID:3h9q7chr) before initializing another..."
            ],
            "text/plain": [
              "<IPython.core.display.HTML object>"
            ]
          },
          "metadata": {}
        },
        {
          "output_type": "display_data",
          "data": {
            "text/html": [
              "<br/>Waiting for W&B process to finish, PID 2701... <strong style=\"color:green\">(success).</strong>"
            ],
            "text/plain": [
              "<IPython.core.display.HTML object>"
            ]
          },
          "metadata": {}
        },
        {
          "output_type": "display_data",
          "data": {
            "application/vnd.jupyter.widget-view+json": {
              "model_id": "12e42bfdca7b4ad698136d2b8ba503be",
              "version_minor": 0,
              "version_major": 2
            },
            "text/plain": [
              "VBox(children=(Label(value=' 0.00MB of 0.00MB uploaded (0.00MB deduped)\\r'), FloatProgress(value=1.0, max=1.0)…"
            ]
          },
          "metadata": {}
        },
        {
          "output_type": "display_data",
          "data": {
            "text/html": [
              "<style>\n",
              "    table.wandb td:nth-child(1) { padding: 0 10px; text-align: right }\n",
              "    .wandb-row { display: flex; flex-direction: row; flex-wrap: wrap; width: 100% }\n",
              "    .wandb-col { display: flex; flex-direction: column; flex-basis: 100%; flex: 1; padding: 10px; }\n",
              "    </style>\n",
              "<div class=\"wandb-row\"><div class=\"wandb-col\">\n",
              "<h3>Run history:</h3><br/><table class=\"wandb\"><tr><td>epoch</td><td>▁▂▃▃▄▅▆▆▇█</td></tr></table><br/></div><div class=\"wandb-col\">\n",
              "<h3>Run summary:</h3><br/><table class=\"wandb\"><tr><td>epoch</td><td>9</td></tr></table>\n",
              "</div></div>\n",
              "Synced 5 W&B file(s), 0 media file(s), 0 artifact file(s) and 0 other file(s)\n",
              "<br/>Synced <strong style=\"color:#cdcd00\">flair_only, lr=2e-5, 10 epochs, hidden_dim=512</strong>: <a href=\"https://wandb.ai/olgaseraya/flair_pos_tagger/runs/3h9q7chr\" target=\"_blank\">https://wandb.ai/olgaseraya/flair_pos_tagger/runs/3h9q7chr</a><br/>\n",
              "Find logs at: <code>./wandb/run-20211219_143349-3h9q7chr/logs</code><br/>\n"
            ],
            "text/plain": [
              "<IPython.core.display.HTML object>"
            ]
          },
          "metadata": {}
        },
        {
          "output_type": "display_data",
          "data": {
            "text/html": [
              "Successfully finished last run (ID:3h9q7chr). Initializing new run:<br/>"
            ],
            "text/plain": [
              "<IPython.core.display.HTML object>"
            ]
          },
          "metadata": {}
        },
        {
          "output_type": "display_data",
          "data": {
            "text/html": [
              "\n",
              "                    Syncing run <strong><a href=\"https://wandb.ai/olgaseraya/flair_pos_tagger/runs/u5q01lum\" target=\"_blank\">flair_only, lr=3e-3, 10 epochs, hidden_dim=128</a></strong> to <a href=\"https://wandb.ai/olgaseraya/flair_pos_tagger\" target=\"_blank\">Weights & Biases</a> (<a href=\"https://docs.wandb.com/integrations/jupyter.html\" target=\"_blank\">docs</a>).<br/>\n",
              "\n",
              "                "
            ],
            "text/plain": [
              "<IPython.core.display.HTML object>"
            ]
          },
          "metadata": {}
        },
        {
          "output_type": "stream",
          "name": "stdout",
          "text": [
            "Epoch: 0\n",
            "Train loss: 0.267049, Train accuracy: 0.844632, Batch: 782 of 782\n",
            "Val loss: 0.072028, Val accuracy: 0.929799, Batch: 157 of 157\n",
            "Epoch: 1\n",
            "Train loss: 0.067407, Train accuracy: 0.937131, Batch: 782 of 782\n",
            "Val loss: 0.051451, Val accuracy: 0.949466, Batch: 157 of 157\n",
            "Epoch: 2\n",
            "Train loss: 0.049784, Train accuracy: 0.953405, Batch: 782 of 782\n",
            "Val loss: 0.042557, Val accuracy: 0.958275, Batch: 157 of 157\n",
            "Epoch: 3\n",
            "Train loss: 0.041222, Train accuracy: 0.961124, Batch: 782 of 782\n",
            "Val loss: 0.037761, Val accuracy: 0.962976, Batch: 157 of 157\n",
            "Epoch: 4\n",
            "Train loss: 0.035386, Train accuracy: 0.966538, Batch: 782 of 782\n",
            "Val loss: 0.034903, Val accuracy: 0.965862, Batch: 157 of 157\n",
            "Epoch: 5\n",
            "Train loss: 0.030707, Train accuracy: 0.970720, Batch: 782 of 782\n",
            "Val loss: 0.031339, Val accuracy: 0.969333, Batch: 157 of 157\n",
            "Epoch: 6\n",
            "Train loss: 0.027906, Train accuracy: 0.973209, Batch: 782 of 782\n",
            "Val loss: 0.029790, Val accuracy: 0.970651, Batch: 157 of 157\n",
            "Epoch: 7\n",
            "Train loss: 0.025667, Train accuracy: 0.975103, Batch: 782 of 782\n",
            "Val loss: 0.030499, Val accuracy: 0.970186, Batch: 157 of 157\n",
            "Epoch: 8\n",
            "Train loss: 0.023702, Train accuracy: 0.976905, Batch: 782 of 782\n",
            "Val loss: 0.028585, Val accuracy: 0.972435, Batch: 157 of 157\n",
            "Epoch: 9\n",
            "Train loss: 0.022164, Train accuracy: 0.978357, Batch: 782 of 782\n",
            "Val loss: 0.028279, Val accuracy: 0.973120, Batch: 157 of 157\n"
          ]
        }
      ]
    },
    {
      "cell_type": "code",
      "source": [
        "pos_model = PosTagger(len(vocab.t2i), flair_model, num_embeddings=len(vocab.w2i))\n",
        "pos_trainer = POSTrainer(pos_model, train_loader, val_loader, save_every=1, name='flair_and_classic_embeddings lr=3e-3, 10 epochs, hidden_dim=300')\n",
        "pos_trainer.fit(max_epochs=10, log=True)\n",
        "pos_model = PosTagger(len(vocab.t2i), flair_model, num_embeddings=len(vocab.w2i), hidden_dim=512)\n",
        "pos_trainer = POSTrainer(pos_model, train_loader, val_loader, save_every=1, lr=2e-5, name='flair_and_classic_embeddings lr=2e-5, 10 epochs, hidden_dim=512')\n",
        "pos_trainer.fit(max_epochs=10, log=True)\n",
        "pos_model = PosTagger(len(vocab.t2i), flair_model, num_embeddings=len(vocab.w2i), hidden_dim=128)\n",
        "pos_trainer = POSTrainer(pos_model, train_loader, val_loader, save_every=1, name='flair_and_classic_embeddings lr=3e-3, 10 epochs, hidden_dim=300')\n",
        "pos_trainer.fit(max_epochs=10, log=True)"
      ],
      "metadata": {
        "id": "YQql2ZNx5X9j",
        "colab": {
          "base_uri": "https://localhost:8080/",
          "height": 1000,
          "referenced_widgets": [
            "2dcdd938085b43569e89577dffcef0a2",
            "805d27d7ed7448c09dd4c813059ee766",
            "3025109f60234129ac3bf56a7a43fb26",
            "b7894b1d3477462aaa66b48a9fb6c9c1",
            "ed0a8830b275435ebc8175f750d3b3fb",
            "8ac93c4079cd4aab9736629a62514308",
            "dd6f90cd294f4a7b9347f5e9991daccf",
            "e309ab8e7c644e9a9e96fe88776d7022",
            "361b591579c04701b8d333d0cae7d15a",
            "0b6d5a6cbdaa46aeadc1d5994ba3579c",
            "bf278356083a41a7bbd8610ed0212332",
            "e76a4390d1de49edb75fdd425611c6fe",
            "250e1660636c4b23a7d839285683bce6",
            "48e04df1357f4aae9481fa51c93091d4",
            "f55c4b077de04131abe412132dbe5c33",
            "02b0604bb5a642e5ae502e1f8dcac580",
            "4043cb6e4a844b31a84e0d9ec85b2bb2",
            "9843412f03ad4821a395ae268e7467fb",
            "0f1de44b5b6b4585a61d7f89bd35b1c9",
            "1ba01a69aef845fa8b78d65b6f134e02",
            "7264f61d0cbd4a20849a0303faaa5496",
            "a069debfd9d544dab131f7329b323bb1",
            "7b4f85f0a03f44ea91508c12d9283721",
            "0288f1310f9944e8b78d1c754a919dc0"
          ]
        },
        "outputId": "94646284-649f-440a-db81-6729d0cea2f8"
      },
      "execution_count": 66,
      "outputs": [
        {
          "data": {
            "text/html": [
              "Finishing last run (ID:u5q01lum) before initializing another..."
            ],
            "text/plain": [
              "<IPython.core.display.HTML object>"
            ]
          },
          "metadata": {},
          "output_type": "display_data"
        },
        {
          "data": {
            "text/html": [
              "<br/>Waiting for W&B process to finish, PID 3088... <strong style=\"color:green\">(success).</strong>"
            ],
            "text/plain": [
              "<IPython.core.display.HTML object>"
            ]
          },
          "metadata": {},
          "output_type": "display_data"
        },
        {
          "data": {
            "application/vnd.jupyter.widget-view+json": {
              "model_id": "2dcdd938085b43569e89577dffcef0a2",
              "version_major": 2,
              "version_minor": 0
            },
            "text/plain": [
              "VBox(children=(Label(value=' 0.00MB of 0.00MB uploaded (0.00MB deduped)\\r'), FloatProgress(value=1.0, max=1.0)…"
            ]
          },
          "metadata": {},
          "output_type": "display_data"
        },
        {
          "data": {
            "text/html": [
              "<style>\n",
              "    table.wandb td:nth-child(1) { padding: 0 10px; text-align: right }\n",
              "    .wandb-row { display: flex; flex-direction: row; flex-wrap: wrap; width: 100% }\n",
              "    .wandb-col { display: flex; flex-direction: column; flex-basis: 100%; flex: 1; padding: 10px; }\n",
              "    </style>\n",
              "<div class=\"wandb-row\"><div class=\"wandb-col\">\n",
              "<h3>Run history:</h3><br/><table class=\"wandb\"><tr><td>epoch</td><td>▁▂▃▃▄▅▆▆▇█</td></tr></table><br/></div><div class=\"wandb-col\">\n",
              "<h3>Run summary:</h3><br/><table class=\"wandb\"><tr><td>epoch</td><td>9</td></tr></table>\n",
              "</div></div>\n",
              "Synced 5 W&B file(s), 0 media file(s), 0 artifact file(s) and 0 other file(s)\n",
              "<br/>Synced <strong style=\"color:#cdcd00\">flair_only, lr=3e-3, 10 epochs, hidden_dim=128</strong>: <a href=\"https://wandb.ai/olgaseraya/flair_pos_tagger/runs/u5q01lum\" target=\"_blank\">https://wandb.ai/olgaseraya/flair_pos_tagger/runs/u5q01lum</a><br/>\n",
              "Find logs at: <code>./wandb/run-20211219_153929-u5q01lum/logs</code><br/>\n"
            ],
            "text/plain": [
              "<IPython.core.display.HTML object>"
            ]
          },
          "metadata": {},
          "output_type": "display_data"
        },
        {
          "data": {
            "text/html": [
              "Successfully finished last run (ID:u5q01lum). Initializing new run:<br/>"
            ],
            "text/plain": [
              "<IPython.core.display.HTML object>"
            ]
          },
          "metadata": {},
          "output_type": "display_data"
        },
        {
          "data": {
            "text/html": [
              "\n",
              "                    Syncing run <strong><a href=\"https://wandb.ai/olgaseraya/flair_pos_tagger/runs/3q69cf39\" target=\"_blank\">flair_and_classic_embeddings lr=3e-3, 10 epochs, hidden_dim=300</a></strong> to <a href=\"https://wandb.ai/olgaseraya/flair_pos_tagger\" target=\"_blank\">Weights & Biases</a> (<a href=\"https://docs.wandb.com/integrations/jupyter.html\" target=\"_blank\">docs</a>).<br/>\n",
              "\n",
              "                "
            ],
            "text/plain": [
              "<IPython.core.display.HTML object>"
            ]
          },
          "metadata": {},
          "output_type": "display_data"
        },
        {
          "output_type": "stream",
          "name": "stdout",
          "text": [
            "Epoch: 0\n",
            "Train loss: 0.209309, Train accuracy: 0.903603, Batch: 782 of 782\n",
            "Val loss: 0.034328, Val accuracy: 0.968017, Batch: 157 of 157\n",
            "Epoch: 1\n",
            "Train loss: 0.023957, Train accuracy: 0.978655, Batch: 782 of 782\n",
            "Val loss: 0.025686, Val accuracy: 0.976640, Batch: 157 of 157\n",
            "Epoch: 2\n",
            "Train loss: 0.013836, Train accuracy: 0.987581, Batch: 782 of 782\n",
            "Val loss: 0.025926, Val accuracy: 0.977829, Batch: 157 of 157\n",
            "Epoch: 3\n",
            "Train loss: 0.009688, Train accuracy: 0.991108, Batch: 782 of 782\n",
            "Val loss: 0.027298, Val accuracy: 0.977560, Batch: 157 of 157\n",
            "Epoch: 4\n",
            "Train loss: 0.007510, Train accuracy: 0.992960, Batch: 782 of 782\n",
            "Val loss: 0.028459, Val accuracy: 0.978499, Batch: 157 of 157\n",
            "Epoch: 5\n",
            "Train loss: 0.006216, Train accuracy: 0.994118, Batch: 782 of 782\n",
            "Val loss: 0.030365, Val accuracy: 0.978759, Batch: 157 of 157\n",
            "Epoch: 6\n",
            "Train loss: 0.005475, Train accuracy: 0.994724, Batch: 782 of 782\n",
            "Val loss: 0.031749, Val accuracy: 0.978532, Batch: 157 of 157\n",
            "Epoch: 7\n",
            "Train loss: 0.004647, Train accuracy: 0.995467, Batch: 782 of 782\n",
            "Val loss: 0.033954, Val accuracy: 0.979117, Batch: 157 of 157\n",
            "Epoch: 8\n",
            "Train loss: 0.004162, Train accuracy: 0.995921, Batch: 782 of 782\n",
            "Val loss: 0.035857, Val accuracy: 0.978649, Batch: 157 of 157\n",
            "Epoch: 9\n",
            "Train loss: 0.003872, Train accuracy: 0.996183, Batch: 782 of 782\n",
            "Val loss: 0.035771, Val accuracy: 0.979973, Batch: 157 of 157\n"
          ]
        },
        {
          "output_type": "display_data",
          "data": {
            "text/html": [
              "Finishing last run (ID:3q69cf39) before initializing another..."
            ],
            "text/plain": [
              "<IPython.core.display.HTML object>"
            ]
          },
          "metadata": {}
        },
        {
          "output_type": "display_data",
          "data": {
            "text/html": [
              "<br/>Waiting for W&B process to finish, PID 3321... <strong style=\"color:green\">(success).</strong>"
            ],
            "text/plain": [
              "<IPython.core.display.HTML object>"
            ]
          },
          "metadata": {}
        },
        {
          "output_type": "display_data",
          "data": {
            "application/vnd.jupyter.widget-view+json": {
              "model_id": "361b591579c04701b8d333d0cae7d15a",
              "version_minor": 0,
              "version_major": 2
            },
            "text/plain": [
              "VBox(children=(Label(value=' 0.00MB of 0.00MB uploaded (0.00MB deduped)\\r'), FloatProgress(value=1.0, max=1.0)…"
            ]
          },
          "metadata": {}
        },
        {
          "output_type": "display_data",
          "data": {
            "text/html": [
              "<style>\n",
              "    table.wandb td:nth-child(1) { padding: 0 10px; text-align: right }\n",
              "    .wandb-row { display: flex; flex-direction: row; flex-wrap: wrap; width: 100% }\n",
              "    .wandb-col { display: flex; flex-direction: column; flex-basis: 100%; flex: 1; padding: 10px; }\n",
              "    </style>\n",
              "<div class=\"wandb-row\"><div class=\"wandb-col\">\n",
              "<h3>Run history:</h3><br/><table class=\"wandb\"><tr><td>epoch</td><td>▁▂▃▃▄▅▆▆▇█</td></tr></table><br/></div><div class=\"wandb-col\">\n",
              "<h3>Run summary:</h3><br/><table class=\"wandb\"><tr><td>epoch</td><td>9</td></tr></table>\n",
              "</div></div>\n",
              "Synced 5 W&B file(s), 0 media file(s), 0 artifact file(s) and 0 other file(s)\n",
              "<br/>Synced <strong style=\"color:#cdcd00\">flair_and_classic_embeddings lr=3e-3, 10 epochs, hidden_dim=300</strong>: <a href=\"https://wandb.ai/olgaseraya/flair_pos_tagger/runs/3q69cf39\" target=\"_blank\">https://wandb.ai/olgaseraya/flair_pos_tagger/runs/3q69cf39</a><br/>\n",
              "Find logs at: <code>./wandb/run-20211219_164040-3q69cf39/logs</code><br/>\n"
            ],
            "text/plain": [
              "<IPython.core.display.HTML object>"
            ]
          },
          "metadata": {}
        },
        {
          "output_type": "display_data",
          "data": {
            "text/html": [
              "Successfully finished last run (ID:3q69cf39). Initializing new run:<br/>"
            ],
            "text/plain": [
              "<IPython.core.display.HTML object>"
            ]
          },
          "metadata": {}
        },
        {
          "output_type": "display_data",
          "data": {
            "text/html": [
              "\n",
              "                    Syncing run <strong><a href=\"https://wandb.ai/olgaseraya/flair_pos_tagger/runs/13jr9lq2\" target=\"_blank\">flair_and_classic_embeddings lr=2e-5, 10 epochs, hidden_dim=512</a></strong> to <a href=\"https://wandb.ai/olgaseraya/flair_pos_tagger\" target=\"_blank\">Weights & Biases</a> (<a href=\"https://docs.wandb.com/integrations/jupyter.html\" target=\"_blank\">docs</a>).<br/>\n",
              "\n",
              "                "
            ],
            "text/plain": [
              "<IPython.core.display.HTML object>"
            ]
          },
          "metadata": {}
        },
        {
          "output_type": "stream",
          "name": "stdout",
          "text": [
            "Epoch: 0\n",
            "Train loss: 2.410107, Train accuracy: 0.536319, Batch: 782 of 782\n",
            "Val loss: 2.159173, Val accuracy: 0.735777, Batch: 157 of 157\n",
            "Epoch: 1\n",
            "Train loss: 2.038514, Train accuracy: 0.780370, Batch: 782 of 782\n",
            "Val loss: 1.966802, Val accuracy: 0.832773, Batch: 157 of 157\n",
            "Epoch: 2\n",
            "Train loss: 1.865614, Train accuracy: 0.851137, Batch: 782 of 782\n",
            "Val loss: 1.806317, Val accuracy: 0.877960, Batch: 157 of 157\n",
            "Epoch: 3\n",
            "Train loss: 1.702158, Train accuracy: 0.886614, Batch: 782 of 782\n",
            "Val loss: 1.638913, Val accuracy: 0.902024, Batch: 157 of 157\n",
            "Epoch: 4\n",
            "Train loss: 1.529262, Train accuracy: 0.907433, Batch: 782 of 782\n",
            "Val loss: 1.458826, Val accuracy: 0.917763, Batch: 157 of 157\n",
            "Epoch: 5\n",
            "Train loss: 1.345619, Train accuracy: 0.921433, Batch: 782 of 782\n",
            "Val loss: 1.268764, Val accuracy: 0.928228, Batch: 157 of 157\n",
            "Epoch: 6\n",
            "Train loss: 1.155103, Train accuracy: 0.931508, Batch: 782 of 782\n",
            "Val loss: 1.074334, Val accuracy: 0.935730, Batch: 157 of 157\n",
            "Epoch: 7\n",
            "Train loss: 0.964152, Train accuracy: 0.938954, Batch: 782 of 782\n",
            "Val loss: 0.883060, Val accuracy: 0.941527, Batch: 157 of 157\n",
            "Epoch: 8\n",
            "Train loss: 0.781353, Train accuracy: 0.944998, Batch: 782 of 782\n",
            "Val loss: 0.704841, Val accuracy: 0.945705, Batch: 157 of 157\n",
            "Epoch: 9\n",
            "Train loss: 0.615345, Train accuracy: 0.949672, Batch: 782 of 782\n",
            "Val loss: 0.547240, Val accuracy: 0.949378, Batch: 157 of 157\n"
          ]
        },
        {
          "output_type": "display_data",
          "data": {
            "text/html": [
              "Finishing last run (ID:13jr9lq2) before initializing another..."
            ],
            "text/plain": [
              "<IPython.core.display.HTML object>"
            ]
          },
          "metadata": {}
        },
        {
          "output_type": "display_data",
          "data": {
            "text/html": [
              "<br/>Waiting for W&B process to finish, PID 3488... <strong style=\"color:green\">(success).</strong>"
            ],
            "text/plain": [
              "<IPython.core.display.HTML object>"
            ]
          },
          "metadata": {}
        },
        {
          "output_type": "display_data",
          "data": {
            "application/vnd.jupyter.widget-view+json": {
              "model_id": "4043cb6e4a844b31a84e0d9ec85b2bb2",
              "version_minor": 0,
              "version_major": 2
            },
            "text/plain": [
              "VBox(children=(Label(value=' 0.00MB of 0.00MB uploaded (0.00MB deduped)\\r'), FloatProgress(value=1.0, max=1.0)…"
            ]
          },
          "metadata": {}
        },
        {
          "output_type": "display_data",
          "data": {
            "text/html": [
              "<style>\n",
              "    table.wandb td:nth-child(1) { padding: 0 10px; text-align: right }\n",
              "    .wandb-row { display: flex; flex-direction: row; flex-wrap: wrap; width: 100% }\n",
              "    .wandb-col { display: flex; flex-direction: column; flex-basis: 100%; flex: 1; padding: 10px; }\n",
              "    </style>\n",
              "<div class=\"wandb-row\"><div class=\"wandb-col\">\n",
              "<h3>Run history:</h3><br/><table class=\"wandb\"><tr><td>epoch</td><td>▁▂▃▃▄▅▆▆▇█</td></tr></table><br/></div><div class=\"wandb-col\">\n",
              "<h3>Run summary:</h3><br/><table class=\"wandb\"><tr><td>epoch</td><td>9</td></tr></table>\n",
              "</div></div>\n",
              "Synced 5 W&B file(s), 0 media file(s), 0 artifact file(s) and 0 other file(s)\n",
              "<br/>Synced <strong style=\"color:#cdcd00\">flair_and_classic_embeddings lr=2e-5, 10 epochs, hidden_dim=512</strong>: <a href=\"https://wandb.ai/olgaseraya/flair_pos_tagger/runs/13jr9lq2\" target=\"_blank\">https://wandb.ai/olgaseraya/flair_pos_tagger/runs/13jr9lq2</a><br/>\n",
              "Find logs at: <code>./wandb/run-20211219_174633-13jr9lq2/logs</code><br/>\n"
            ],
            "text/plain": [
              "<IPython.core.display.HTML object>"
            ]
          },
          "metadata": {}
        },
        {
          "output_type": "display_data",
          "data": {
            "text/html": [
              "Successfully finished last run (ID:13jr9lq2). Initializing new run:<br/>"
            ],
            "text/plain": [
              "<IPython.core.display.HTML object>"
            ]
          },
          "metadata": {}
        },
        {
          "output_type": "display_data",
          "data": {
            "text/html": [
              "\n",
              "                    Syncing run <strong><a href=\"https://wandb.ai/olgaseraya/flair_pos_tagger/runs/21j21amv\" target=\"_blank\">flair_and_classic_embeddings lr=3e-3, 10 epochs, hidden_dim=300</a></strong> to <a href=\"https://wandb.ai/olgaseraya/flair_pos_tagger\" target=\"_blank\">Weights & Biases</a> (<a href=\"https://docs.wandb.com/integrations/jupyter.html\" target=\"_blank\">docs</a>).<br/>\n",
              "\n",
              "                "
            ],
            "text/plain": [
              "<IPython.core.display.HTML object>"
            ]
          },
          "metadata": {}
        },
        {
          "output_type": "stream",
          "name": "stdout",
          "text": [
            "Epoch: 0\n",
            "Train loss: 0.201540, Train accuracy: 0.904869, Batch: 782 of 782\n",
            "Val loss: 0.033950, Val accuracy: 0.968433, Batch: 157 of 157\n",
            "Epoch: 1\n",
            "Train loss: 0.024841, Train accuracy: 0.978014, Batch: 782 of 782\n",
            "Val loss: 0.026312, Val accuracy: 0.975729, Batch: 157 of 157\n",
            "Epoch: 2\n",
            "Train loss: 0.014495, Train accuracy: 0.987091, Batch: 782 of 782\n",
            "Val loss: 0.025666, Val accuracy: 0.977840, Batch: 157 of 157\n",
            "Epoch: 3\n",
            "Train loss: 0.010260, Train accuracy: 0.990669, Batch: 782 of 782\n",
            "Val loss: 0.031603, Val accuracy: 0.975072, Batch: 157 of 157\n",
            "Epoch: 4\n",
            "Train loss: 0.008095, Train accuracy: 0.992448, Batch: 782 of 782\n",
            "Val loss: 0.028982, Val accuracy: 0.978815, Batch: 157 of 157\n",
            "Epoch: 5\n",
            "Train loss: 0.006385, Train accuracy: 0.993950, Batch: 782 of 782\n",
            "Val loss: 0.029737, Val accuracy: 0.979327, Batch: 157 of 157\n",
            "Epoch: 6\n",
            "Train loss: 0.005542, Train accuracy: 0.994636, Batch: 782 of 782\n",
            "Val loss: 0.030726, Val accuracy: 0.978737, Batch: 157 of 157\n",
            "Epoch: 7\n",
            "Train loss: 0.004683, Train accuracy: 0.995401, Batch: 782 of 782\n",
            "Val loss: 0.032796, Val accuracy: 0.978995, Batch: 157 of 157\n",
            "Epoch: 8\n",
            "Train loss: 0.004217, Train accuracy: 0.995847, Batch: 782 of 782\n",
            "Val loss: 0.032821, Val accuracy: 0.979410, Batch: 157 of 157\n",
            "Epoch: 9\n",
            "Train loss: 0.003833, Train accuracy: 0.996210, Batch: 782 of 782\n",
            "Val loss: 0.037297, Val accuracy: 0.978211, Batch: 157 of 157\n"
          ]
        }
      ]
    },
    {
      "cell_type": "code",
      "source": [
        "pos_model = PosTagger(len(vocab.t2i), flair_model, freeze_emb=False)\n",
        "pos_trainer = POSTrainer(pos_model, train_loader, val_loader, name='flair_no_freeze')\n",
        "pos_trainer.fit(max_epochs=10, log=True)"
      ],
      "metadata": {
        "colab": {
          "base_uri": "https://localhost:8080/",
          "height": 813,
          "referenced_widgets": [
            "5f36bdd3dee44426a4b1994536a68d4d",
            "65326348d2934067ad8e78e4f7ac0bd7",
            "9efa16612c1b4536aa9f37a28cc1a885",
            "d1edac559bf642e599ef3b3171d79df2",
            "1d7268ec90574af6a660a27691b8aec9",
            "3bcf7d59647f4704b8cf9799a6376f01",
            "3e49f1d4cbb2496ab6ec2f06cd637b23",
            "a48e7fdf7c304bf0abb3113482294120"
          ]
        },
        "id": "mfdMxkiSl76t",
        "outputId": "8ab41cbf-8af3-4f64-d5ae-a3ed51836b66"
      },
      "execution_count": 67,
      "outputs": [
        {
          "output_type": "display_data",
          "data": {
            "text/html": [
              "Finishing last run (ID:21j21amv) before initializing another..."
            ],
            "text/plain": [
              "<IPython.core.display.HTML object>"
            ]
          },
          "metadata": {}
        },
        {
          "output_type": "display_data",
          "data": {
            "text/html": [
              "<br/>Waiting for W&B process to finish, PID 3529... <strong style=\"color:green\">(success).</strong>"
            ],
            "text/plain": [
              "<IPython.core.display.HTML object>"
            ]
          },
          "metadata": {}
        },
        {
          "output_type": "display_data",
          "data": {
            "application/vnd.jupyter.widget-view+json": {
              "model_id": "5f36bdd3dee44426a4b1994536a68d4d",
              "version_minor": 0,
              "version_major": 2
            },
            "text/plain": [
              "VBox(children=(Label(value=' 0.00MB of 0.00MB uploaded (0.00MB deduped)\\r'), FloatProgress(value=1.0, max=1.0)…"
            ]
          },
          "metadata": {}
        },
        {
          "output_type": "display_data",
          "data": {
            "text/html": [
              "<style>\n",
              "    table.wandb td:nth-child(1) { padding: 0 10px; text-align: right }\n",
              "    .wandb-row { display: flex; flex-direction: row; flex-wrap: wrap; width: 100% }\n",
              "    .wandb-col { display: flex; flex-direction: column; flex-basis: 100%; flex: 1; padding: 10px; }\n",
              "    </style>\n",
              "<div class=\"wandb-row\"><div class=\"wandb-col\">\n",
              "<h3>Run history:</h3><br/><table class=\"wandb\"><tr><td>epoch</td><td>▁▂▃▃▄▅▆▆▇█</td></tr></table><br/></div><div class=\"wandb-col\">\n",
              "<h3>Run summary:</h3><br/><table class=\"wandb\"><tr><td>epoch</td><td>9</td></tr></table>\n",
              "</div></div>\n",
              "Synced 5 W&B file(s), 0 media file(s), 0 artifact file(s) and 0 other file(s)\n",
              "<br/>Synced <strong style=\"color:#cdcd00\">flair_and_classic_embeddings lr=3e-3, 10 epochs, hidden_dim=300</strong>: <a href=\"https://wandb.ai/olgaseraya/flair_pos_tagger/runs/21j21amv\" target=\"_blank\">https://wandb.ai/olgaseraya/flair_pos_tagger/runs/21j21amv</a><br/>\n",
              "Find logs at: <code>./wandb/run-20211219_185521-21j21amv/logs</code><br/>\n"
            ],
            "text/plain": [
              "<IPython.core.display.HTML object>"
            ]
          },
          "metadata": {}
        },
        {
          "output_type": "display_data",
          "data": {
            "text/html": [
              "Successfully finished last run (ID:21j21amv). Initializing new run:<br/>"
            ],
            "text/plain": [
              "<IPython.core.display.HTML object>"
            ]
          },
          "metadata": {}
        },
        {
          "output_type": "display_data",
          "data": {
            "text/html": [
              "\n",
              "                    Syncing run <strong><a href=\"https://wandb.ai/olgaseraya/flair_pos_tagger/runs/3svhmsbz\" target=\"_blank\">flair_no_freeze</a></strong> to <a href=\"https://wandb.ai/olgaseraya/flair_pos_tagger\" target=\"_blank\">Weights & Biases</a> (<a href=\"https://docs.wandb.com/integrations/jupyter.html\" target=\"_blank\">docs</a>).<br/>\n",
              "\n",
              "                "
            ],
            "text/plain": [
              "<IPython.core.display.HTML object>"
            ]
          },
          "metadata": {}
        },
        {
          "output_type": "stream",
          "name": "stdout",
          "text": [
            "Epoch: 0\n",
            "Train loss: 0.273362, Train accuracy: 0.838490, Batch: 782 of 782\n",
            "Val loss: 0.071590, Val accuracy: 0.930375, Batch: 157 of 157\n",
            "Epoch: 1\n",
            "Train loss: 0.064916, Train accuracy: 0.939655, Batch: 782 of 782\n",
            "Val loss: 0.049390, Val accuracy: 0.951760, Batch: 157 of 157\n",
            "Epoch: 2\n",
            "Train loss: 0.046180, Train accuracy: 0.956824, Batch: 782 of 782\n",
            "Val loss: 0.038343, Val accuracy: 0.962377, Batch: 157 of 157\n",
            "Epoch: 3\n",
            "Train loss: 0.036761, Train accuracy: 0.965310, Batch: 782 of 782\n",
            "Val loss: 0.035645, Val accuracy: 0.964931, Batch: 157 of 157\n",
            "Epoch: 4\n",
            "Train loss: 0.030778, Train accuracy: 0.970733, Batch: 782 of 782\n",
            "Val loss: 0.031877, Val accuracy: 0.968823, Batch: 157 of 157\n",
            "Epoch: 5\n",
            "Train loss: 0.026705, Train accuracy: 0.974288, Batch: 782 of 782\n",
            "Val loss: 0.031471, Val accuracy: 0.969474, Batch: 157 of 157\n",
            "Epoch: 6\n",
            "Train loss: 0.023524, Train accuracy: 0.977200, Batch: 782 of 782\n",
            "Val loss: 0.028808, Val accuracy: 0.971926, Batch: 157 of 157\n",
            "Epoch: 7\n",
            "Train loss: 0.021117, Train accuracy: 0.979322, Batch: 782 of 782\n",
            "Val loss: 0.027975, Val accuracy: 0.973394, Batch: 157 of 157\n",
            "Epoch: 8\n",
            "Train loss: 0.019100, Train accuracy: 0.981082, Batch: 782 of 782\n",
            "Val loss: 0.028800, Val accuracy: 0.973541, Batch: 157 of 157\n",
            "Epoch: 9\n",
            "Train loss: 0.017386, Train accuracy: 0.982569, Batch: 782 of 782\n",
            "Val loss: 0.028418, Val accuracy: 0.974352, Batch: 157 of 157\n"
          ]
        }
      ]
    },
    {
      "cell_type": "code",
      "source": [
        ""
      ],
      "metadata": {
        "id": "1AAQ1y3Hw9K-"
      },
      "execution_count": null,
      "outputs": []
    }
  ]
}