{
  "nbformat": 4,
  "nbformat_minor": 0,
  "metadata": {
    "colab": {
      "name": "NLP_hometask.ipynb",
      "provenance": [],
      "machine_shape": "hm",
      "collapsed_sections": []
    },
    "kernelspec": {
      "name": "python3",
      "display_name": "Python 3"
    },
    "language_info": {
      "name": "python"
    },
    "accelerator": "GPU",
    "widgets": {
      "application/vnd.jupyter.widget-state+json": {
        "b6fd1cb8e56b4257800d01cecdb59343": {
          "model_module": "@jupyter-widgets/controls",
          "model_name": "VBoxModel",
          "model_module_version": "1.5.0",
          "state": {
            "_view_name": "VBoxView",
            "_dom_classes": [],
            "_model_name": "VBoxModel",
            "_view_module": "@jupyter-widgets/controls",
            "_model_module_version": "1.5.0",
            "_view_count": null,
            "_view_module_version": "1.5.0",
            "box_style": "",
            "layout": "IPY_MODEL_4148beb6806643baa49d84547a0e176f",
            "_model_module": "@jupyter-widgets/controls",
            "children": [
              "IPY_MODEL_036aa9eac35f4765b3d53719fdb0b069",
              "IPY_MODEL_861edd5434ba4af082b3d428de9251c2"
            ]
          }
        },
        "4148beb6806643baa49d84547a0e176f": {
          "model_module": "@jupyter-widgets/base",
          "model_name": "LayoutModel",
          "model_module_version": "1.2.0",
          "state": {
            "_view_name": "LayoutView",
            "grid_template_rows": null,
            "right": null,
            "justify_content": null,
            "_view_module": "@jupyter-widgets/base",
            "overflow": null,
            "_model_module_version": "1.2.0",
            "_view_count": null,
            "flex_flow": null,
            "width": null,
            "min_width": null,
            "border": null,
            "align_items": null,
            "bottom": null,
            "_model_module": "@jupyter-widgets/base",
            "top": null,
            "grid_column": null,
            "overflow_y": null,
            "overflow_x": null,
            "grid_auto_flow": null,
            "grid_area": null,
            "grid_template_columns": null,
            "flex": null,
            "_model_name": "LayoutModel",
            "justify_items": null,
            "grid_row": null,
            "max_height": null,
            "align_content": null,
            "visibility": null,
            "align_self": null,
            "height": null,
            "min_height": null,
            "padding": null,
            "grid_auto_rows": null,
            "grid_gap": null,
            "max_width": null,
            "order": null,
            "_view_module_version": "1.2.0",
            "grid_template_areas": null,
            "object_position": null,
            "object_fit": null,
            "grid_auto_columns": null,
            "margin": null,
            "display": null,
            "left": null
          }
        },
        "036aa9eac35f4765b3d53719fdb0b069": {
          "model_module": "@jupyter-widgets/controls",
          "model_name": "LabelModel",
          "model_module_version": "1.5.0",
          "state": {
            "_view_name": "LabelView",
            "style": "IPY_MODEL_fa239edf802d47de8f5e34e766b51742",
            "_dom_classes": [],
            "description": "",
            "_model_name": "LabelModel",
            "placeholder": "​",
            "_view_module": "@jupyter-widgets/controls",
            "_model_module_version": "1.5.0",
            "value": " 0.01MB of 0.01MB uploaded (0.00MB deduped)\r",
            "_view_count": null,
            "_view_module_version": "1.5.0",
            "description_tooltip": null,
            "_model_module": "@jupyter-widgets/controls",
            "layout": "IPY_MODEL_f3660406fb8d4c3294827283b54c415c"
          }
        },
        "861edd5434ba4af082b3d428de9251c2": {
          "model_module": "@jupyter-widgets/controls",
          "model_name": "FloatProgressModel",
          "model_module_version": "1.5.0",
          "state": {
            "_view_name": "ProgressView",
            "style": "IPY_MODEL_cf0260105bc9473b8e96c4687c50906d",
            "_dom_classes": [],
            "description": "",
            "_model_name": "FloatProgressModel",
            "bar_style": "",
            "max": 1,
            "_view_module": "@jupyter-widgets/controls",
            "_model_module_version": "1.5.0",
            "value": 1,
            "_view_count": null,
            "_view_module_version": "1.5.0",
            "orientation": "horizontal",
            "min": 0,
            "description_tooltip": null,
            "_model_module": "@jupyter-widgets/controls",
            "layout": "IPY_MODEL_31616047b9fb4fe9a6382e3a5a76c92f"
          }
        },
        "fa239edf802d47de8f5e34e766b51742": {
          "model_module": "@jupyter-widgets/controls",
          "model_name": "DescriptionStyleModel",
          "model_module_version": "1.5.0",
          "state": {
            "_view_name": "StyleView",
            "_model_name": "DescriptionStyleModel",
            "description_width": "",
            "_view_module": "@jupyter-widgets/base",
            "_model_module_version": "1.5.0",
            "_view_count": null,
            "_view_module_version": "1.2.0",
            "_model_module": "@jupyter-widgets/controls"
          }
        },
        "f3660406fb8d4c3294827283b54c415c": {
          "model_module": "@jupyter-widgets/base",
          "model_name": "LayoutModel",
          "model_module_version": "1.2.0",
          "state": {
            "_view_name": "LayoutView",
            "grid_template_rows": null,
            "right": null,
            "justify_content": null,
            "_view_module": "@jupyter-widgets/base",
            "overflow": null,
            "_model_module_version": "1.2.0",
            "_view_count": null,
            "flex_flow": null,
            "width": null,
            "min_width": null,
            "border": null,
            "align_items": null,
            "bottom": null,
            "_model_module": "@jupyter-widgets/base",
            "top": null,
            "grid_column": null,
            "overflow_y": null,
            "overflow_x": null,
            "grid_auto_flow": null,
            "grid_area": null,
            "grid_template_columns": null,
            "flex": null,
            "_model_name": "LayoutModel",
            "justify_items": null,
            "grid_row": null,
            "max_height": null,
            "align_content": null,
            "visibility": null,
            "align_self": null,
            "height": null,
            "min_height": null,
            "padding": null,
            "grid_auto_rows": null,
            "grid_gap": null,
            "max_width": null,
            "order": null,
            "_view_module_version": "1.2.0",
            "grid_template_areas": null,
            "object_position": null,
            "object_fit": null,
            "grid_auto_columns": null,
            "margin": null,
            "display": null,
            "left": null
          }
        },
        "cf0260105bc9473b8e96c4687c50906d": {
          "model_module": "@jupyter-widgets/controls",
          "model_name": "ProgressStyleModel",
          "model_module_version": "1.5.0",
          "state": {
            "_view_name": "StyleView",
            "_model_name": "ProgressStyleModel",
            "description_width": "",
            "_view_module": "@jupyter-widgets/base",
            "_model_module_version": "1.5.0",
            "_view_count": null,
            "_view_module_version": "1.2.0",
            "bar_color": null,
            "_model_module": "@jupyter-widgets/controls"
          }
        },
        "31616047b9fb4fe9a6382e3a5a76c92f": {
          "model_module": "@jupyter-widgets/base",
          "model_name": "LayoutModel",
          "model_module_version": "1.2.0",
          "state": {
            "_view_name": "LayoutView",
            "grid_template_rows": null,
            "right": null,
            "justify_content": null,
            "_view_module": "@jupyter-widgets/base",
            "overflow": null,
            "_model_module_version": "1.2.0",
            "_view_count": null,
            "flex_flow": null,
            "width": null,
            "min_width": null,
            "border": null,
            "align_items": null,
            "bottom": null,
            "_model_module": "@jupyter-widgets/base",
            "top": null,
            "grid_column": null,
            "overflow_y": null,
            "overflow_x": null,
            "grid_auto_flow": null,
            "grid_area": null,
            "grid_template_columns": null,
            "flex": null,
            "_model_name": "LayoutModel",
            "justify_items": null,
            "grid_row": null,
            "max_height": null,
            "align_content": null,
            "visibility": null,
            "align_self": null,
            "height": null,
            "min_height": null,
            "padding": null,
            "grid_auto_rows": null,
            "grid_gap": null,
            "max_width": null,
            "order": null,
            "_view_module_version": "1.2.0",
            "grid_template_areas": null,
            "object_position": null,
            "object_fit": null,
            "grid_auto_columns": null,
            "margin": null,
            "display": null,
            "left": null
          }
        },
        "751fe75952354d88910f1de8af6757de": {
          "model_module": "@jupyter-widgets/controls",
          "model_name": "VBoxModel",
          "model_module_version": "1.5.0",
          "state": {
            "_view_name": "VBoxView",
            "_dom_classes": [],
            "_model_name": "VBoxModel",
            "_view_module": "@jupyter-widgets/controls",
            "_model_module_version": "1.5.0",
            "_view_count": null,
            "_view_module_version": "1.5.0",
            "box_style": "",
            "layout": "IPY_MODEL_1b0ce22609e8434c935ff717a9baece2",
            "_model_module": "@jupyter-widgets/controls",
            "children": [
              "IPY_MODEL_b66fc7d7d9bf4663b55420e5f965d682",
              "IPY_MODEL_a76c166753664b79b7fa58f752eb5dc9"
            ]
          }
        },
        "1b0ce22609e8434c935ff717a9baece2": {
          "model_module": "@jupyter-widgets/base",
          "model_name": "LayoutModel",
          "model_module_version": "1.2.0",
          "state": {
            "_view_name": "LayoutView",
            "grid_template_rows": null,
            "right": null,
            "justify_content": null,
            "_view_module": "@jupyter-widgets/base",
            "overflow": null,
            "_model_module_version": "1.2.0",
            "_view_count": null,
            "flex_flow": null,
            "width": null,
            "min_width": null,
            "border": null,
            "align_items": null,
            "bottom": null,
            "_model_module": "@jupyter-widgets/base",
            "top": null,
            "grid_column": null,
            "overflow_y": null,
            "overflow_x": null,
            "grid_auto_flow": null,
            "grid_area": null,
            "grid_template_columns": null,
            "flex": null,
            "_model_name": "LayoutModel",
            "justify_items": null,
            "grid_row": null,
            "max_height": null,
            "align_content": null,
            "visibility": null,
            "align_self": null,
            "height": null,
            "min_height": null,
            "padding": null,
            "grid_auto_rows": null,
            "grid_gap": null,
            "max_width": null,
            "order": null,
            "_view_module_version": "1.2.0",
            "grid_template_areas": null,
            "object_position": null,
            "object_fit": null,
            "grid_auto_columns": null,
            "margin": null,
            "display": null,
            "left": null
          }
        },
        "b66fc7d7d9bf4663b55420e5f965d682": {
          "model_module": "@jupyter-widgets/controls",
          "model_name": "LabelModel",
          "model_module_version": "1.5.0",
          "state": {
            "_view_name": "LabelView",
            "style": "IPY_MODEL_c446ed770f92455dbba49a2122a1a149",
            "_dom_classes": [],
            "description": "",
            "_model_name": "LabelModel",
            "placeholder": "​",
            "_view_module": "@jupyter-widgets/controls",
            "_model_module_version": "1.5.0",
            "value": " 0.01MB of 0.01MB uploaded (0.00MB deduped)\r",
            "_view_count": null,
            "_view_module_version": "1.5.0",
            "description_tooltip": null,
            "_model_module": "@jupyter-widgets/controls",
            "layout": "IPY_MODEL_f01c6665d5cb4ca18cb1c4de7c67d204"
          }
        },
        "a76c166753664b79b7fa58f752eb5dc9": {
          "model_module": "@jupyter-widgets/controls",
          "model_name": "FloatProgressModel",
          "model_module_version": "1.5.0",
          "state": {
            "_view_name": "ProgressView",
            "style": "IPY_MODEL_b006b6d4385e4fbab5c4c5811cb22208",
            "_dom_classes": [],
            "description": "",
            "_model_name": "FloatProgressModel",
            "bar_style": "",
            "max": 1,
            "_view_module": "@jupyter-widgets/controls",
            "_model_module_version": "1.5.0",
            "value": 1,
            "_view_count": null,
            "_view_module_version": "1.5.0",
            "orientation": "horizontal",
            "min": 0,
            "description_tooltip": null,
            "_model_module": "@jupyter-widgets/controls",
            "layout": "IPY_MODEL_e52cac1da4694304be1fecde905202fa"
          }
        },
        "c446ed770f92455dbba49a2122a1a149": {
          "model_module": "@jupyter-widgets/controls",
          "model_name": "DescriptionStyleModel",
          "model_module_version": "1.5.0",
          "state": {
            "_view_name": "StyleView",
            "_model_name": "DescriptionStyleModel",
            "description_width": "",
            "_view_module": "@jupyter-widgets/base",
            "_model_module_version": "1.5.0",
            "_view_count": null,
            "_view_module_version": "1.2.0",
            "_model_module": "@jupyter-widgets/controls"
          }
        },
        "f01c6665d5cb4ca18cb1c4de7c67d204": {
          "model_module": "@jupyter-widgets/base",
          "model_name": "LayoutModel",
          "model_module_version": "1.2.0",
          "state": {
            "_view_name": "LayoutView",
            "grid_template_rows": null,
            "right": null,
            "justify_content": null,
            "_view_module": "@jupyter-widgets/base",
            "overflow": null,
            "_model_module_version": "1.2.0",
            "_view_count": null,
            "flex_flow": null,
            "width": null,
            "min_width": null,
            "border": null,
            "align_items": null,
            "bottom": null,
            "_model_module": "@jupyter-widgets/base",
            "top": null,
            "grid_column": null,
            "overflow_y": null,
            "overflow_x": null,
            "grid_auto_flow": null,
            "grid_area": null,
            "grid_template_columns": null,
            "flex": null,
            "_model_name": "LayoutModel",
            "justify_items": null,
            "grid_row": null,
            "max_height": null,
            "align_content": null,
            "visibility": null,
            "align_self": null,
            "height": null,
            "min_height": null,
            "padding": null,
            "grid_auto_rows": null,
            "grid_gap": null,
            "max_width": null,
            "order": null,
            "_view_module_version": "1.2.0",
            "grid_template_areas": null,
            "object_position": null,
            "object_fit": null,
            "grid_auto_columns": null,
            "margin": null,
            "display": null,
            "left": null
          }
        },
        "b006b6d4385e4fbab5c4c5811cb22208": {
          "model_module": "@jupyter-widgets/controls",
          "model_name": "ProgressStyleModel",
          "model_module_version": "1.5.0",
          "state": {
            "_view_name": "StyleView",
            "_model_name": "ProgressStyleModel",
            "description_width": "",
            "_view_module": "@jupyter-widgets/base",
            "_model_module_version": "1.5.0",
            "_view_count": null,
            "_view_module_version": "1.2.0",
            "bar_color": null,
            "_model_module": "@jupyter-widgets/controls"
          }
        },
        "e52cac1da4694304be1fecde905202fa": {
          "model_module": "@jupyter-widgets/base",
          "model_name": "LayoutModel",
          "model_module_version": "1.2.0",
          "state": {
            "_view_name": "LayoutView",
            "grid_template_rows": null,
            "right": null,
            "justify_content": null,
            "_view_module": "@jupyter-widgets/base",
            "overflow": null,
            "_model_module_version": "1.2.0",
            "_view_count": null,
            "flex_flow": null,
            "width": null,
            "min_width": null,
            "border": null,
            "align_items": null,
            "bottom": null,
            "_model_module": "@jupyter-widgets/base",
            "top": null,
            "grid_column": null,
            "overflow_y": null,
            "overflow_x": null,
            "grid_auto_flow": null,
            "grid_area": null,
            "grid_template_columns": null,
            "flex": null,
            "_model_name": "LayoutModel",
            "justify_items": null,
            "grid_row": null,
            "max_height": null,
            "align_content": null,
            "visibility": null,
            "align_self": null,
            "height": null,
            "min_height": null,
            "padding": null,
            "grid_auto_rows": null,
            "grid_gap": null,
            "max_width": null,
            "order": null,
            "_view_module_version": "1.2.0",
            "grid_template_areas": null,
            "object_position": null,
            "object_fit": null,
            "grid_auto_columns": null,
            "margin": null,
            "display": null,
            "left": null
          }
        },
        "c1d19cfc52314e2d9776aa7963b4b344": {
          "model_module": "@jupyter-widgets/controls",
          "model_name": "VBoxModel",
          "model_module_version": "1.5.0",
          "state": {
            "_view_name": "VBoxView",
            "_dom_classes": [],
            "_model_name": "VBoxModel",
            "_view_module": "@jupyter-widgets/controls",
            "_model_module_version": "1.5.0",
            "_view_count": null,
            "_view_module_version": "1.5.0",
            "box_style": "",
            "layout": "IPY_MODEL_50d29d90feeb422d9419f9039bd54aa6",
            "_model_module": "@jupyter-widgets/controls",
            "children": [
              "IPY_MODEL_2bcdfff891584f84adaec8147c7ef264",
              "IPY_MODEL_1e3f80e7e3f04f56a6742c0a98966014"
            ]
          }
        },
        "50d29d90feeb422d9419f9039bd54aa6": {
          "model_module": "@jupyter-widgets/base",
          "model_name": "LayoutModel",
          "model_module_version": "1.2.0",
          "state": {
            "_view_name": "LayoutView",
            "grid_template_rows": null,
            "right": null,
            "justify_content": null,
            "_view_module": "@jupyter-widgets/base",
            "overflow": null,
            "_model_module_version": "1.2.0",
            "_view_count": null,
            "flex_flow": null,
            "width": null,
            "min_width": null,
            "border": null,
            "align_items": null,
            "bottom": null,
            "_model_module": "@jupyter-widgets/base",
            "top": null,
            "grid_column": null,
            "overflow_y": null,
            "overflow_x": null,
            "grid_auto_flow": null,
            "grid_area": null,
            "grid_template_columns": null,
            "flex": null,
            "_model_name": "LayoutModel",
            "justify_items": null,
            "grid_row": null,
            "max_height": null,
            "align_content": null,
            "visibility": null,
            "align_self": null,
            "height": null,
            "min_height": null,
            "padding": null,
            "grid_auto_rows": null,
            "grid_gap": null,
            "max_width": null,
            "order": null,
            "_view_module_version": "1.2.0",
            "grid_template_areas": null,
            "object_position": null,
            "object_fit": null,
            "grid_auto_columns": null,
            "margin": null,
            "display": null,
            "left": null
          }
        },
        "2bcdfff891584f84adaec8147c7ef264": {
          "model_module": "@jupyter-widgets/controls",
          "model_name": "LabelModel",
          "model_module_version": "1.5.0",
          "state": {
            "_view_name": "LabelView",
            "style": "IPY_MODEL_b7ffb720619c45b7996b22d5ba5b28f8",
            "_dom_classes": [],
            "description": "",
            "_model_name": "LabelModel",
            "placeholder": "​",
            "_view_module": "@jupyter-widgets/controls",
            "_model_module_version": "1.5.0",
            "value": " 0.01MB of 0.01MB uploaded (0.00MB deduped)\r",
            "_view_count": null,
            "_view_module_version": "1.5.0",
            "description_tooltip": null,
            "_model_module": "@jupyter-widgets/controls",
            "layout": "IPY_MODEL_98dd9dc844814f088d4598d7166f5ae5"
          }
        },
        "1e3f80e7e3f04f56a6742c0a98966014": {
          "model_module": "@jupyter-widgets/controls",
          "model_name": "FloatProgressModel",
          "model_module_version": "1.5.0",
          "state": {
            "_view_name": "ProgressView",
            "style": "IPY_MODEL_945ceecbc90d41b79344350b3f534928",
            "_dom_classes": [],
            "description": "",
            "_model_name": "FloatProgressModel",
            "bar_style": "",
            "max": 1,
            "_view_module": "@jupyter-widgets/controls",
            "_model_module_version": "1.5.0",
            "value": 1,
            "_view_count": null,
            "_view_module_version": "1.5.0",
            "orientation": "horizontal",
            "min": 0,
            "description_tooltip": null,
            "_model_module": "@jupyter-widgets/controls",
            "layout": "IPY_MODEL_bb1a494b460e4604a8e8384b6333c6d5"
          }
        },
        "b7ffb720619c45b7996b22d5ba5b28f8": {
          "model_module": "@jupyter-widgets/controls",
          "model_name": "DescriptionStyleModel",
          "model_module_version": "1.5.0",
          "state": {
            "_view_name": "StyleView",
            "_model_name": "DescriptionStyleModel",
            "description_width": "",
            "_view_module": "@jupyter-widgets/base",
            "_model_module_version": "1.5.0",
            "_view_count": null,
            "_view_module_version": "1.2.0",
            "_model_module": "@jupyter-widgets/controls"
          }
        },
        "98dd9dc844814f088d4598d7166f5ae5": {
          "model_module": "@jupyter-widgets/base",
          "model_name": "LayoutModel",
          "model_module_version": "1.2.0",
          "state": {
            "_view_name": "LayoutView",
            "grid_template_rows": null,
            "right": null,
            "justify_content": null,
            "_view_module": "@jupyter-widgets/base",
            "overflow": null,
            "_model_module_version": "1.2.0",
            "_view_count": null,
            "flex_flow": null,
            "width": null,
            "min_width": null,
            "border": null,
            "align_items": null,
            "bottom": null,
            "_model_module": "@jupyter-widgets/base",
            "top": null,
            "grid_column": null,
            "overflow_y": null,
            "overflow_x": null,
            "grid_auto_flow": null,
            "grid_area": null,
            "grid_template_columns": null,
            "flex": null,
            "_model_name": "LayoutModel",
            "justify_items": null,
            "grid_row": null,
            "max_height": null,
            "align_content": null,
            "visibility": null,
            "align_self": null,
            "height": null,
            "min_height": null,
            "padding": null,
            "grid_auto_rows": null,
            "grid_gap": null,
            "max_width": null,
            "order": null,
            "_view_module_version": "1.2.0",
            "grid_template_areas": null,
            "object_position": null,
            "object_fit": null,
            "grid_auto_columns": null,
            "margin": null,
            "display": null,
            "left": null
          }
        },
        "945ceecbc90d41b79344350b3f534928": {
          "model_module": "@jupyter-widgets/controls",
          "model_name": "ProgressStyleModel",
          "model_module_version": "1.5.0",
          "state": {
            "_view_name": "StyleView",
            "_model_name": "ProgressStyleModel",
            "description_width": "",
            "_view_module": "@jupyter-widgets/base",
            "_model_module_version": "1.5.0",
            "_view_count": null,
            "_view_module_version": "1.2.0",
            "bar_color": null,
            "_model_module": "@jupyter-widgets/controls"
          }
        },
        "bb1a494b460e4604a8e8384b6333c6d5": {
          "model_module": "@jupyter-widgets/base",
          "model_name": "LayoutModel",
          "model_module_version": "1.2.0",
          "state": {
            "_view_name": "LayoutView",
            "grid_template_rows": null,
            "right": null,
            "justify_content": null,
            "_view_module": "@jupyter-widgets/base",
            "overflow": null,
            "_model_module_version": "1.2.0",
            "_view_count": null,
            "flex_flow": null,
            "width": null,
            "min_width": null,
            "border": null,
            "align_items": null,
            "bottom": null,
            "_model_module": "@jupyter-widgets/base",
            "top": null,
            "grid_column": null,
            "overflow_y": null,
            "overflow_x": null,
            "grid_auto_flow": null,
            "grid_area": null,
            "grid_template_columns": null,
            "flex": null,
            "_model_name": "LayoutModel",
            "justify_items": null,
            "grid_row": null,
            "max_height": null,
            "align_content": null,
            "visibility": null,
            "align_self": null,
            "height": null,
            "min_height": null,
            "padding": null,
            "grid_auto_rows": null,
            "grid_gap": null,
            "max_width": null,
            "order": null,
            "_view_module_version": "1.2.0",
            "grid_template_areas": null,
            "object_position": null,
            "object_fit": null,
            "grid_auto_columns": null,
            "margin": null,
            "display": null,
            "left": null
          }
        },
        "b463c04cbd7640eb8c0a0bc3471aad58": {
          "model_module": "@jupyter-widgets/controls",
          "model_name": "VBoxModel",
          "model_module_version": "1.5.0",
          "state": {
            "_view_name": "VBoxView",
            "_dom_classes": [],
            "_model_name": "VBoxModel",
            "_view_module": "@jupyter-widgets/controls",
            "_model_module_version": "1.5.0",
            "_view_count": null,
            "_view_module_version": "1.5.0",
            "box_style": "",
            "layout": "IPY_MODEL_9e589bf599bd48b599644f18e6185467",
            "_model_module": "@jupyter-widgets/controls",
            "children": [
              "IPY_MODEL_b980f22d0a3945149cd8c811ebef7161",
              "IPY_MODEL_69c337d0f6a9409a93cc9f705135522f"
            ]
          }
        },
        "9e589bf599bd48b599644f18e6185467": {
          "model_module": "@jupyter-widgets/base",
          "model_name": "LayoutModel",
          "model_module_version": "1.2.0",
          "state": {
            "_view_name": "LayoutView",
            "grid_template_rows": null,
            "right": null,
            "justify_content": null,
            "_view_module": "@jupyter-widgets/base",
            "overflow": null,
            "_model_module_version": "1.2.0",
            "_view_count": null,
            "flex_flow": null,
            "width": null,
            "min_width": null,
            "border": null,
            "align_items": null,
            "bottom": null,
            "_model_module": "@jupyter-widgets/base",
            "top": null,
            "grid_column": null,
            "overflow_y": null,
            "overflow_x": null,
            "grid_auto_flow": null,
            "grid_area": null,
            "grid_template_columns": null,
            "flex": null,
            "_model_name": "LayoutModel",
            "justify_items": null,
            "grid_row": null,
            "max_height": null,
            "align_content": null,
            "visibility": null,
            "align_self": null,
            "height": null,
            "min_height": null,
            "padding": null,
            "grid_auto_rows": null,
            "grid_gap": null,
            "max_width": null,
            "order": null,
            "_view_module_version": "1.2.0",
            "grid_template_areas": null,
            "object_position": null,
            "object_fit": null,
            "grid_auto_columns": null,
            "margin": null,
            "display": null,
            "left": null
          }
        },
        "b980f22d0a3945149cd8c811ebef7161": {
          "model_module": "@jupyter-widgets/controls",
          "model_name": "LabelModel",
          "model_module_version": "1.5.0",
          "state": {
            "_view_name": "LabelView",
            "style": "IPY_MODEL_e7479e51957643118b4827c89c4ab985",
            "_dom_classes": [],
            "description": "",
            "_model_name": "LabelModel",
            "placeholder": "​",
            "_view_module": "@jupyter-widgets/controls",
            "_model_module_version": "1.5.0",
            "value": " 0.01MB of 0.01MB uploaded (0.00MB deduped)\r",
            "_view_count": null,
            "_view_module_version": "1.5.0",
            "description_tooltip": null,
            "_model_module": "@jupyter-widgets/controls",
            "layout": "IPY_MODEL_1055fe6c5b2645dfb12ea3e3cb3a01e1"
          }
        },
        "69c337d0f6a9409a93cc9f705135522f": {
          "model_module": "@jupyter-widgets/controls",
          "model_name": "FloatProgressModel",
          "model_module_version": "1.5.0",
          "state": {
            "_view_name": "ProgressView",
            "style": "IPY_MODEL_1cb71f2122bc4687a5be0849e2c79733",
            "_dom_classes": [],
            "description": "",
            "_model_name": "FloatProgressModel",
            "bar_style": "",
            "max": 1,
            "_view_module": "@jupyter-widgets/controls",
            "_model_module_version": "1.5.0",
            "value": 1,
            "_view_count": null,
            "_view_module_version": "1.5.0",
            "orientation": "horizontal",
            "min": 0,
            "description_tooltip": null,
            "_model_module": "@jupyter-widgets/controls",
            "layout": "IPY_MODEL_8b3c74374f94409d829198457e7b3f3c"
          }
        },
        "e7479e51957643118b4827c89c4ab985": {
          "model_module": "@jupyter-widgets/controls",
          "model_name": "DescriptionStyleModel",
          "model_module_version": "1.5.0",
          "state": {
            "_view_name": "StyleView",
            "_model_name": "DescriptionStyleModel",
            "description_width": "",
            "_view_module": "@jupyter-widgets/base",
            "_model_module_version": "1.5.0",
            "_view_count": null,
            "_view_module_version": "1.2.0",
            "_model_module": "@jupyter-widgets/controls"
          }
        },
        "1055fe6c5b2645dfb12ea3e3cb3a01e1": {
          "model_module": "@jupyter-widgets/base",
          "model_name": "LayoutModel",
          "model_module_version": "1.2.0",
          "state": {
            "_view_name": "LayoutView",
            "grid_template_rows": null,
            "right": null,
            "justify_content": null,
            "_view_module": "@jupyter-widgets/base",
            "overflow": null,
            "_model_module_version": "1.2.0",
            "_view_count": null,
            "flex_flow": null,
            "width": null,
            "min_width": null,
            "border": null,
            "align_items": null,
            "bottom": null,
            "_model_module": "@jupyter-widgets/base",
            "top": null,
            "grid_column": null,
            "overflow_y": null,
            "overflow_x": null,
            "grid_auto_flow": null,
            "grid_area": null,
            "grid_template_columns": null,
            "flex": null,
            "_model_name": "LayoutModel",
            "justify_items": null,
            "grid_row": null,
            "max_height": null,
            "align_content": null,
            "visibility": null,
            "align_self": null,
            "height": null,
            "min_height": null,
            "padding": null,
            "grid_auto_rows": null,
            "grid_gap": null,
            "max_width": null,
            "order": null,
            "_view_module_version": "1.2.0",
            "grid_template_areas": null,
            "object_position": null,
            "object_fit": null,
            "grid_auto_columns": null,
            "margin": null,
            "display": null,
            "left": null
          }
        },
        "1cb71f2122bc4687a5be0849e2c79733": {
          "model_module": "@jupyter-widgets/controls",
          "model_name": "ProgressStyleModel",
          "model_module_version": "1.5.0",
          "state": {
            "_view_name": "StyleView",
            "_model_name": "ProgressStyleModel",
            "description_width": "",
            "_view_module": "@jupyter-widgets/base",
            "_model_module_version": "1.5.0",
            "_view_count": null,
            "_view_module_version": "1.2.0",
            "bar_color": null,
            "_model_module": "@jupyter-widgets/controls"
          }
        },
        "8b3c74374f94409d829198457e7b3f3c": {
          "model_module": "@jupyter-widgets/base",
          "model_name": "LayoutModel",
          "model_module_version": "1.2.0",
          "state": {
            "_view_name": "LayoutView",
            "grid_template_rows": null,
            "right": null,
            "justify_content": null,
            "_view_module": "@jupyter-widgets/base",
            "overflow": null,
            "_model_module_version": "1.2.0",
            "_view_count": null,
            "flex_flow": null,
            "width": null,
            "min_width": null,
            "border": null,
            "align_items": null,
            "bottom": null,
            "_model_module": "@jupyter-widgets/base",
            "top": null,
            "grid_column": null,
            "overflow_y": null,
            "overflow_x": null,
            "grid_auto_flow": null,
            "grid_area": null,
            "grid_template_columns": null,
            "flex": null,
            "_model_name": "LayoutModel",
            "justify_items": null,
            "grid_row": null,
            "max_height": null,
            "align_content": null,
            "visibility": null,
            "align_self": null,
            "height": null,
            "min_height": null,
            "padding": null,
            "grid_auto_rows": null,
            "grid_gap": null,
            "max_width": null,
            "order": null,
            "_view_module_version": "1.2.0",
            "grid_template_areas": null,
            "object_position": null,
            "object_fit": null,
            "grid_auto_columns": null,
            "margin": null,
            "display": null,
            "left": null
          }
        },
        "234060d87e3d4c3a917589130955c649": {
          "model_module": "@jupyter-widgets/controls",
          "model_name": "VBoxModel",
          "model_module_version": "1.5.0",
          "state": {
            "_view_name": "VBoxView",
            "_dom_classes": [],
            "_model_name": "VBoxModel",
            "_view_module": "@jupyter-widgets/controls",
            "_model_module_version": "1.5.0",
            "_view_count": null,
            "_view_module_version": "1.5.0",
            "box_style": "",
            "layout": "IPY_MODEL_56af146f361b49eea537dd2802e5b97e",
            "_model_module": "@jupyter-widgets/controls",
            "children": [
              "IPY_MODEL_83cb5c257b984389a70866ef8d2cce70",
              "IPY_MODEL_d8d03b3d7b0847bfa71b7b5e5a0fc92a"
            ]
          }
        },
        "56af146f361b49eea537dd2802e5b97e": {
          "model_module": "@jupyter-widgets/base",
          "model_name": "LayoutModel",
          "model_module_version": "1.2.0",
          "state": {
            "_view_name": "LayoutView",
            "grid_template_rows": null,
            "right": null,
            "justify_content": null,
            "_view_module": "@jupyter-widgets/base",
            "overflow": null,
            "_model_module_version": "1.2.0",
            "_view_count": null,
            "flex_flow": null,
            "width": null,
            "min_width": null,
            "border": null,
            "align_items": null,
            "bottom": null,
            "_model_module": "@jupyter-widgets/base",
            "top": null,
            "grid_column": null,
            "overflow_y": null,
            "overflow_x": null,
            "grid_auto_flow": null,
            "grid_area": null,
            "grid_template_columns": null,
            "flex": null,
            "_model_name": "LayoutModel",
            "justify_items": null,
            "grid_row": null,
            "max_height": null,
            "align_content": null,
            "visibility": null,
            "align_self": null,
            "height": null,
            "min_height": null,
            "padding": null,
            "grid_auto_rows": null,
            "grid_gap": null,
            "max_width": null,
            "order": null,
            "_view_module_version": "1.2.0",
            "grid_template_areas": null,
            "object_position": null,
            "object_fit": null,
            "grid_auto_columns": null,
            "margin": null,
            "display": null,
            "left": null
          }
        },
        "83cb5c257b984389a70866ef8d2cce70": {
          "model_module": "@jupyter-widgets/controls",
          "model_name": "LabelModel",
          "model_module_version": "1.5.0",
          "state": {
            "_view_name": "LabelView",
            "style": "IPY_MODEL_49df069249744c75879c2927d95a73c8",
            "_dom_classes": [],
            "description": "",
            "_model_name": "LabelModel",
            "placeholder": "​",
            "_view_module": "@jupyter-widgets/controls",
            "_model_module_version": "1.5.0",
            "value": " 0.01MB of 0.01MB uploaded (0.00MB deduped)\r",
            "_view_count": null,
            "_view_module_version": "1.5.0",
            "description_tooltip": null,
            "_model_module": "@jupyter-widgets/controls",
            "layout": "IPY_MODEL_dd51e7c789f74cd09286aeb8b7cbcd4a"
          }
        },
        "d8d03b3d7b0847bfa71b7b5e5a0fc92a": {
          "model_module": "@jupyter-widgets/controls",
          "model_name": "FloatProgressModel",
          "model_module_version": "1.5.0",
          "state": {
            "_view_name": "ProgressView",
            "style": "IPY_MODEL_ea03da355374410babbd7af60d75f6f0",
            "_dom_classes": [],
            "description": "",
            "_model_name": "FloatProgressModel",
            "bar_style": "",
            "max": 1,
            "_view_module": "@jupyter-widgets/controls",
            "_model_module_version": "1.5.0",
            "value": 1,
            "_view_count": null,
            "_view_module_version": "1.5.0",
            "orientation": "horizontal",
            "min": 0,
            "description_tooltip": null,
            "_model_module": "@jupyter-widgets/controls",
            "layout": "IPY_MODEL_c6e3ba043c594e76a98361c573d5a75e"
          }
        },
        "49df069249744c75879c2927d95a73c8": {
          "model_module": "@jupyter-widgets/controls",
          "model_name": "DescriptionStyleModel",
          "model_module_version": "1.5.0",
          "state": {
            "_view_name": "StyleView",
            "_model_name": "DescriptionStyleModel",
            "description_width": "",
            "_view_module": "@jupyter-widgets/base",
            "_model_module_version": "1.5.0",
            "_view_count": null,
            "_view_module_version": "1.2.0",
            "_model_module": "@jupyter-widgets/controls"
          }
        },
        "dd51e7c789f74cd09286aeb8b7cbcd4a": {
          "model_module": "@jupyter-widgets/base",
          "model_name": "LayoutModel",
          "model_module_version": "1.2.0",
          "state": {
            "_view_name": "LayoutView",
            "grid_template_rows": null,
            "right": null,
            "justify_content": null,
            "_view_module": "@jupyter-widgets/base",
            "overflow": null,
            "_model_module_version": "1.2.0",
            "_view_count": null,
            "flex_flow": null,
            "width": null,
            "min_width": null,
            "border": null,
            "align_items": null,
            "bottom": null,
            "_model_module": "@jupyter-widgets/base",
            "top": null,
            "grid_column": null,
            "overflow_y": null,
            "overflow_x": null,
            "grid_auto_flow": null,
            "grid_area": null,
            "grid_template_columns": null,
            "flex": null,
            "_model_name": "LayoutModel",
            "justify_items": null,
            "grid_row": null,
            "max_height": null,
            "align_content": null,
            "visibility": null,
            "align_self": null,
            "height": null,
            "min_height": null,
            "padding": null,
            "grid_auto_rows": null,
            "grid_gap": null,
            "max_width": null,
            "order": null,
            "_view_module_version": "1.2.0",
            "grid_template_areas": null,
            "object_position": null,
            "object_fit": null,
            "grid_auto_columns": null,
            "margin": null,
            "display": null,
            "left": null
          }
        },
        "ea03da355374410babbd7af60d75f6f0": {
          "model_module": "@jupyter-widgets/controls",
          "model_name": "ProgressStyleModel",
          "model_module_version": "1.5.0",
          "state": {
            "_view_name": "StyleView",
            "_model_name": "ProgressStyleModel",
            "description_width": "",
            "_view_module": "@jupyter-widgets/base",
            "_model_module_version": "1.5.0",
            "_view_count": null,
            "_view_module_version": "1.2.0",
            "bar_color": null,
            "_model_module": "@jupyter-widgets/controls"
          }
        },
        "c6e3ba043c594e76a98361c573d5a75e": {
          "model_module": "@jupyter-widgets/base",
          "model_name": "LayoutModel",
          "model_module_version": "1.2.0",
          "state": {
            "_view_name": "LayoutView",
            "grid_template_rows": null,
            "right": null,
            "justify_content": null,
            "_view_module": "@jupyter-widgets/base",
            "overflow": null,
            "_model_module_version": "1.2.0",
            "_view_count": null,
            "flex_flow": null,
            "width": null,
            "min_width": null,
            "border": null,
            "align_items": null,
            "bottom": null,
            "_model_module": "@jupyter-widgets/base",
            "top": null,
            "grid_column": null,
            "overflow_y": null,
            "overflow_x": null,
            "grid_auto_flow": null,
            "grid_area": null,
            "grid_template_columns": null,
            "flex": null,
            "_model_name": "LayoutModel",
            "justify_items": null,
            "grid_row": null,
            "max_height": null,
            "align_content": null,
            "visibility": null,
            "align_self": null,
            "height": null,
            "min_height": null,
            "padding": null,
            "grid_auto_rows": null,
            "grid_gap": null,
            "max_width": null,
            "order": null,
            "_view_module_version": "1.2.0",
            "grid_template_areas": null,
            "object_position": null,
            "object_fit": null,
            "grid_auto_columns": null,
            "margin": null,
            "display": null,
            "left": null
          }
        },
        "f68e1a1dd6244f12ba4b8ddf087498b1": {
          "model_module": "@jupyter-widgets/controls",
          "model_name": "VBoxModel",
          "model_module_version": "1.5.0",
          "state": {
            "_view_name": "VBoxView",
            "_dom_classes": [],
            "_model_name": "VBoxModel",
            "_view_module": "@jupyter-widgets/controls",
            "_model_module_version": "1.5.0",
            "_view_count": null,
            "_view_module_version": "1.5.0",
            "box_style": "",
            "layout": "IPY_MODEL_1683b379ddcc43f9b8239ce802cacd74",
            "_model_module": "@jupyter-widgets/controls",
            "children": [
              "IPY_MODEL_ce7f3d0201c0451d9887adeccc7ff907",
              "IPY_MODEL_202a4390bde547bf8405b0289d15fc0a"
            ]
          }
        },
        "1683b379ddcc43f9b8239ce802cacd74": {
          "model_module": "@jupyter-widgets/base",
          "model_name": "LayoutModel",
          "model_module_version": "1.2.0",
          "state": {
            "_view_name": "LayoutView",
            "grid_template_rows": null,
            "right": null,
            "justify_content": null,
            "_view_module": "@jupyter-widgets/base",
            "overflow": null,
            "_model_module_version": "1.2.0",
            "_view_count": null,
            "flex_flow": null,
            "width": null,
            "min_width": null,
            "border": null,
            "align_items": null,
            "bottom": null,
            "_model_module": "@jupyter-widgets/base",
            "top": null,
            "grid_column": null,
            "overflow_y": null,
            "overflow_x": null,
            "grid_auto_flow": null,
            "grid_area": null,
            "grid_template_columns": null,
            "flex": null,
            "_model_name": "LayoutModel",
            "justify_items": null,
            "grid_row": null,
            "max_height": null,
            "align_content": null,
            "visibility": null,
            "align_self": null,
            "height": null,
            "min_height": null,
            "padding": null,
            "grid_auto_rows": null,
            "grid_gap": null,
            "max_width": null,
            "order": null,
            "_view_module_version": "1.2.0",
            "grid_template_areas": null,
            "object_position": null,
            "object_fit": null,
            "grid_auto_columns": null,
            "margin": null,
            "display": null,
            "left": null
          }
        },
        "ce7f3d0201c0451d9887adeccc7ff907": {
          "model_module": "@jupyter-widgets/controls",
          "model_name": "LabelModel",
          "model_module_version": "1.5.0",
          "state": {
            "_view_name": "LabelView",
            "style": "IPY_MODEL_8eea710a5ff0472f94dd558ff6f27f89",
            "_dom_classes": [],
            "description": "",
            "_model_name": "LabelModel",
            "placeholder": "​",
            "_view_module": "@jupyter-widgets/controls",
            "_model_module_version": "1.5.0",
            "value": " 0.01MB of 0.01MB uploaded (0.00MB deduped)\r",
            "_view_count": null,
            "_view_module_version": "1.5.0",
            "description_tooltip": null,
            "_model_module": "@jupyter-widgets/controls",
            "layout": "IPY_MODEL_bfbd532c4b51416aa24e51b026b34352"
          }
        },
        "202a4390bde547bf8405b0289d15fc0a": {
          "model_module": "@jupyter-widgets/controls",
          "model_name": "FloatProgressModel",
          "model_module_version": "1.5.0",
          "state": {
            "_view_name": "ProgressView",
            "style": "IPY_MODEL_ddf2b579e3e944d0b8ee17bb8d7cc23c",
            "_dom_classes": [],
            "description": "",
            "_model_name": "FloatProgressModel",
            "bar_style": "",
            "max": 1,
            "_view_module": "@jupyter-widgets/controls",
            "_model_module_version": "1.5.0",
            "value": 1,
            "_view_count": null,
            "_view_module_version": "1.5.0",
            "orientation": "horizontal",
            "min": 0,
            "description_tooltip": null,
            "_model_module": "@jupyter-widgets/controls",
            "layout": "IPY_MODEL_2dea661dcb2c40d88073d613c00f17c8"
          }
        },
        "8eea710a5ff0472f94dd558ff6f27f89": {
          "model_module": "@jupyter-widgets/controls",
          "model_name": "DescriptionStyleModel",
          "model_module_version": "1.5.0",
          "state": {
            "_view_name": "StyleView",
            "_model_name": "DescriptionStyleModel",
            "description_width": "",
            "_view_module": "@jupyter-widgets/base",
            "_model_module_version": "1.5.0",
            "_view_count": null,
            "_view_module_version": "1.2.0",
            "_model_module": "@jupyter-widgets/controls"
          }
        },
        "bfbd532c4b51416aa24e51b026b34352": {
          "model_module": "@jupyter-widgets/base",
          "model_name": "LayoutModel",
          "model_module_version": "1.2.0",
          "state": {
            "_view_name": "LayoutView",
            "grid_template_rows": null,
            "right": null,
            "justify_content": null,
            "_view_module": "@jupyter-widgets/base",
            "overflow": null,
            "_model_module_version": "1.2.0",
            "_view_count": null,
            "flex_flow": null,
            "width": null,
            "min_width": null,
            "border": null,
            "align_items": null,
            "bottom": null,
            "_model_module": "@jupyter-widgets/base",
            "top": null,
            "grid_column": null,
            "overflow_y": null,
            "overflow_x": null,
            "grid_auto_flow": null,
            "grid_area": null,
            "grid_template_columns": null,
            "flex": null,
            "_model_name": "LayoutModel",
            "justify_items": null,
            "grid_row": null,
            "max_height": null,
            "align_content": null,
            "visibility": null,
            "align_self": null,
            "height": null,
            "min_height": null,
            "padding": null,
            "grid_auto_rows": null,
            "grid_gap": null,
            "max_width": null,
            "order": null,
            "_view_module_version": "1.2.0",
            "grid_template_areas": null,
            "object_position": null,
            "object_fit": null,
            "grid_auto_columns": null,
            "margin": null,
            "display": null,
            "left": null
          }
        },
        "ddf2b579e3e944d0b8ee17bb8d7cc23c": {
          "model_module": "@jupyter-widgets/controls",
          "model_name": "ProgressStyleModel",
          "model_module_version": "1.5.0",
          "state": {
            "_view_name": "StyleView",
            "_model_name": "ProgressStyleModel",
            "description_width": "",
            "_view_module": "@jupyter-widgets/base",
            "_model_module_version": "1.5.0",
            "_view_count": null,
            "_view_module_version": "1.2.0",
            "bar_color": null,
            "_model_module": "@jupyter-widgets/controls"
          }
        },
        "2dea661dcb2c40d88073d613c00f17c8": {
          "model_module": "@jupyter-widgets/base",
          "model_name": "LayoutModel",
          "model_module_version": "1.2.0",
          "state": {
            "_view_name": "LayoutView",
            "grid_template_rows": null,
            "right": null,
            "justify_content": null,
            "_view_module": "@jupyter-widgets/base",
            "overflow": null,
            "_model_module_version": "1.2.0",
            "_view_count": null,
            "flex_flow": null,
            "width": null,
            "min_width": null,
            "border": null,
            "align_items": null,
            "bottom": null,
            "_model_module": "@jupyter-widgets/base",
            "top": null,
            "grid_column": null,
            "overflow_y": null,
            "overflow_x": null,
            "grid_auto_flow": null,
            "grid_area": null,
            "grid_template_columns": null,
            "flex": null,
            "_model_name": "LayoutModel",
            "justify_items": null,
            "grid_row": null,
            "max_height": null,
            "align_content": null,
            "visibility": null,
            "align_self": null,
            "height": null,
            "min_height": null,
            "padding": null,
            "grid_auto_rows": null,
            "grid_gap": null,
            "max_width": null,
            "order": null,
            "_view_module_version": "1.2.0",
            "grid_template_areas": null,
            "object_position": null,
            "object_fit": null,
            "grid_auto_columns": null,
            "margin": null,
            "display": null,
            "left": null
          }
        },
        "b408703235314263acf4ffec36843246": {
          "model_module": "@jupyter-widgets/controls",
          "model_name": "VBoxModel",
          "model_module_version": "1.5.0",
          "state": {
            "_view_name": "VBoxView",
            "_dom_classes": [],
            "_model_name": "VBoxModel",
            "_view_module": "@jupyter-widgets/controls",
            "_model_module_version": "1.5.0",
            "_view_count": null,
            "_view_module_version": "1.5.0",
            "box_style": "",
            "layout": "IPY_MODEL_0cbecc4509b3441ba1c642f3a7559a22",
            "_model_module": "@jupyter-widgets/controls",
            "children": [
              "IPY_MODEL_722efd29c70649ec8c5e12d3a5c1904f",
              "IPY_MODEL_02afd50823714a5fb8e4962afc74660f"
            ]
          }
        },
        "0cbecc4509b3441ba1c642f3a7559a22": {
          "model_module": "@jupyter-widgets/base",
          "model_name": "LayoutModel",
          "model_module_version": "1.2.0",
          "state": {
            "_view_name": "LayoutView",
            "grid_template_rows": null,
            "right": null,
            "justify_content": null,
            "_view_module": "@jupyter-widgets/base",
            "overflow": null,
            "_model_module_version": "1.2.0",
            "_view_count": null,
            "flex_flow": null,
            "width": null,
            "min_width": null,
            "border": null,
            "align_items": null,
            "bottom": null,
            "_model_module": "@jupyter-widgets/base",
            "top": null,
            "grid_column": null,
            "overflow_y": null,
            "overflow_x": null,
            "grid_auto_flow": null,
            "grid_area": null,
            "grid_template_columns": null,
            "flex": null,
            "_model_name": "LayoutModel",
            "justify_items": null,
            "grid_row": null,
            "max_height": null,
            "align_content": null,
            "visibility": null,
            "align_self": null,
            "height": null,
            "min_height": null,
            "padding": null,
            "grid_auto_rows": null,
            "grid_gap": null,
            "max_width": null,
            "order": null,
            "_view_module_version": "1.2.0",
            "grid_template_areas": null,
            "object_position": null,
            "object_fit": null,
            "grid_auto_columns": null,
            "margin": null,
            "display": null,
            "left": null
          }
        },
        "722efd29c70649ec8c5e12d3a5c1904f": {
          "model_module": "@jupyter-widgets/controls",
          "model_name": "LabelModel",
          "model_module_version": "1.5.0",
          "state": {
            "_view_name": "LabelView",
            "style": "IPY_MODEL_a2ffbb3c0e634a59adec1172854d9e3e",
            "_dom_classes": [],
            "description": "",
            "_model_name": "LabelModel",
            "placeholder": "​",
            "_view_module": "@jupyter-widgets/controls",
            "_model_module_version": "1.5.0",
            "value": " 0.01MB of 0.01MB uploaded (0.00MB deduped)\r",
            "_view_count": null,
            "_view_module_version": "1.5.0",
            "description_tooltip": null,
            "_model_module": "@jupyter-widgets/controls",
            "layout": "IPY_MODEL_d8599347990a42eeab1c8de62705d2f3"
          }
        },
        "02afd50823714a5fb8e4962afc74660f": {
          "model_module": "@jupyter-widgets/controls",
          "model_name": "FloatProgressModel",
          "model_module_version": "1.5.0",
          "state": {
            "_view_name": "ProgressView",
            "style": "IPY_MODEL_be9d4da4ecea427593e42937ef3f8f51",
            "_dom_classes": [],
            "description": "",
            "_model_name": "FloatProgressModel",
            "bar_style": "",
            "max": 1,
            "_view_module": "@jupyter-widgets/controls",
            "_model_module_version": "1.5.0",
            "value": 1,
            "_view_count": null,
            "_view_module_version": "1.5.0",
            "orientation": "horizontal",
            "min": 0,
            "description_tooltip": null,
            "_model_module": "@jupyter-widgets/controls",
            "layout": "IPY_MODEL_7f825d278a8f4aa898d2e5a38f6e21ba"
          }
        },
        "a2ffbb3c0e634a59adec1172854d9e3e": {
          "model_module": "@jupyter-widgets/controls",
          "model_name": "DescriptionStyleModel",
          "model_module_version": "1.5.0",
          "state": {
            "_view_name": "StyleView",
            "_model_name": "DescriptionStyleModel",
            "description_width": "",
            "_view_module": "@jupyter-widgets/base",
            "_model_module_version": "1.5.0",
            "_view_count": null,
            "_view_module_version": "1.2.0",
            "_model_module": "@jupyter-widgets/controls"
          }
        },
        "d8599347990a42eeab1c8de62705d2f3": {
          "model_module": "@jupyter-widgets/base",
          "model_name": "LayoutModel",
          "model_module_version": "1.2.0",
          "state": {
            "_view_name": "LayoutView",
            "grid_template_rows": null,
            "right": null,
            "justify_content": null,
            "_view_module": "@jupyter-widgets/base",
            "overflow": null,
            "_model_module_version": "1.2.0",
            "_view_count": null,
            "flex_flow": null,
            "width": null,
            "min_width": null,
            "border": null,
            "align_items": null,
            "bottom": null,
            "_model_module": "@jupyter-widgets/base",
            "top": null,
            "grid_column": null,
            "overflow_y": null,
            "overflow_x": null,
            "grid_auto_flow": null,
            "grid_area": null,
            "grid_template_columns": null,
            "flex": null,
            "_model_name": "LayoutModel",
            "justify_items": null,
            "grid_row": null,
            "max_height": null,
            "align_content": null,
            "visibility": null,
            "align_self": null,
            "height": null,
            "min_height": null,
            "padding": null,
            "grid_auto_rows": null,
            "grid_gap": null,
            "max_width": null,
            "order": null,
            "_view_module_version": "1.2.0",
            "grid_template_areas": null,
            "object_position": null,
            "object_fit": null,
            "grid_auto_columns": null,
            "margin": null,
            "display": null,
            "left": null
          }
        },
        "be9d4da4ecea427593e42937ef3f8f51": {
          "model_module": "@jupyter-widgets/controls",
          "model_name": "ProgressStyleModel",
          "model_module_version": "1.5.0",
          "state": {
            "_view_name": "StyleView",
            "_model_name": "ProgressStyleModel",
            "description_width": "",
            "_view_module": "@jupyter-widgets/base",
            "_model_module_version": "1.5.0",
            "_view_count": null,
            "_view_module_version": "1.2.0",
            "bar_color": null,
            "_model_module": "@jupyter-widgets/controls"
          }
        },
        "7f825d278a8f4aa898d2e5a38f6e21ba": {
          "model_module": "@jupyter-widgets/base",
          "model_name": "LayoutModel",
          "model_module_version": "1.2.0",
          "state": {
            "_view_name": "LayoutView",
            "grid_template_rows": null,
            "right": null,
            "justify_content": null,
            "_view_module": "@jupyter-widgets/base",
            "overflow": null,
            "_model_module_version": "1.2.0",
            "_view_count": null,
            "flex_flow": null,
            "width": null,
            "min_width": null,
            "border": null,
            "align_items": null,
            "bottom": null,
            "_model_module": "@jupyter-widgets/base",
            "top": null,
            "grid_column": null,
            "overflow_y": null,
            "overflow_x": null,
            "grid_auto_flow": null,
            "grid_area": null,
            "grid_template_columns": null,
            "flex": null,
            "_model_name": "LayoutModel",
            "justify_items": null,
            "grid_row": null,
            "max_height": null,
            "align_content": null,
            "visibility": null,
            "align_self": null,
            "height": null,
            "min_height": null,
            "padding": null,
            "grid_auto_rows": null,
            "grid_gap": null,
            "max_width": null,
            "order": null,
            "_view_module_version": "1.2.0",
            "grid_template_areas": null,
            "object_position": null,
            "object_fit": null,
            "grid_auto_columns": null,
            "margin": null,
            "display": null,
            "left": null
          }
        },
        "0d60ddf4232d40bb8343254e91057f30": {
          "model_module": "@jupyter-widgets/controls",
          "model_name": "VBoxModel",
          "model_module_version": "1.5.0",
          "state": {
            "_view_name": "VBoxView",
            "_dom_classes": [],
            "_model_name": "VBoxModel",
            "_view_module": "@jupyter-widgets/controls",
            "_model_module_version": "1.5.0",
            "_view_count": null,
            "_view_module_version": "1.5.0",
            "box_style": "",
            "layout": "IPY_MODEL_385bd3547a0444c8b633108a32aab36a",
            "_model_module": "@jupyter-widgets/controls",
            "children": [
              "IPY_MODEL_15351d802afc438ea1eafc39d21e5bb5",
              "IPY_MODEL_0c1778d5275b4a92af4f6f2cce1a835a"
            ]
          }
        },
        "385bd3547a0444c8b633108a32aab36a": {
          "model_module": "@jupyter-widgets/base",
          "model_name": "LayoutModel",
          "model_module_version": "1.2.0",
          "state": {
            "_view_name": "LayoutView",
            "grid_template_rows": null,
            "right": null,
            "justify_content": null,
            "_view_module": "@jupyter-widgets/base",
            "overflow": null,
            "_model_module_version": "1.2.0",
            "_view_count": null,
            "flex_flow": null,
            "width": null,
            "min_width": null,
            "border": null,
            "align_items": null,
            "bottom": null,
            "_model_module": "@jupyter-widgets/base",
            "top": null,
            "grid_column": null,
            "overflow_y": null,
            "overflow_x": null,
            "grid_auto_flow": null,
            "grid_area": null,
            "grid_template_columns": null,
            "flex": null,
            "_model_name": "LayoutModel",
            "justify_items": null,
            "grid_row": null,
            "max_height": null,
            "align_content": null,
            "visibility": null,
            "align_self": null,
            "height": null,
            "min_height": null,
            "padding": null,
            "grid_auto_rows": null,
            "grid_gap": null,
            "max_width": null,
            "order": null,
            "_view_module_version": "1.2.0",
            "grid_template_areas": null,
            "object_position": null,
            "object_fit": null,
            "grid_auto_columns": null,
            "margin": null,
            "display": null,
            "left": null
          }
        },
        "15351d802afc438ea1eafc39d21e5bb5": {
          "model_module": "@jupyter-widgets/controls",
          "model_name": "LabelModel",
          "model_module_version": "1.5.0",
          "state": {
            "_view_name": "LabelView",
            "style": "IPY_MODEL_e52596870e57484bb15d3dbc59598417",
            "_dom_classes": [],
            "description": "",
            "_model_name": "LabelModel",
            "placeholder": "​",
            "_view_module": "@jupyter-widgets/controls",
            "_model_module_version": "1.5.0",
            "value": " 0.01MB of 0.01MB uploaded (0.00MB deduped)\r",
            "_view_count": null,
            "_view_module_version": "1.5.0",
            "description_tooltip": null,
            "_model_module": "@jupyter-widgets/controls",
            "layout": "IPY_MODEL_27dbbc42cd1c4c99bc4a0de707aca99a"
          }
        },
        "0c1778d5275b4a92af4f6f2cce1a835a": {
          "model_module": "@jupyter-widgets/controls",
          "model_name": "FloatProgressModel",
          "model_module_version": "1.5.0",
          "state": {
            "_view_name": "ProgressView",
            "style": "IPY_MODEL_2209f00809c14a2fbc592997fbdc80de",
            "_dom_classes": [],
            "description": "",
            "_model_name": "FloatProgressModel",
            "bar_style": "",
            "max": 1,
            "_view_module": "@jupyter-widgets/controls",
            "_model_module_version": "1.5.0",
            "value": 1,
            "_view_count": null,
            "_view_module_version": "1.5.0",
            "orientation": "horizontal",
            "min": 0,
            "description_tooltip": null,
            "_model_module": "@jupyter-widgets/controls",
            "layout": "IPY_MODEL_51bff48a5e2045c7b262854097e77d30"
          }
        },
        "e52596870e57484bb15d3dbc59598417": {
          "model_module": "@jupyter-widgets/controls",
          "model_name": "DescriptionStyleModel",
          "model_module_version": "1.5.0",
          "state": {
            "_view_name": "StyleView",
            "_model_name": "DescriptionStyleModel",
            "description_width": "",
            "_view_module": "@jupyter-widgets/base",
            "_model_module_version": "1.5.0",
            "_view_count": null,
            "_view_module_version": "1.2.0",
            "_model_module": "@jupyter-widgets/controls"
          }
        },
        "27dbbc42cd1c4c99bc4a0de707aca99a": {
          "model_module": "@jupyter-widgets/base",
          "model_name": "LayoutModel",
          "model_module_version": "1.2.0",
          "state": {
            "_view_name": "LayoutView",
            "grid_template_rows": null,
            "right": null,
            "justify_content": null,
            "_view_module": "@jupyter-widgets/base",
            "overflow": null,
            "_model_module_version": "1.2.0",
            "_view_count": null,
            "flex_flow": null,
            "width": null,
            "min_width": null,
            "border": null,
            "align_items": null,
            "bottom": null,
            "_model_module": "@jupyter-widgets/base",
            "top": null,
            "grid_column": null,
            "overflow_y": null,
            "overflow_x": null,
            "grid_auto_flow": null,
            "grid_area": null,
            "grid_template_columns": null,
            "flex": null,
            "_model_name": "LayoutModel",
            "justify_items": null,
            "grid_row": null,
            "max_height": null,
            "align_content": null,
            "visibility": null,
            "align_self": null,
            "height": null,
            "min_height": null,
            "padding": null,
            "grid_auto_rows": null,
            "grid_gap": null,
            "max_width": null,
            "order": null,
            "_view_module_version": "1.2.0",
            "grid_template_areas": null,
            "object_position": null,
            "object_fit": null,
            "grid_auto_columns": null,
            "margin": null,
            "display": null,
            "left": null
          }
        },
        "2209f00809c14a2fbc592997fbdc80de": {
          "model_module": "@jupyter-widgets/controls",
          "model_name": "ProgressStyleModel",
          "model_module_version": "1.5.0",
          "state": {
            "_view_name": "StyleView",
            "_model_name": "ProgressStyleModel",
            "description_width": "",
            "_view_module": "@jupyter-widgets/base",
            "_model_module_version": "1.5.0",
            "_view_count": null,
            "_view_module_version": "1.2.0",
            "bar_color": null,
            "_model_module": "@jupyter-widgets/controls"
          }
        },
        "51bff48a5e2045c7b262854097e77d30": {
          "model_module": "@jupyter-widgets/base",
          "model_name": "LayoutModel",
          "model_module_version": "1.2.0",
          "state": {
            "_view_name": "LayoutView",
            "grid_template_rows": null,
            "right": null,
            "justify_content": null,
            "_view_module": "@jupyter-widgets/base",
            "overflow": null,
            "_model_module_version": "1.2.0",
            "_view_count": null,
            "flex_flow": null,
            "width": null,
            "min_width": null,
            "border": null,
            "align_items": null,
            "bottom": null,
            "_model_module": "@jupyter-widgets/base",
            "top": null,
            "grid_column": null,
            "overflow_y": null,
            "overflow_x": null,
            "grid_auto_flow": null,
            "grid_area": null,
            "grid_template_columns": null,
            "flex": null,
            "_model_name": "LayoutModel",
            "justify_items": null,
            "grid_row": null,
            "max_height": null,
            "align_content": null,
            "visibility": null,
            "align_self": null,
            "height": null,
            "min_height": null,
            "padding": null,
            "grid_auto_rows": null,
            "grid_gap": null,
            "max_width": null,
            "order": null,
            "_view_module_version": "1.2.0",
            "grid_template_areas": null,
            "object_position": null,
            "object_fit": null,
            "grid_auto_columns": null,
            "margin": null,
            "display": null,
            "left": null
          }
        }
      }
    }
  },
  "cells": [
    {
      "cell_type": "code",
      "execution_count": 4,
      "metadata": {
        "id": "zHb34_DuaGM-"
      },
      "outputs": [],
      "source": [
        "import torch\n",
        "import torch.nn as nn\n",
        "import numpy as np\n",
        "import wandb\n",
        "\n",
        "from typing import List\n",
        "from IPython.display import clear_output\n",
        "\n",
        "from torch.utils.data import Dataset, DataLoader\n",
        "from torch.nn.utils.rnn import pack_padded_sequence, pad_packed_sequence\n",
        "from torch.nn.utils.rnn import pad_sequence\n",
        "\n",
        "from nerus import load_nerus\n",
        "import nerus\n",
        "\n",
        "import os\n",
        "import json\n",
        "\n",
        "from transformers import BertModel, BertConfig, BertTokenizer"
      ]
    },
    {
      "cell_type": "code",
      "source": [
        "docs = load_nerus('/content/drive/MyDrive/nerus_lenta.conllu.gz')\n",
        "doc = next(docs)"
      ],
      "metadata": {
        "id": "zTjIJs6ilfFL"
      },
      "execution_count": 6,
      "outputs": []
    },
    {
      "cell_type": "code",
      "source": [
        "sent = doc.sents[0]\n",
        "sent.morph.tokens[0]"
      ],
      "metadata": {
        "colab": {
          "base_uri": "https://localhost:8080/"
        },
        "id": "A9po7LhXluih",
        "outputId": "654a22cf-cee8-48fe-8127-03a2b441e464"
      },
      "execution_count": 7,
      "outputs": [
        {
          "output_type": "execute_result",
          "data": {
            "text/plain": [
              "MorphToken(\n",
              "    text='Вице-премьер',\n",
              "    pos='NOUN',\n",
              "    feats={'Animacy': 'Anim',\n",
              "     'Case': 'Nom',\n",
              "     'Gender': 'Masc',\n",
              "     'Number': 'Sing'}\n",
              ")"
            ]
          },
          "metadata": {},
          "execution_count": 7
        }
      ]
    },
    {
      "cell_type": "code",
      "source": [
        "sent.morph"
      ],
      "metadata": {
        "id": "6NKGP4AYnUI8"
      },
      "execution_count": null,
      "outputs": []
    },
    {
      "cell_type": "code",
      "source": [
        "len(doc.sents)"
      ],
      "metadata": {
        "colab": {
          "base_uri": "https://localhost:8080/"
        },
        "id": "AQn3Gw6QABzy",
        "outputId": "58c059aa-7633-450b-e66f-fc60335a89e8"
      },
      "execution_count": 9,
      "outputs": [
        {
          "output_type": "execute_result",
          "data": {
            "text/plain": [
              "6"
            ]
          },
          "metadata": {},
          "execution_count": 9
        }
      ]
    },
    {
      "cell_type": "code",
      "source": [
        "sent.text"
      ],
      "metadata": {
        "colab": {
          "base_uri": "https://localhost:8080/",
          "height": 53
        },
        "id": "ZlFSBvDtClTe",
        "outputId": "3748678c-5c48-428d-a637-ee8c01deb078"
      },
      "execution_count": 10,
      "outputs": [
        {
          "output_type": "execute_result",
          "data": {
            "application/vnd.google.colaboratory.intrinsic+json": {
              "type": "string"
            },
            "text/plain": [
              "'Вице-премьер по социальным вопросам Татьяна Голикова рассказала, в каких регионах России зафиксирована наиболее высокая смертность от рака, сообщает РИА Новости.'"
            ]
          },
          "metadata": {},
          "execution_count": 10
        }
      ]
    },
    {
      "cell_type": "code",
      "source": [
        "sent.tokens[0].text"
      ],
      "metadata": {
        "colab": {
          "base_uri": "https://localhost:8080/",
          "height": 35
        },
        "id": "ayP0YhnPCo8-",
        "outputId": "7865c9d9-4e7a-4dee-ea7c-b6805d7acc20"
      },
      "execution_count": 11,
      "outputs": [
        {
          "output_type": "execute_result",
          "data": {
            "application/vnd.google.colaboratory.intrinsic+json": {
              "type": "string"
            },
            "text/plain": [
              "'Вице-премьер'"
            ]
          },
          "metadata": {},
          "execution_count": 11
        }
      ]
    },
    {
      "cell_type": "code",
      "source": [
        "class Vocab:\n",
        "    def __init__(self, capacity=10000, save_path='./vocab'):\n",
        "        self.capacity = capacity\n",
        "        self.save_path = save_path\n",
        "\n",
        "        self.max_len = 0\n",
        "        self.max_chars = 0\n",
        "\n",
        "        self.i2c = ['<SEP>', '<BEGIN>', '<END>', '<UNK>']\n",
        "        self.c2i = {'<SEP>': 0, '<BEGIN>': 1, '<END>': 2, '<UNK>': 3}\n",
        "\n",
        "        self.i2w = ['<SEP>', '<UNK>']\n",
        "        self.w2i = {'<SEP>': 0, '<UNK>': 1}\n",
        "\n",
        "        self.i2t = ['<SEP>', '<UNK>']\n",
        "        self.t2i = {'<SEP>': 0, '<UNK>': 1}\n",
        "\n",
        "    def load(self, max_len=200, max_chars=1000):\n",
        "        with open(os.path.join(self.save_path, 'words.txt'), 'r') as v:\n",
        "            self.w2i = json.load(v)\n",
        "            self.i2w = [_ for _ in self.w2i]\n",
        "            for k in self.w2i:\n",
        "                self.i2w[self.w2i[k]] = k\n",
        "        with open(os.path.join(self.save_path, 'chars.txt'), 'r') as v:\n",
        "            self.c2i = json.load(v)\n",
        "            self.i2c = [_ for _ in self.c2i]\n",
        "            for k in self.c2i:\n",
        "                self.i2c[self.c2i[k]] = k\n",
        "        with open(os.path.join(self.save_path, 'labels.txt'), 'r') as v:\n",
        "            self.t2i = json.load(v)\n",
        "            self.i2t = [_ for _ in self.t2i]\n",
        "            for k in self.t2i:\n",
        "                self.i2t[self.t2i[k]] = k\n",
        "\n",
        "        self.max_len = max_len\n",
        "        self.max_chars = max_chars\n",
        "\n",
        "    def save(self):\n",
        "        with open(os.path.join(self.save_path, 'words.txt'), 'w') as v:\n",
        "            json.dump(self.w2i, v)\n",
        "        with open(os.path.join(self.save_path, 'chars.txt'), 'w') as v:\n",
        "            json.dump(self.c2i, v)\n",
        "        with open(os.path.join(self.save_path, 'labels.txt'), 'w') as v:\n",
        "            json.dump(self.t2i, v)\n",
        "\n",
        "    def read(self, docs):\n",
        "        for _ in range(self.capacity):\n",
        "            clear_output()\n",
        "            print('Reading: ')\n",
        "            print(_, '/', self.capacity)\n",
        "            doc = next(docs)\n",
        "            for sent in doc.sents:\n",
        "                self.max_len = max(self.max_len, len(sent.tokens))\n",
        "                chars_len = 0\n",
        "                for token in sent.morph.tokens:\n",
        "                    if token.pos not in self.t2i:\n",
        "                        self.i2t.append(token.pos)\n",
        "                        self.t2i[token.pos] = len(self.i2t) - 1\n",
        "                    if token.text not in self.w2i:\n",
        "                        self.i2w.append(token.text)\n",
        "                        self.w2i[token.text] = len(self.i2w) - 1\n",
        "                    for char in token.text:\n",
        "                        chars_len += 1\n",
        "                        if char not in self.c2i:\n",
        "                            self.i2c.append(char)\n",
        "                            self.c2i[char] = len(self.i2c) - 1\n",
        "                self.max_chars = max(self.max_chars, chars_len + 10)\n",
        "\n",
        "class POSDataset(Dataset):\n",
        "    def __init__(self, vocab, capacity=2000):\n",
        "        super().__init__()\n",
        "        self.tokens = []\n",
        "        self.chars = []\n",
        "        self.targets = []\n",
        "        self.capacity = capacity\n",
        "\n",
        "        self.vocab=vocab\n",
        "\n",
        "    def __getitem__(self, i):\n",
        "        return torch.LongTensor(self.chars[i]), torch.LongTensor(self.tokens[i]), torch.LongTensor(self.targets[i])\n",
        "\n",
        "    def __len__(self):\n",
        "        return len(self.chars)\n",
        "\n",
        "    def collate_fn(self, batch):\n",
        "        tokens, words, pos_tags = list(zip(*batch))\n",
        "        tokens = pad_sequence(tokens, batch_first=True)\n",
        "        words = pad_sequence(words, batch_first=True)\n",
        "        pos_tags = pad_sequence(pos_tags, batch_first=True)\n",
        "        return tokens, words, pos_tags\n",
        "\n",
        "    def read(self, docs):\n",
        "        while len(self.chars) < self.capacity:\n",
        "            clear_output()\n",
        "            print('Reading: ')\n",
        "            print(len(self.chars), '/', self.capacity)\n",
        "            doc = next(docs)\n",
        "            for sent in doc.sents:\n",
        "                self.tokens.append([])\n",
        "                self.chars.append([])\n",
        "                self.targets.append([])\n",
        "                for token in sent.morph.tokens:\n",
        "                    if token.pos not in self.vocab.t2i:\n",
        "                        self.targets[-1].append(self.vocab.t2i['<UNK>'])\n",
        "                    else:\n",
        "                        self.targets[-1].append(self.vocab.t2i[token.pos])\n",
        "                    if token.text not in self.vocab.w2i:\n",
        "                        self.tokens[-1].append(self.vocab.w2i['<UNK>'])\n",
        "                    else:\n",
        "                        self.tokens[-1].append(self.vocab.w2i[token.text])\n",
        "                    self.chars[-1].append(self.vocab.c2i['<BEGIN>'])\n",
        "                    for char in token.text:\n",
        "                        if char not in self.vocab.c2i:\n",
        "                            self.chars[-1].append(self.vocab.c2i['<UNK>'])\n",
        "                        else:\n",
        "                            self.chars[-1].append(self.vocab.c2i[char])\n",
        "                self.chars[-1].append(self.vocab.c2i['<BEGIN>'])\n",
        "            "
      ],
      "metadata": {
        "id": "5hLPBPd5hZXn"
      },
      "execution_count": 12,
      "outputs": []
    },
    {
      "cell_type": "code",
      "source": [
        "BATCH_SIZE=128\n",
        "\n",
        "docs = load_nerus('/content/drive/MyDrive/nerus_lenta.conllu.gz')\n",
        "vocab = Vocab(capacity=150000)\n",
        "vocab.read(docs)\n",
        "vocab.save()\n",
        "\n",
        "docs = load_nerus('/content/drive/MyDrive/nerus_lenta.conllu.gz')\n",
        "train_pos_dataset = POSDataset(vocab, capacity=100000)\n",
        "train_pos_dataset.read(docs)\n",
        "\n",
        "val_pos_dataset = POSDataset(vocab, capacity=20000)\n",
        "val_pos_dataset.read(docs)\n",
        "\n",
        "test_pos_dataset = POSDataset(vocab, capacity=20000)\n",
        "test_pos_dataset.read(docs)\n",
        "\n",
        "train_loader = DataLoader(train_pos_dataset, batch_size=128, collate_fn=train_pos_dataset.collate_fn)\n",
        "val_loader = DataLoader(val_pos_dataset, batch_size=128, collate_fn=val_pos_dataset.collate_fn)\n",
        "test_loader = DataLoader(test_pos_dataset, batch_size=128, collate_fn=test_pos_dataset.collate_fn)"
      ],
      "metadata": {
        "colab": {
          "base_uri": "https://localhost:8080/"
        },
        "id": "IWsdGJVriw5d",
        "outputId": "1381387e-4650-4e22-9496-c175de12249f"
      },
      "execution_count": 14,
      "outputs": [
        {
          "output_type": "stream",
          "name": "stdout",
          "text": [
            "Reading: \n",
            "19992 / 20000\n"
          ]
        }
      ]
    },
    {
      "cell_type": "code",
      "source": [
        "for batch in train_loader:\n",
        "    print(batch[0].shape, batch[1].shape, batch[2].shape)\n",
        "    break"
      ],
      "metadata": {
        "colab": {
          "base_uri": "https://localhost:8080/"
        },
        "id": "8gJrRkjnppvm",
        "outputId": "11907399-59eb-488f-b8bd-c858ac3ccb7f"
      },
      "execution_count": 15,
      "outputs": [
        {
          "output_type": "stream",
          "name": "stdout",
          "text": [
            "torch.Size([128, 290]) torch.Size([128, 39]) torch.Size([128, 39])\n"
          ]
        }
      ]
    },
    {
      "cell_type": "markdown",
      "source": [
        "# Flair Embeddings"
      ],
      "metadata": {
        "id": "HD6Qa9WCpvpE"
      }
    },
    {
      "cell_type": "code",
      "source": [
        "class FlairEmbeddings(nn.Module):\n",
        "    def __init__(self, n_tokens=len(vocab.c2i), max_words=vocab.max_len, embedding_dim=128, hidden_dim=256, dropout=0.3):\n",
        "        super().__init__()\n",
        "        self.embedding = nn.Embedding(n_tokens, embedding_dim)\n",
        "        self.lstm = nn.LSTM(embedding_dim, hidden_dim, num_layers=1, dropout=dropout, bidirectional=True, batch_first=True)\n",
        "        self.dropout = nn.Dropout(dropout)\n",
        "        self.fc = nn.Linear(hidden_dim, n_tokens)\n",
        "\n",
        "        self.max_words = max_words\n",
        "        self.n_tokens = n_tokens\n",
        "\n",
        "        self.hidden_dim = hidden_dim\n",
        "        self.embedding_dim = embedding_dim\n",
        "        \n",
        "    def forward(self, x, hidden=None):\n",
        "        mask = (x != 0).to(torch.long)\n",
        "\n",
        "        lengths = mask.sum(dim=1).to('cpu')\n",
        "        total_length = x.shape[1]\n",
        "        x = self.embedding(x)\n",
        "\n",
        "        x = pack_padded_sequence(x, lengths, batch_first=True, enforce_sorted=False)\n",
        "        output, hidden = self.lstm(x, hidden)\n",
        "        output, _ = pad_packed_sequence(output, batch_first=True)\n",
        "        output_f = output[:, :, :self.hidden_dim]\n",
        "        output_b = output[:, :, self.hidden_dim:]\n",
        "\n",
        "        out_f = self.fc(self.dropout(output_f))\n",
        "        out_b = self.fc(self.dropout(output_b))\n",
        "        return output, (out_f[:, :-1], out_b[:, 1:], hidden)\n",
        "\n",
        "    def predict(self, x, hidden=None):\n",
        "        out, _ = self.forward(x.to(dtype=torch.long), hidden)\n",
        "        emb = torch.zeros((x.shape[0], self.max_words, self.hidden_dim*2)).to(device=x.device)\n",
        "        one_ids = (x == 1).nonzero()\n",
        "        j = 0\n",
        "        emb[one_ids[0, 0], 0, self.hidden_dim:] = out[one_ids[0, 0], one_ids[0, 1], self.hidden_dim:]\n",
        "        for i in range(1, one_ids.shape[0]):\n",
        "            if one_ids[i, 0] != one_ids[i - 1, 0]:\n",
        "                emb[one_ids[i, 0] - 1, j, self.hidden_dim:] = 0\n",
        "                j = 0\n",
        "                emb[one_ids[i, 0], j, self.hidden_dim:] = out[one_ids[i, 0], one_ids[i, 1], self.hidden_dim:]\n",
        "            else:\n",
        "                emb[one_ids[i, 0], j, :self.hidden_dim] = out[one_ids[i, 0], one_ids[i, 1], :self.hidden_dim]\n",
        "                j += 1\n",
        "                emb[one_ids[i, 0], j, self.hidden_dim:] = out[one_ids[i, 0], one_ids[i, 1], self.hidden_dim:]\n",
        "\n",
        "        return emb"
      ],
      "metadata": {
        "id": "vQla6GIpmQqn"
      },
      "execution_count": 29,
      "outputs": []
    },
    {
      "cell_type": "code",
      "source": [
        "class FlairTrainer:\n",
        "    def __init__(self, model: nn.Module, train_loader, val_loader, lr=2e-5, betas=(0.9, 0.999),\n",
        "                 project=\"flair_embeddings\", save_every=None, save_path='./'):\n",
        "        self.criterion = nn.CrossEntropyLoss()\n",
        "        self.optimizer = torch.optim.Adam(model.parameters(), lr=lr, betas=betas)\n",
        "        self.train_loader = train_loader\n",
        "        self.val_loader = val_loader\n",
        "        self.model = model\n",
        "        self.save_path = save_path\n",
        "        self.save_every = save_every\n",
        "        self.name = project\n",
        "        wandb.init(project=project)\n",
        "\n",
        "    def train_epoch(self, cuda=True, clip=5):\n",
        "        if cuda:\n",
        "            self.model.cuda()\n",
        "        else:\n",
        "            self.model.cpu()\n",
        "        self.model.train()\n",
        "        total_loss = 0\n",
        "        for batch_idx, (tokens, _, __) in enumerate(self.train_loader):\n",
        "            self.optimizer.zero_grad()\n",
        "            if cuda:\n",
        "                tokens = tokens.cuda()\n",
        "            x = tokens\n",
        "            y_f = tokens[:, 1:]\n",
        "            y_b = tokens[:, :-1]\n",
        "            output_f, output_b, _ = self.model(x.to(dtype=torch.long))[1]\n",
        "            loss_forward = self.criterion(output_f.reshape(-1, output_f.shape[-1]).to(dtype=torch.float),\n",
        "                                  y_f.reshape(-1).to(dtype=torch.long))\n",
        "            loss_backward = self.criterion(output_b.reshape(-1, output_b.shape[-1]).to(dtype=torch.float),\n",
        "                                  y_b.reshape(-1).to(dtype=torch.long))\n",
        "            loss = loss_forward + loss_backward\n",
        "\n",
        "            loss.backward()\n",
        "            nn.utils.clip_grad_norm_(self.model.parameters(), clip)\n",
        "            self.optimizer.step()\n",
        "\n",
        "            total_loss += loss.item()\n",
        "\n",
        "            print('\\rTrain loss: %4f, Batch: %d of %d' % (\n",
        "                total_loss / (batch_idx + 1), batch_idx + 1, len(self.train_loader)), end='')\n",
        "        print()\n",
        "        loss = total_loss / len(self.train_loader)\n",
        "        return loss\n",
        "\n",
        "    def test_epoch(self, cuda=True):\n",
        "        if cuda:\n",
        "            self.model.cuda()\n",
        "        else:\n",
        "            self.model.cpu()\n",
        "        with torch.no_grad():\n",
        "            self.model.eval()\n",
        "            total_loss = 0\n",
        "            for batch_idx, (tokens, _, __) in enumerate(self.val_loader):\n",
        "                if cuda:\n",
        "                    tokens = tokens.cuda()\n",
        "                x = tokens\n",
        "                y_f = tokens[:, 1:]\n",
        "                y_b = tokens[:, :-1]\n",
        "                output_f, output_b, _ = self.model(x.to(dtype=torch.long))[1]\n",
        "                loss_forward = self.criterion(output_f.reshape(-1, output_f.shape[-1]).to(dtype=torch.float),\n",
        "                                    y_f.reshape(-1).to(dtype=torch.long))\n",
        "                loss_backward = self.criterion(output_b.reshape(-1, output_b.shape[-1]).to(dtype=torch.float),\n",
        "                                    y_b.reshape(-1).to(dtype=torch.long))\n",
        "                loss = loss_forward + loss_backward\n",
        "\n",
        "                total_loss += loss.item()\n",
        "\n",
        "                print('\\rVal loss: %4f, Batch: %d of %d' % (\n",
        "                    total_loss / (batch_idx + 1), batch_idx + 1, len(self.val_loader)), end='')\n",
        "            print()\n",
        "            loss = total_loss / len(self.val_loader)\n",
        "            return loss\n",
        "\n",
        "    @staticmethod\n",
        "    def log(epoch, train_loss, test_loss):\n",
        "        wandb.log({\n",
        "            'train': {\n",
        "                'loss': train_loss,\n",
        "            },\n",
        "            'val': {\n",
        "                'loss': test_loss,\n",
        "            },\n",
        "            'epoch': epoch\n",
        "        })\n",
        "\n",
        "    def checkpoint(self, epoch):\n",
        "        torch.save(self.model.state_dict(), os.path.join(self.save_path, self.name + str(epoch) + '.ckpt'))\n",
        "\n",
        "    def fit(self, max_epochs: int = 20, cuda=True, clip=5, log=False):\n",
        "        for epoch in range(max_epochs):\n",
        "            if epoch and self.save_every and epoch % self.save_every == 0:\n",
        "                self.checkpoint(epoch)\n",
        "            print('\\rEpoch: %d' % epoch)\n",
        "            train_loss = self.train_epoch(cuda=cuda, clip=clip)\n",
        "            test_loss = self.test_epoch(cuda=cuda)\n",
        "            if log:\n",
        "                self.log(epoch, train_loss, test_loss)"
      ],
      "metadata": {
        "id": "olUIVQm0pu-Q"
      },
      "execution_count": 30,
      "outputs": []
    },
    {
      "cell_type": "code",
      "source": [
        "flair_model = FlairEmbeddings()\n",
        "flair_trainer = FlairTrainer(flair_model, train_loader, val_loader, lr=3e-4, save_every=5)\n",
        "flair_trainer.fit(log=True)"
      ],
      "metadata": {
        "colab": {
          "base_uri": "https://localhost:8080/",
          "height": 1000,
          "referenced_widgets": [
            "b6fd1cb8e56b4257800d01cecdb59343",
            "4148beb6806643baa49d84547a0e176f",
            "036aa9eac35f4765b3d53719fdb0b069",
            "861edd5434ba4af082b3d428de9251c2",
            "fa239edf802d47de8f5e34e766b51742",
            "f3660406fb8d4c3294827283b54c415c",
            "cf0260105bc9473b8e96c4687c50906d",
            "31616047b9fb4fe9a6382e3a5a76c92f"
          ]
        },
        "id": "6RRfzYsFiPlA",
        "outputId": "37b3293b-f9f9-48b7-9392-001d1e5f5501"
      },
      "execution_count": 31,
      "outputs": [
        {
          "output_type": "stream",
          "name": "stderr",
          "text": [
            "/usr/local/lib/python3.7/dist-packages/torch/nn/modules/rnn.py:65: UserWarning: dropout option adds dropout after all but last recurrent layer, so non-zero dropout expects num_layers greater than 1, but got dropout=0.3 and num_layers=1\n",
            "  \"num_layers={}\".format(dropout, num_layers))\n"
          ]
        },
        {
          "output_type": "display_data",
          "data": {
            "text/html": [
              "Finishing last run (ID:180ebv5m) before initializing another..."
            ],
            "text/plain": [
              "<IPython.core.display.HTML object>"
            ]
          },
          "metadata": {}
        },
        {
          "output_type": "display_data",
          "data": {
            "text/html": [
              "<br/>Waiting for W&B process to finish, PID 902... <strong style=\"color:green\">(success).</strong>"
            ],
            "text/plain": [
              "<IPython.core.display.HTML object>"
            ]
          },
          "metadata": {}
        },
        {
          "output_type": "display_data",
          "data": {
            "application/vnd.jupyter.widget-view+json": {
              "model_id": "b6fd1cb8e56b4257800d01cecdb59343",
              "version_minor": 0,
              "version_major": 2
            },
            "text/plain": [
              "VBox(children=(Label(value=' 0.00MB of 0.00MB uploaded (0.00MB deduped)\\r'), FloatProgress(value=1.0, max=1.0)…"
            ]
          },
          "metadata": {}
        },
        {
          "output_type": "display_data",
          "data": {
            "text/html": [
              "<style>\n",
              "    table.wandb td:nth-child(1) { padding: 0 10px; text-align: right }\n",
              "    .wandb-row { display: flex; flex-direction: row; flex-wrap: wrap; width: 100% }\n",
              "    .wandb-col { display: flex; flex-direction: column; flex-basis: 100%; flex: 1; padding: 10px; }\n",
              "    </style>\n",
              "<div class=\"wandb-row\"><div class=\"wandb-col\">\n",
              "</div><div class=\"wandb-col\">\n",
              "</div></div>\n",
              "Synced 5 W&B file(s), 0 media file(s), 0 artifact file(s) and 0 other file(s)\n",
              "<br/>Synced <strong style=\"color:#cdcd00\">prime-wind-7</strong>: <a href=\"https://wandb.ai/olgaseraya/flair_embeddings/runs/180ebv5m\" target=\"_blank\">https://wandb.ai/olgaseraya/flair_embeddings/runs/180ebv5m</a><br/>\n",
              "Find logs at: <code>./wandb/run-20211220_102042-180ebv5m/logs</code><br/>\n"
            ],
            "text/plain": [
              "<IPython.core.display.HTML object>"
            ]
          },
          "metadata": {}
        },
        {
          "output_type": "display_data",
          "data": {
            "text/html": [
              "Successfully finished last run (ID:180ebv5m). Initializing new run:<br/>"
            ],
            "text/plain": [
              "<IPython.core.display.HTML object>"
            ]
          },
          "metadata": {}
        },
        {
          "output_type": "display_data",
          "data": {
            "text/html": [
              "\n",
              "                    Syncing run <strong><a href=\"https://wandb.ai/olgaseraya/flair_embeddings/runs/2479lmqw\" target=\"_blank\">serene-serenity-8</a></strong> to <a href=\"https://wandb.ai/olgaseraya/flair_embeddings\" target=\"_blank\">Weights & Biases</a> (<a href=\"https://docs.wandb.com/integrations/jupyter.html\" target=\"_blank\">docs</a>).<br/>\n",
              "\n",
              "                "
            ],
            "text/plain": [
              "<IPython.core.display.HTML object>"
            ]
          },
          "metadata": {}
        },
        {
          "output_type": "stream",
          "name": "stdout",
          "text": [
            "Epoch: 0\n",
            "Train loss: 11.212957, Batch: 782 of 782\n",
            "Val loss: 10.617119, Batch: 157 of 157\n",
            "Epoch: 1\n",
            "Train loss: 10.200093, Batch: 782 of 782\n",
            "Val loss: 9.846869, Batch: 157 of 157\n",
            "Epoch: 2\n",
            "Train loss: 9.475763, Batch: 782 of 782\n",
            "Val loss: 9.128949, Batch: 157 of 157\n",
            "Epoch: 3\n",
            "Train loss: 8.785096, Batch: 782 of 782\n",
            "Val loss: 8.438249, Batch: 157 of 157\n",
            "Epoch: 4\n",
            "Train loss: 8.116903, Batch: 782 of 782\n",
            "Val loss: 7.770190, Batch: 157 of 157\n",
            "Epoch: 5\n",
            "Train loss: 7.467449, Batch: 782 of 782\n",
            "Val loss: 7.120563, Batch: 157 of 157\n",
            "Epoch: 6\n",
            "Train loss: 6.833857, Batch: 782 of 782\n",
            "Val loss: 6.487044, Batch: 157 of 157\n",
            "Epoch: 7\n",
            "Train loss: 6.215229, Batch: 782 of 782\n",
            "Val loss: 5.868756, Batch: 157 of 157\n",
            "Epoch: 8\n",
            "Train loss: 5.611103, Batch: 782 of 782\n",
            "Val loss: 5.265769, Batch: 157 of 157\n",
            "Epoch: 9\n",
            "Train loss: 5.023635, Batch: 782 of 782\n",
            "Val loss: 4.682292, Batch: 157 of 157\n",
            "Epoch: 10\n",
            "Train loss: 4.457732, Batch: 782 of 782\n",
            "Val loss: 4.123684, Batch: 157 of 157\n",
            "Epoch: 11\n",
            "Train loss: 3.920497, Batch: 782 of 782\n",
            "Val loss: 3.598431, Batch: 157 of 157\n",
            "Epoch: 12\n",
            "Train loss: 3.421210, Batch: 782 of 782\n",
            "Val loss: 3.116701, Batch: 157 of 157\n",
            "Epoch: 13\n",
            "Train loss: 2.969607, Batch: 782 of 782\n",
            "Val loss: 2.688072, Batch: 157 of 157\n",
            "Epoch: 14\n",
            "Train loss: 2.574961, Batch: 782 of 782\n",
            "Val loss: 2.320248, Batch: 157 of 157\n",
            "Epoch: 15\n",
            "Train loss: 2.241545, Batch: 782 of 782\n",
            "Val loss: 2.015632, Batch: 157 of 157\n",
            "Epoch: 16\n",
            "Train loss: 1.970082, Batch: 782 of 782\n",
            "Val loss: 1.771334, Batch: 157 of 157\n",
            "Epoch: 17\n",
            "Train loss: 1.754842, Batch: 782 of 782\n",
            "Val loss: 1.580374, Batch: 157 of 157\n",
            "Epoch: 18\n",
            "Train loss: 1.587998, Batch: 782 of 782\n",
            "Val loss: 1.433561, Batch: 157 of 157\n",
            "Epoch: 19\n",
            "Train loss: 1.460002, Batch: 782 of 782\n",
            "Val loss: 1.321750, Batch: 157 of 157\n"
          ]
        }
      ]
    },
    {
      "cell_type": "code",
      "source": [
        "flair_model.cpu()"
      ],
      "metadata": {
        "colab": {
          "base_uri": "https://localhost:8080/"
        },
        "id": "467P7-AQ7vki",
        "outputId": "c5baf8b4-8aab-4125-adc2-771809f810b2"
      },
      "execution_count": 32,
      "outputs": [
        {
          "output_type": "execute_result",
          "data": {
            "text/plain": [
              "FlairEmbeddings(\n",
              "  (embedding): Embedding(1528, 128)\n",
              "  (lstm): LSTM(128, 256, batch_first=True, dropout=0.3, bidirectional=True)\n",
              "  (dropout): Dropout(p=0.3, inplace=False)\n",
              "  (fc): Linear(in_features=256, out_features=1528, bias=True)\n",
              ")"
            ]
          },
          "metadata": {},
          "execution_count": 32
        }
      ]
    },
    {
      "cell_type": "markdown",
      "source": [
        "# POS tagging model"
      ],
      "metadata": {
        "id": "dGXFElf3u9ar"
      }
    },
    {
      "cell_type": "code",
      "source": [
        "class PosTagger(nn.Module):\n",
        "    def __init__(self, output_dim: int, flair, hidden_dim=300,\n",
        "                 feedforward_dim=100, dropout_rate=0.1,\n",
        "                 freeze_emb=True, num_embeddings=None, classic_emb_dim=128):\n",
        "        super(PosTagger, self).__init__()\n",
        "        self.hidden_dim = hidden_dim\n",
        "        self.embedding_dim = flair.hidden_dim * 2\n",
        "        self.embedder = flair.cpu()\n",
        "        self.classic_embeddings = None\n",
        "        if num_embeddings:\n",
        "            self.classic_embeddings = nn.Embedding(num_embeddings, classic_emb_dim)\n",
        "            self.embedding_dim += classic_emb_dim\n",
        "        if freeze_emb:\n",
        "            self.embedder = self.embedder.eval()\n",
        "            for param in self.embedder.parameters():\n",
        "                param.requires_grad = False\n",
        "        self.encoder = nn.LSTM(self.embedding_dim, hidden_dim, num_layers=2, bidirectional=True,\n",
        "                               batch_first=True)\n",
        "        self.feedforward = nn.Linear(2 * hidden_dim, feedforward_dim)\n",
        "        self.out = nn.Linear(feedforward_dim, output_dim)\n",
        "        self.dropout = nn.Dropout(dropout_rate)\n",
        "\n",
        "    def forward(self, x: torch.LongTensor, words: torch.LongTensor):\n",
        "        mask = (words != 0).to(torch.long)\n",
        "        lengths = mask.sum(dim=1).to('cpu')\n",
        "\n",
        "        if self.classic_embeddings:\n",
        "            flair = self.embedder.predict(x)\n",
        "            classic = self.classic_embeddings(words)\n",
        "            classic_target = torch.zeros(classic.shape[0], flair.shape[1], classic.shape[-1]).to(classic.device)\n",
        "            classic_target[:, :classic.shape[1], :] = classic\n",
        "            x = torch.cat([flair, classic_target], dim=-1)\n",
        "        else:\n",
        "            x = self.embedder.predict(x)\n",
        "        x = pack_padded_sequence(x, lengths, batch_first=True, enforce_sorted=False)\n",
        "        x, _ = self.encoder(x)\n",
        "        x, _ = pad_packed_sequence(x, batch_first=True)\n",
        "\n",
        "        x = self.feedforward(x)\n",
        "        x = torch.relu(x)\n",
        "        x = self.dropout(x)\n",
        "        return self.out(x)"
      ],
      "metadata": {
        "id": "BQNwGGQOlzCN"
      },
      "execution_count": 33,
      "outputs": []
    },
    {
      "cell_type": "code",
      "source": [
        "class POSTrainer:\n",
        "    def __init__(self, model: nn.Module, train_loader, val_loader, lr=3e-3, betas=(0.9, 0.999),\n",
        "                 project=\"bilstm_flair_pos_tagger\", save_every=None, save_path='./', name=None):\n",
        "        self.criterion = nn.CrossEntropyLoss()\n",
        "        self.optimizer = torch.optim.Adam(model.parameters(), lr=lr, betas=betas)\n",
        "        self.train_loader = train_loader\n",
        "        self.val_loader = val_loader\n",
        "        self.model = model\n",
        "        self.save_path = save_path\n",
        "        self.save_every = save_every\n",
        "        self.name = project\n",
        "        wandb.init(project=project, name=name)\n",
        "\n",
        "    def train_epoch(self, cuda=True, clip=5):\n",
        "        if cuda:\n",
        "            self.model.cuda()\n",
        "        else:\n",
        "            self.model.cpu()\n",
        "        self.model.train()\n",
        "        total_loss = 0\n",
        "        total = 0\n",
        "        correct = 0\n",
        "        for batch_idx, (tokens, words, pos_tags) in enumerate(self.train_loader):\n",
        "            self.optimizer.zero_grad()\n",
        "            if cuda:\n",
        "                tokens = tokens.cuda()\n",
        "                pos_tags = pos_tags.cuda()\n",
        "                words = words.cuda()\n",
        "\n",
        "            output = self.model(tokens.to(dtype=torch.long), words)\n",
        "            loss = self.criterion(output.view(-1, output.shape[-1]),\n",
        "                                  pos_tags.view(-1).to(dtype=torch.long))\n",
        "\n",
        "            loss.backward()\n",
        "            nn.utils.clip_grad_norm_(self.model.parameters(), clip)\n",
        "            self.optimizer.step()\n",
        "\n",
        "            total_loss += loss.item()\n",
        "\n",
        "            mask = (words != 0).to(torch.long)\n",
        "            pred = torch.argmax(output, dim=-1)\n",
        "            correct += ((pred == pos_tags)*mask).sum().item()\n",
        "            total += mask.sum().item()\n",
        "            print('\\rTrain loss: %4f, Train accuracy: %4f, Batch: %d of %d' % (\n",
        "                total_loss / (batch_idx + 1), correct / total, batch_idx + 1, len(self.train_loader)\n",
        "            ), end='')\n",
        "        print()\n",
        "        loss, accuracy = total_loss / len(self.train_loader), correct / total\n",
        "        return loss, accuracy\n",
        "\n",
        "    def test_epoch(self, cuda=True):\n",
        "        if cuda:\n",
        "            self.model.cuda()\n",
        "        else:\n",
        "            self.model.cpu()\n",
        "        with torch.no_grad():\n",
        "            self.model.eval()\n",
        "            total_loss = 0\n",
        "            total = 0\n",
        "            correct = 0\n",
        "            for batch_idx, (tokens, words, pos_tags) in enumerate(self.val_loader):\n",
        "                if cuda:\n",
        "                    tokens = tokens.cuda()\n",
        "                    pos_tags = pos_tags.cuda()\n",
        "                    words = words.cuda()\n",
        "\n",
        "                output = self.model(tokens.to(dtype=torch.long), words)\n",
        "                loss = self.criterion(output.view(-1, output.shape[-1]),\n",
        "                                      pos_tags.view(-1).to(dtype=torch.long))\n",
        "                total_loss += loss.item()\n",
        "\n",
        "                mask = (words != 0).to(torch.long)\n",
        "                pred = torch.argmax(output, dim=-1)\n",
        "                correct += ((pred == pos_tags) * mask).sum().item()\n",
        "                total += mask.sum().item()\n",
        "\n",
        "                print('\\rVal loss: %4f, Val accuracy: %4f, Batch: %d of %d' % (\n",
        "                    total_loss / (batch_idx + 1), correct / total, batch_idx + 1, len(self.val_loader)\n",
        "                ), end='')\n",
        "            print()\n",
        "            loss, accuracy = total_loss / len(self.val_loader), correct / total\n",
        "            return loss, accuracy\n",
        "\n",
        "    @staticmethod\n",
        "    def log(epoch, train_loss, train_accuracy, test_loss, test_accuracy):\n",
        "        wandb.log({\n",
        "            'train': {\n",
        "                'loss': train_loss,\n",
        "                'acc': train_accuracy\n",
        "            },\n",
        "            'val': {\n",
        "                'loss': test_loss,\n",
        "                'acc': test_accuracy\n",
        "            },\n",
        "            'epoch': epoch\n",
        "        })\n",
        "\n",
        "    def checkpoint(self, epoch):\n",
        "        torch.save(self.model.state_dict(), os.path.join(self.save_path, self.name + str(epoch) + '.ckpt'))\n",
        "\n",
        "    def fit(self, max_epochs: int = 20, cuda=True, clip=5, log=False):\n",
        "        for epoch in range(max_epochs):\n",
        "            if epoch and self.save_every and epoch % self.save_every == 0:\n",
        "                self.checkpoint(epoch)\n",
        "            print('\\rEpoch: %d' % epoch)\n",
        "            train_loss, train_accuracy = self.train_epoch(cuda=cuda, clip=clip)\n",
        "            test_loss, test_accuracy = self.test_epoch(cuda=cuda)\n",
        "            if log:\n",
        "                self.log(epoch, train_loss, train_accuracy, test_loss, test_accuracy)\n",
        "        if self.save_every:\n",
        "            self.checkpoint(max_epochs)"
      ],
      "metadata": {
        "id": "7w_Kwei_VTZs"
      },
      "execution_count": 34,
      "outputs": []
    },
    {
      "cell_type": "markdown",
      "source": [
        "# Experiments"
      ],
      "metadata": {
        "id": "LIP48i5xuxvd"
      }
    },
    {
      "cell_type": "code",
      "source": [
        "pos_model = PosTagger(len(vocab.t2i), flair_model)\n",
        "pos_trainer = POSTrainer(pos_model, train_loader, val_loader, save_every=1, name='flair_only, lr=3e-3, 10 epochs, hidden_dim=300')\n",
        "pos_trainer.fit(max_epochs=10, log=True)\n",
        "pos_model = PosTagger(len(vocab.t2i), flair_model, hidden_dim=512)\n",
        "pos_trainer = POSTrainer(pos_model, train_loader, val_loader, save_every=1, lr=2e-5, name='flair_only, lr=2e-5, 10 epochs, hidden_dim=512')\n",
        "pos_trainer.fit(max_epochs=10, log=True)\n",
        "pos_model = PosTagger(len(vocab.t2i), flair_model, hidden_dim=128)\n",
        "pos_trainer = POSTrainer(pos_model, train_loader, val_loader, save_every=1, name='flair_only, lr=3e-3, 10 epochs, hidden_dim=128')\n",
        "pos_trainer.fit(max_epochs=10, log=True)"
      ],
      "metadata": {
        "colab": {
          "base_uri": "https://localhost:8080/",
          "height": 1000,
          "referenced_widgets": [
            "751fe75952354d88910f1de8af6757de",
            "1b0ce22609e8434c935ff717a9baece2",
            "b66fc7d7d9bf4663b55420e5f965d682",
            "a76c166753664b79b7fa58f752eb5dc9",
            "c446ed770f92455dbba49a2122a1a149",
            "f01c6665d5cb4ca18cb1c4de7c67d204",
            "b006b6d4385e4fbab5c4c5811cb22208",
            "e52cac1da4694304be1fecde905202fa",
            "c1d19cfc52314e2d9776aa7963b4b344",
            "50d29d90feeb422d9419f9039bd54aa6",
            "2bcdfff891584f84adaec8147c7ef264",
            "1e3f80e7e3f04f56a6742c0a98966014",
            "b7ffb720619c45b7996b22d5ba5b28f8",
            "98dd9dc844814f088d4598d7166f5ae5",
            "945ceecbc90d41b79344350b3f534928",
            "bb1a494b460e4604a8e8384b6333c6d5",
            "b463c04cbd7640eb8c0a0bc3471aad58",
            "9e589bf599bd48b599644f18e6185467",
            "b980f22d0a3945149cd8c811ebef7161",
            "69c337d0f6a9409a93cc9f705135522f",
            "e7479e51957643118b4827c89c4ab985",
            "1055fe6c5b2645dfb12ea3e3cb3a01e1",
            "1cb71f2122bc4687a5be0849e2c79733",
            "8b3c74374f94409d829198457e7b3f3c"
          ]
        },
        "id": "sLemcD9v5IiW",
        "outputId": "1010aed1-dfe3-4348-d6a2-e62c2502a7e1"
      },
      "execution_count": 35,
      "outputs": [
        {
          "output_type": "display_data",
          "data": {
            "text/html": [
              "Finishing last run (ID:2479lmqw) before initializing another..."
            ],
            "text/plain": [
              "<IPython.core.display.HTML object>"
            ]
          },
          "metadata": {}
        },
        {
          "output_type": "display_data",
          "data": {
            "text/html": [
              "<br/>Waiting for W&B process to finish, PID 989... <strong style=\"color:green\">(success).</strong>"
            ],
            "text/plain": [
              "<IPython.core.display.HTML object>"
            ]
          },
          "metadata": {}
        },
        {
          "output_type": "display_data",
          "data": {
            "application/vnd.jupyter.widget-view+json": {
              "model_id": "751fe75952354d88910f1de8af6757de",
              "version_minor": 0,
              "version_major": 2
            },
            "text/plain": [
              "VBox(children=(Label(value=' 0.00MB of 0.00MB uploaded (0.00MB deduped)\\r'), FloatProgress(value=1.0, max=1.0)…"
            ]
          },
          "metadata": {}
        },
        {
          "output_type": "display_data",
          "data": {
            "text/html": [
              "<style>\n",
              "    table.wandb td:nth-child(1) { padding: 0 10px; text-align: right }\n",
              "    .wandb-row { display: flex; flex-direction: row; flex-wrap: wrap; width: 100% }\n",
              "    .wandb-col { display: flex; flex-direction: column; flex-basis: 100%; flex: 1; padding: 10px; }\n",
              "    </style>\n",
              "<div class=\"wandb-row\"><div class=\"wandb-col\">\n",
              "<h3>Run history:</h3><br/><table class=\"wandb\"><tr><td>epoch</td><td>▁▁▂▂▂▃▃▄▄▄▅▅▅▆▆▇▇▇██</td></tr></table><br/></div><div class=\"wandb-col\">\n",
              "<h3>Run summary:</h3><br/><table class=\"wandb\"><tr><td>epoch</td><td>19</td></tr></table>\n",
              "</div></div>\n",
              "Synced 5 W&B file(s), 0 media file(s), 0 artifact file(s) and 0 other file(s)\n",
              "<br/>Synced <strong style=\"color:#cdcd00\">serene-serenity-8</strong>: <a href=\"https://wandb.ai/olgaseraya/flair_embeddings/runs/2479lmqw\" target=\"_blank\">https://wandb.ai/olgaseraya/flair_embeddings/runs/2479lmqw</a><br/>\n",
              "Find logs at: <code>./wandb/run-20211220_102416-2479lmqw/logs</code><br/>\n"
            ],
            "text/plain": [
              "<IPython.core.display.HTML object>"
            ]
          },
          "metadata": {}
        },
        {
          "output_type": "display_data",
          "data": {
            "text/html": [
              "Successfully finished last run (ID:2479lmqw). Initializing new run:<br/>"
            ],
            "text/plain": [
              "<IPython.core.display.HTML object>"
            ]
          },
          "metadata": {}
        },
        {
          "output_type": "display_data",
          "data": {
            "text/html": [
              "\n",
              "                    Syncing run <strong><a href=\"https://wandb.ai/olgaseraya/bilstm_flair_pos_tagger/runs/29i5x0sb\" target=\"_blank\">flair_only, lr=3e-3, 10 epochs, hidden_dim=300</a></strong> to <a href=\"https://wandb.ai/olgaseraya/bilstm_flair_pos_tagger\" target=\"_blank\">Weights & Biases</a> (<a href=\"https://docs.wandb.com/integrations/jupyter.html\" target=\"_blank\">docs</a>).<br/>\n",
              "\n",
              "                "
            ],
            "text/plain": [
              "<IPython.core.display.HTML object>"
            ]
          },
          "metadata": {}
        },
        {
          "output_type": "stream",
          "name": "stdout",
          "text": [
            "Epoch: 0\n",
            "Train loss: 0.202669, Train accuracy: 0.921532, Batch: 782 of 782\n",
            "Val loss: 0.028329, Val accuracy: 0.973441, Batch: 157 of 157\n",
            "Epoch: 1\n",
            "Train loss: 0.025699, Train accuracy: 0.976504, Batch: 782 of 782\n",
            "Val loss: 0.023917, Val accuracy: 0.976610, Batch: 157 of 157\n",
            "Epoch: 2\n",
            "Train loss: 0.019278, Train accuracy: 0.981648, Batch: 782 of 782\n",
            "Val loss: 0.020838, Val accuracy: 0.979491, Batch: 157 of 157\n",
            "Epoch: 3\n",
            "Train loss: 0.016043, Train accuracy: 0.984685, Batch: 782 of 782\n",
            "Val loss: 0.018044, Val accuracy: 0.982757, Batch: 157 of 157\n",
            "Epoch: 4\n",
            "Train loss: 0.013665, Train accuracy: 0.986581, Batch: 782 of 782\n",
            "Val loss: 0.018172, Val accuracy: 0.982973, Batch: 157 of 157\n",
            "Epoch: 5\n",
            "Train loss: 0.012047, Train accuracy: 0.987999, Batch: 782 of 782\n",
            "Val loss: 0.018287, Val accuracy: 0.983142, Batch: 157 of 157\n",
            "Epoch: 6\n",
            "Train loss: 0.010641, Train accuracy: 0.989309, Batch: 782 of 782\n",
            "Val loss: 0.018209, Val accuracy: 0.983524, Batch: 157 of 157\n",
            "Epoch: 7\n",
            "Train loss: 0.009424, Train accuracy: 0.990372, Batch: 782 of 782\n",
            "Val loss: 0.018988, Val accuracy: 0.983039, Batch: 157 of 157\n",
            "Epoch: 8\n",
            "Train loss: 0.008320, Train accuracy: 0.991326, Batch: 782 of 782\n",
            "Val loss: 0.018965, Val accuracy: 0.983621, Batch: 157 of 157\n",
            "Epoch: 9\n",
            "Train loss: 0.007742, Train accuracy: 0.991905, Batch: 782 of 782\n",
            "Val loss: 0.019107, Val accuracy: 0.983693, Batch: 157 of 157\n"
          ]
        },
        {
          "output_type": "display_data",
          "data": {
            "text/html": [
              "Finishing last run (ID:29i5x0sb) before initializing another..."
            ],
            "text/plain": [
              "<IPython.core.display.HTML object>"
            ]
          },
          "metadata": {}
        },
        {
          "output_type": "display_data",
          "data": {
            "text/html": [
              "<br/>Waiting for W&B process to finish, PID 1701... <strong style=\"color:green\">(success).</strong>"
            ],
            "text/plain": [
              "<IPython.core.display.HTML object>"
            ]
          },
          "metadata": {}
        },
        {
          "output_type": "display_data",
          "data": {
            "application/vnd.jupyter.widget-view+json": {
              "model_id": "c1d19cfc52314e2d9776aa7963b4b344",
              "version_minor": 0,
              "version_major": 2
            },
            "text/plain": [
              "VBox(children=(Label(value=' 0.00MB of 0.00MB uploaded (0.00MB deduped)\\r'), FloatProgress(value=1.0, max=1.0)…"
            ]
          },
          "metadata": {}
        },
        {
          "output_type": "display_data",
          "data": {
            "text/html": [
              "<style>\n",
              "    table.wandb td:nth-child(1) { padding: 0 10px; text-align: right }\n",
              "    .wandb-row { display: flex; flex-direction: row; flex-wrap: wrap; width: 100% }\n",
              "    .wandb-col { display: flex; flex-direction: column; flex-basis: 100%; flex: 1; padding: 10px; }\n",
              "    </style>\n",
              "<div class=\"wandb-row\"><div class=\"wandb-col\">\n",
              "<h3>Run history:</h3><br/><table class=\"wandb\"><tr><td>epoch</td><td>▁▂▃▃▄▅▆▆▇█</td></tr></table><br/></div><div class=\"wandb-col\">\n",
              "<h3>Run summary:</h3><br/><table class=\"wandb\"><tr><td>epoch</td><td>9</td></tr></table>\n",
              "</div></div>\n",
              "Synced 5 W&B file(s), 0 media file(s), 0 artifact file(s) and 0 other file(s)\n",
              "<br/>Synced <strong style=\"color:#cdcd00\">flair_only, lr=3e-3, 10 epochs, hidden_dim=300</strong>: <a href=\"https://wandb.ai/olgaseraya/bilstm_flair_pos_tagger/runs/29i5x0sb\" target=\"_blank\">https://wandb.ai/olgaseraya/bilstm_flair_pos_tagger/runs/29i5x0sb</a><br/>\n",
              "Find logs at: <code>./wandb/run-20211220_111332-29i5x0sb/logs</code><br/>\n"
            ],
            "text/plain": [
              "<IPython.core.display.HTML object>"
            ]
          },
          "metadata": {}
        },
        {
          "output_type": "display_data",
          "data": {
            "text/html": [
              "Successfully finished last run (ID:29i5x0sb). Initializing new run:<br/>"
            ],
            "text/plain": [
              "<IPython.core.display.HTML object>"
            ]
          },
          "metadata": {}
        },
        {
          "output_type": "display_data",
          "data": {
            "text/html": [
              "\n",
              "                    Syncing run <strong><a href=\"https://wandb.ai/olgaseraya/bilstm_flair_pos_tagger/runs/10182hq2\" target=\"_blank\">flair_only, lr=2e-5, 10 epochs, hidden_dim=512</a></strong> to <a href=\"https://wandb.ai/olgaseraya/bilstm_flair_pos_tagger\" target=\"_blank\">Weights & Biases</a> (<a href=\"https://docs.wandb.com/integrations/jupyter.html\" target=\"_blank\">docs</a>).<br/>\n",
              "\n",
              "                "
            ],
            "text/plain": [
              "<IPython.core.display.HTML object>"
            ]
          },
          "metadata": {}
        },
        {
          "output_type": "stream",
          "name": "stdout",
          "text": [
            "Epoch: 0\n",
            "Train loss: 2.510424, Train accuracy: 0.506234, Batch: 782 of 782\n",
            "Val loss: 2.193423, Val accuracy: 0.778300, Batch: 157 of 157\n",
            "Epoch: 1\n",
            "Train loss: 2.047103, Train accuracy: 0.836996, Batch: 782 of 782\n",
            "Val loss: 1.973111, Val accuracy: 0.886318, Batch: 157 of 157\n",
            "Epoch: 2\n",
            "Train loss: 1.877221, Train accuracy: 0.899774, Batch: 782 of 782\n",
            "Val loss: 1.828544, Val accuracy: 0.919702, Batch: 157 of 157\n",
            "Epoch: 3\n",
            "Train loss: 1.730589, Train accuracy: 0.923799, Batch: 782 of 782\n",
            "Val loss: 1.677913, Val accuracy: 0.934810, Batch: 157 of 157\n",
            "Epoch: 4\n",
            "Train loss: 1.574405, Train accuracy: 0.936388, Batch: 782 of 782\n",
            "Val loss: 1.513434, Val accuracy: 0.942982, Batch: 157 of 157\n",
            "Epoch: 5\n",
            "Train loss: 1.405664, Train accuracy: 0.943802, Batch: 782 of 782\n",
            "Val loss: 1.336398, Val accuracy: 0.948774, Batch: 157 of 157\n",
            "Epoch: 6\n",
            "Train loss: 1.227057, Train accuracy: 0.948979, Batch: 782 of 782\n",
            "Val loss: 1.151626, Val accuracy: 0.952992, Batch: 157 of 157\n",
            "Epoch: 7\n",
            "Train loss: 1.044432, Train accuracy: 0.952722, Batch: 782 of 782\n",
            "Val loss: 0.965892, Val accuracy: 0.955835, Batch: 157 of 157\n",
            "Epoch: 8\n",
            "Train loss: 0.864816, Train accuracy: 0.955576, Batch: 782 of 782\n",
            "Val loss: 0.787172, Val accuracy: 0.958427, Batch: 157 of 157\n",
            "Epoch: 9\n",
            "Train loss: 0.696526, Train accuracy: 0.958065, Batch: 782 of 782\n",
            "Val loss: 0.623904, Val accuracy: 0.960258, Batch: 157 of 157\n"
          ]
        },
        {
          "output_type": "display_data",
          "data": {
            "text/html": [
              "Finishing last run (ID:10182hq2) before initializing another..."
            ],
            "text/plain": [
              "<IPython.core.display.HTML object>"
            ]
          },
          "metadata": {}
        },
        {
          "output_type": "display_data",
          "data": {
            "text/html": [
              "<br/>Waiting for W&B process to finish, PID 2916... <strong style=\"color:green\">(success).</strong>"
            ],
            "text/plain": [
              "<IPython.core.display.HTML object>"
            ]
          },
          "metadata": {}
        },
        {
          "output_type": "display_data",
          "data": {
            "application/vnd.jupyter.widget-view+json": {
              "model_id": "b463c04cbd7640eb8c0a0bc3471aad58",
              "version_minor": 0,
              "version_major": 2
            },
            "text/plain": [
              "VBox(children=(Label(value=' 0.00MB of 0.00MB uploaded (0.00MB deduped)\\r'), FloatProgress(value=1.0, max=1.0)…"
            ]
          },
          "metadata": {}
        },
        {
          "output_type": "display_data",
          "data": {
            "text/html": [
              "<style>\n",
              "    table.wandb td:nth-child(1) { padding: 0 10px; text-align: right }\n",
              "    .wandb-row { display: flex; flex-direction: row; flex-wrap: wrap; width: 100% }\n",
              "    .wandb-col { display: flex; flex-direction: column; flex-basis: 100%; flex: 1; padding: 10px; }\n",
              "    </style>\n",
              "<div class=\"wandb-row\"><div class=\"wandb-col\">\n",
              "<h3>Run history:</h3><br/><table class=\"wandb\"><tr><td>epoch</td><td>▁▂▃▃▄▅▆▆▇█</td></tr></table><br/></div><div class=\"wandb-col\">\n",
              "<h3>Run summary:</h3><br/><table class=\"wandb\"><tr><td>epoch</td><td>9</td></tr></table>\n",
              "</div></div>\n",
              "Synced 5 W&B file(s), 0 media file(s), 0 artifact file(s) and 0 other file(s)\n",
              "<br/>Synced <strong style=\"color:#cdcd00\">flair_only, lr=2e-5, 10 epochs, hidden_dim=512</strong>: <a href=\"https://wandb.ai/olgaseraya/bilstm_flair_pos_tagger/runs/10182hq2\" target=\"_blank\">https://wandb.ai/olgaseraya/bilstm_flair_pos_tagger/runs/10182hq2</a><br/>\n",
              "Find logs at: <code>./wandb/run-20211220_123951-10182hq2/logs</code><br/>\n"
            ],
            "text/plain": [
              "<IPython.core.display.HTML object>"
            ]
          },
          "metadata": {}
        },
        {
          "output_type": "display_data",
          "data": {
            "text/html": [
              "Successfully finished last run (ID:10182hq2). Initializing new run:<br/>"
            ],
            "text/plain": [
              "<IPython.core.display.HTML object>"
            ]
          },
          "metadata": {}
        },
        {
          "output_type": "display_data",
          "data": {
            "text/html": [
              "\n",
              "                    Syncing run <strong><a href=\"https://wandb.ai/olgaseraya/bilstm_flair_pos_tagger/runs/1efs3ask\" target=\"_blank\">flair_only, lr=3e-3, 10 epochs, hidden_dim=128</a></strong> to <a href=\"https://wandb.ai/olgaseraya/bilstm_flair_pos_tagger\" target=\"_blank\">Weights & Biases</a> (<a href=\"https://docs.wandb.com/integrations/jupyter.html\" target=\"_blank\">docs</a>).<br/>\n",
              "\n",
              "                "
            ],
            "text/plain": [
              "<IPython.core.display.HTML object>"
            ]
          },
          "metadata": {}
        },
        {
          "output_type": "stream",
          "name": "stdout",
          "text": [
            "Epoch: 0\n",
            "Train loss: 0.189833, Train accuracy: 0.923025, Batch: 782 of 782\n",
            "Val loss: 0.028505, Val accuracy: 0.973355, Batch: 157 of 157\n",
            "Epoch: 1\n",
            "Train loss: 0.026780, Train accuracy: 0.975648, Batch: 782 of 782\n",
            "Val loss: 0.022170, Val accuracy: 0.978563, Batch: 157 of 157\n",
            "Epoch: 2\n",
            "Train loss: 0.021063, Train accuracy: 0.980384, Batch: 782 of 782\n",
            "Val loss: 0.019297, Val accuracy: 0.981402, Batch: 157 of 157\n",
            "Epoch: 3\n",
            "Train loss: 0.017695, Train accuracy: 0.983201, Batch: 782 of 782\n",
            "Val loss: 0.017867, Val accuracy: 0.982673, Batch: 157 of 157\n",
            "Epoch: 4\n",
            "Train loss: 0.015600, Train accuracy: 0.984936, Batch: 782 of 782\n",
            "Val loss: 0.017132, Val accuracy: 0.983208, Batch: 157 of 157\n",
            "Epoch: 5\n",
            "Train loss: 0.013804, Train accuracy: 0.986536, Batch: 782 of 782\n",
            "Val loss: 0.018543, Val accuracy: 0.982518, Batch: 157 of 157\n",
            "Epoch: 6\n",
            "Train loss: 0.012712, Train accuracy: 0.987578, Batch: 782 of 782\n",
            "Val loss: 0.018067, Val accuracy: 0.983169, Batch: 157 of 157\n",
            "Epoch: 7\n",
            "Train loss: 0.011356, Train accuracy: 0.988736, Batch: 782 of 782\n",
            "Val loss: 0.017712, Val accuracy: 0.983419, Batch: 157 of 157\n",
            "Epoch: 8\n",
            "Train loss: 0.010566, Train accuracy: 0.989311, Batch: 782 of 782\n",
            "Val loss: 0.018089, Val accuracy: 0.983776, Batch: 157 of 157\n",
            "Epoch: 9\n",
            "Train loss: 0.009494, Train accuracy: 0.990226, Batch: 782 of 782\n",
            "Val loss: 0.017756, Val accuracy: 0.984139, Batch: 157 of 157\n"
          ]
        }
      ]
    },
    {
      "cell_type": "code",
      "source": [
        "pos_model = PosTagger(len(vocab.t2i), flair_model, num_embeddings=len(vocab.w2i))\n",
        "pos_trainer = POSTrainer(pos_model, train_loader, val_loader, save_every=1, name='flair_and_classic_embeddings lr=3e-3, 10 epochs, hidden_dim=300')\n",
        "pos_trainer.fit(max_epochs=10, log=True)\n",
        "pos_model = PosTagger(len(vocab.t2i), flair_model, num_embeddings=len(vocab.w2i), hidden_dim=512)\n",
        "pos_trainer = POSTrainer(pos_model, train_loader, val_loader, save_every=1, lr=2e-5, name='flair_and_classic_embeddings lr=2e-5, 10 epochs, hidden_dim=512')\n",
        "pos_trainer.fit(max_epochs=10, log=True)\n",
        "pos_model = PosTagger(len(vocab.t2i), flair_model, num_embeddings=len(vocab.w2i), hidden_dim=128)\n",
        "pos_trainer = POSTrainer(pos_model, train_loader, val_loader, save_every=1, name='flair_and_classic_embeddings lr=3e-3, 10 epochs, hidden_dim=128')\n",
        "pos_trainer.fit(max_epochs=10, log=True)"
      ],
      "metadata": {
        "id": "YQql2ZNx5X9j",
        "colab": {
          "base_uri": "https://localhost:8080/",
          "height": 1000,
          "referenced_widgets": [
            "234060d87e3d4c3a917589130955c649",
            "56af146f361b49eea537dd2802e5b97e",
            "83cb5c257b984389a70866ef8d2cce70",
            "d8d03b3d7b0847bfa71b7b5e5a0fc92a",
            "49df069249744c75879c2927d95a73c8",
            "dd51e7c789f74cd09286aeb8b7cbcd4a",
            "ea03da355374410babbd7af60d75f6f0",
            "c6e3ba043c594e76a98361c573d5a75e",
            "f68e1a1dd6244f12ba4b8ddf087498b1",
            "1683b379ddcc43f9b8239ce802cacd74",
            "ce7f3d0201c0451d9887adeccc7ff907",
            "202a4390bde547bf8405b0289d15fc0a",
            "8eea710a5ff0472f94dd558ff6f27f89",
            "bfbd532c4b51416aa24e51b026b34352",
            "ddf2b579e3e944d0b8ee17bb8d7cc23c",
            "2dea661dcb2c40d88073d613c00f17c8",
            "b408703235314263acf4ffec36843246",
            "0cbecc4509b3441ba1c642f3a7559a22",
            "722efd29c70649ec8c5e12d3a5c1904f",
            "02afd50823714a5fb8e4962afc74660f",
            "a2ffbb3c0e634a59adec1172854d9e3e",
            "d8599347990a42eeab1c8de62705d2f3",
            "be9d4da4ecea427593e42937ef3f8f51",
            "7f825d278a8f4aa898d2e5a38f6e21ba"
          ]
        },
        "outputId": "18ad9b92-bb58-4cf3-c631-1e24d4b7b1d6"
      },
      "execution_count": 36,
      "outputs": [
        {
          "output_type": "display_data",
          "data": {
            "text/html": [
              "Finishing last run (ID:1efs3ask) before initializing another..."
            ],
            "text/plain": [
              "<IPython.core.display.HTML object>"
            ]
          },
          "metadata": {}
        },
        {
          "output_type": "display_data",
          "data": {
            "text/html": [
              "<br/>Waiting for W&B process to finish, PID 3521... <strong style=\"color:green\">(success).</strong>"
            ],
            "text/plain": [
              "<IPython.core.display.HTML object>"
            ]
          },
          "metadata": {}
        },
        {
          "output_type": "display_data",
          "data": {
            "application/vnd.jupyter.widget-view+json": {
              "model_id": "234060d87e3d4c3a917589130955c649",
              "version_minor": 0,
              "version_major": 2
            },
            "text/plain": [
              "VBox(children=(Label(value=' 0.00MB of 0.00MB uploaded (0.00MB deduped)\\r'), FloatProgress(value=1.0, max=1.0)…"
            ]
          },
          "metadata": {}
        },
        {
          "output_type": "display_data",
          "data": {
            "text/html": [
              "<style>\n",
              "    table.wandb td:nth-child(1) { padding: 0 10px; text-align: right }\n",
              "    .wandb-row { display: flex; flex-direction: row; flex-wrap: wrap; width: 100% }\n",
              "    .wandb-col { display: flex; flex-direction: column; flex-basis: 100%; flex: 1; padding: 10px; }\n",
              "    </style>\n",
              "<div class=\"wandb-row\"><div class=\"wandb-col\">\n",
              "<h3>Run history:</h3><br/><table class=\"wandb\"><tr><td>epoch</td><td>▁▂▃▃▄▅▆▆▇█</td></tr></table><br/></div><div class=\"wandb-col\">\n",
              "<h3>Run summary:</h3><br/><table class=\"wandb\"><tr><td>epoch</td><td>9</td></tr></table>\n",
              "</div></div>\n",
              "Synced 5 W&B file(s), 0 media file(s), 0 artifact file(s) and 0 other file(s)\n",
              "<br/>Synced <strong style=\"color:#cdcd00\">flair_only, lr=3e-3, 10 epochs, hidden_dim=128</strong>: <a href=\"https://wandb.ai/olgaseraya/bilstm_flair_pos_tagger/runs/1efs3ask\" target=\"_blank\">https://wandb.ai/olgaseraya/bilstm_flair_pos_tagger/runs/1efs3ask</a><br/>\n",
              "Find logs at: <code>./wandb/run-20211220_141007-1efs3ask/logs</code><br/>\n"
            ],
            "text/plain": [
              "<IPython.core.display.HTML object>"
            ]
          },
          "metadata": {}
        },
        {
          "output_type": "display_data",
          "data": {
            "text/html": [
              "Successfully finished last run (ID:1efs3ask). Initializing new run:<br/>"
            ],
            "text/plain": [
              "<IPython.core.display.HTML object>"
            ]
          },
          "metadata": {}
        },
        {
          "output_type": "display_data",
          "data": {
            "text/html": [
              "\n",
              "                    Syncing run <strong><a href=\"https://wandb.ai/olgaseraya/bilstm_flair_pos_tagger/runs/1xck0fqu\" target=\"_blank\">flair_and_classic_embeddings lr=3e-3, 10 epochs, hidden_dim=300</a></strong> to <a href=\"https://wandb.ai/olgaseraya/bilstm_flair_pos_tagger\" target=\"_blank\">Weights & Biases</a> (<a href=\"https://docs.wandb.com/integrations/jupyter.html\" target=\"_blank\">docs</a>).<br/>\n",
              "\n",
              "                "
            ],
            "text/plain": [
              "<IPython.core.display.HTML object>"
            ]
          },
          "metadata": {}
        },
        {
          "output_type": "stream",
          "name": "stdout",
          "text": [
            "Epoch: 0\n",
            "Train loss: 0.165846, Train accuracy: 0.940848, Batch: 782 of 782\n",
            "Val loss: 0.019760, Val accuracy: 0.981618, Batch: 157 of 157\n",
            "Epoch: 1\n",
            "Train loss: 0.014775, Train accuracy: 0.986807, Batch: 782 of 782\n",
            "Val loss: 0.017083, Val accuracy: 0.984485, Batch: 157 of 157\n",
            "Epoch: 2\n",
            "Train loss: 0.009030, Train accuracy: 0.991779, Batch: 782 of 782\n",
            "Val loss: 0.017575, Val accuracy: 0.984751, Batch: 157 of 157\n",
            "Epoch: 3\n",
            "Train loss: 0.006387, Train accuracy: 0.993994, Batch: 782 of 782\n",
            "Val loss: 0.018444, Val accuracy: 0.985216, Batch: 157 of 157\n",
            "Epoch: 4\n",
            "Train loss: 0.004829, Train accuracy: 0.995385, Batch: 782 of 782\n",
            "Val loss: 0.019148, Val accuracy: 0.986053, Batch: 157 of 157\n",
            "Epoch: 5\n",
            "Train loss: 0.004035, Train accuracy: 0.996077, Batch: 782 of 782\n",
            "Val loss: 0.021359, Val accuracy: 0.985729, Batch: 157 of 157\n",
            "Epoch: 6\n",
            "Train loss: 0.003687, Train accuracy: 0.996452, Batch: 782 of 782\n",
            "Val loss: 0.021634, Val accuracy: 0.985901, Batch: 157 of 157\n",
            "Epoch: 7\n",
            "Train loss: 0.003063, Train accuracy: 0.996972, Batch: 782 of 782\n",
            "Val loss: 0.023133, Val accuracy: 0.985887, Batch: 157 of 157\n",
            "Epoch: 8\n",
            "Train loss: 0.002678, Train accuracy: 0.997316, Batch: 782 of 782\n",
            "Val loss: 0.024278, Val accuracy: 0.985640, Batch: 157 of 157\n",
            "Epoch: 9\n",
            "Train loss: 0.002492, Train accuracy: 0.997560, Batch: 782 of 782\n",
            "Val loss: 0.025049, Val accuracy: 0.985856, Batch: 157 of 157\n"
          ]
        },
        {
          "output_type": "display_data",
          "data": {
            "text/html": [
              "Finishing last run (ID:1xck0fqu) before initializing another..."
            ],
            "text/plain": [
              "<IPython.core.display.HTML object>"
            ]
          },
          "metadata": {}
        },
        {
          "output_type": "display_data",
          "data": {
            "text/html": [
              "<br/>Waiting for W&B process to finish, PID 3759... <strong style=\"color:green\">(success).</strong>"
            ],
            "text/plain": [
              "<IPython.core.display.HTML object>"
            ]
          },
          "metadata": {}
        },
        {
          "output_type": "display_data",
          "data": {
            "application/vnd.jupyter.widget-view+json": {
              "model_id": "f68e1a1dd6244f12ba4b8ddf087498b1",
              "version_minor": 0,
              "version_major": 2
            },
            "text/plain": [
              "VBox(children=(Label(value=' 0.00MB of 0.00MB uploaded (0.00MB deduped)\\r'), FloatProgress(value=1.0, max=1.0)…"
            ]
          },
          "metadata": {}
        },
        {
          "output_type": "display_data",
          "data": {
            "text/html": [
              "<style>\n",
              "    table.wandb td:nth-child(1) { padding: 0 10px; text-align: right }\n",
              "    .wandb-row { display: flex; flex-direction: row; flex-wrap: wrap; width: 100% }\n",
              "    .wandb-col { display: flex; flex-direction: column; flex-basis: 100%; flex: 1; padding: 10px; }\n",
              "    </style>\n",
              "<div class=\"wandb-row\"><div class=\"wandb-col\">\n",
              "<h3>Run history:</h3><br/><table class=\"wandb\"><tr><td>epoch</td><td>▁▂▃▃▄▅▆▆▇█</td></tr></table><br/></div><div class=\"wandb-col\">\n",
              "<h3>Run summary:</h3><br/><table class=\"wandb\"><tr><td>epoch</td><td>9</td></tr></table>\n",
              "</div></div>\n",
              "Synced 5 W&B file(s), 0 media file(s), 0 artifact file(s) and 0 other file(s)\n",
              "<br/>Synced <strong style=\"color:#cdcd00\">flair_and_classic_embeddings lr=3e-3, 10 epochs, hidden_dim=300</strong>: <a href=\"https://wandb.ai/olgaseraya/bilstm_flair_pos_tagger/runs/1xck0fqu\" target=\"_blank\">https://wandb.ai/olgaseraya/bilstm_flair_pos_tagger/runs/1xck0fqu</a><br/>\n",
              "Find logs at: <code>./wandb/run-20211220_153606-1xck0fqu/logs</code><br/>\n"
            ],
            "text/plain": [
              "<IPython.core.display.HTML object>"
            ]
          },
          "metadata": {}
        },
        {
          "output_type": "display_data",
          "data": {
            "text/html": [
              "Successfully finished last run (ID:1xck0fqu). Initializing new run:<br/>"
            ],
            "text/plain": [
              "<IPython.core.display.HTML object>"
            ]
          },
          "metadata": {}
        },
        {
          "output_type": "display_data",
          "data": {
            "text/html": [
              "\n",
              "                    Syncing run <strong><a href=\"https://wandb.ai/olgaseraya/bilstm_flair_pos_tagger/runs/2grv761y\" target=\"_blank\">flair_and_classic_embeddings lr=2e-5, 10 epochs, hidden_dim=512</a></strong> to <a href=\"https://wandb.ai/olgaseraya/bilstm_flair_pos_tagger\" target=\"_blank\">Weights & Biases</a> (<a href=\"https://docs.wandb.com/integrations/jupyter.html\" target=\"_blank\">docs</a>).<br/>\n",
              "\n",
              "                "
            ],
            "text/plain": [
              "<IPython.core.display.HTML object>"
            ]
          },
          "metadata": {}
        },
        {
          "output_type": "stream",
          "name": "stdout",
          "text": [
            "Epoch: 0\n",
            "Train loss: 2.406533, Train accuracy: 0.567416, Batch: 782 of 782\n",
            "Val loss: 2.098112, Val accuracy: 0.834773, Batch: 157 of 157\n",
            "Epoch: 1\n",
            "Train loss: 1.966703, Train accuracy: 0.880836, Batch: 782 of 782\n",
            "Val loss: 1.907484, Val accuracy: 0.917212, Batch: 157 of 157\n",
            "Epoch: 2\n",
            "Train loss: 1.811791, Train accuracy: 0.926138, Batch: 782 of 782\n",
            "Val loss: 1.765902, Val accuracy: 0.939824, Batch: 157 of 157\n",
            "Epoch: 3\n",
            "Train loss: 1.664245, Train accuracy: 0.942661, Batch: 782 of 782\n",
            "Val loss: 1.609147, Val accuracy: 0.950120, Batch: 157 of 157\n",
            "Epoch: 4\n",
            "Train loss: 1.499573, Train accuracy: 0.951694, Batch: 782 of 782\n",
            "Val loss: 1.433519, Val accuracy: 0.956319, Batch: 157 of 157\n",
            "Epoch: 5\n",
            "Train loss: 1.318977, Train accuracy: 0.957391, Batch: 782 of 782\n",
            "Val loss: 1.244082, Val accuracy: 0.960472, Batch: 157 of 157\n",
            "Epoch: 6\n",
            "Train loss: 1.128768, Train accuracy: 0.961619, Batch: 782 of 782\n",
            "Val loss: 1.048278, Val accuracy: 0.963746, Batch: 157 of 157\n",
            "Epoch: 7\n",
            "Train loss: 0.936985, Train accuracy: 0.964896, Batch: 782 of 782\n",
            "Val loss: 0.855393, Val accuracy: 0.966272, Batch: 157 of 157\n",
            "Epoch: 8\n",
            "Train loss: 0.753129, Train accuracy: 0.967650, Batch: 782 of 782\n",
            "Val loss: 0.675521, Val accuracy: 0.968571, Batch: 157 of 157\n",
            "Epoch: 9\n",
            "Train loss: 0.586851, Train accuracy: 0.969900, Batch: 782 of 782\n",
            "Val loss: 0.517685, Val accuracy: 0.970640, Batch: 157 of 157\n"
          ]
        },
        {
          "output_type": "display_data",
          "data": {
            "text/html": [
              "Finishing last run (ID:2grv761y) before initializing another..."
            ],
            "text/plain": [
              "<IPython.core.display.HTML object>"
            ]
          },
          "metadata": {}
        },
        {
          "output_type": "display_data",
          "data": {
            "text/html": [
              "<br/>Waiting for W&B process to finish, PID 4296... <strong style=\"color:green\">(success).</strong>"
            ],
            "text/plain": [
              "<IPython.core.display.HTML object>"
            ]
          },
          "metadata": {}
        },
        {
          "output_type": "display_data",
          "data": {
            "application/vnd.jupyter.widget-view+json": {
              "model_id": "b408703235314263acf4ffec36843246",
              "version_minor": 0,
              "version_major": 2
            },
            "text/plain": [
              "VBox(children=(Label(value=' 0.00MB of 0.00MB uploaded (0.00MB deduped)\\r'), FloatProgress(value=1.0, max=1.0)…"
            ]
          },
          "metadata": {}
        },
        {
          "output_type": "display_data",
          "data": {
            "text/html": [
              "<style>\n",
              "    table.wandb td:nth-child(1) { padding: 0 10px; text-align: right }\n",
              "    .wandb-row { display: flex; flex-direction: row; flex-wrap: wrap; width: 100% }\n",
              "    .wandb-col { display: flex; flex-direction: column; flex-basis: 100%; flex: 1; padding: 10px; }\n",
              "    </style>\n",
              "<div class=\"wandb-row\"><div class=\"wandb-col\">\n",
              "<h3>Run history:</h3><br/><table class=\"wandb\"><tr><td>epoch</td><td>▁▂▃▃▄▅▆▆▇█</td></tr></table><br/></div><div class=\"wandb-col\">\n",
              "<h3>Run summary:</h3><br/><table class=\"wandb\"><tr><td>epoch</td><td>9</td></tr></table>\n",
              "</div></div>\n",
              "Synced 5 W&B file(s), 0 media file(s), 0 artifact file(s) and 0 other file(s)\n",
              "<br/>Synced <strong style=\"color:#cdcd00\">flair_and_classic_embeddings lr=2e-5, 10 epochs, hidden_dim=512</strong>: <a href=\"https://wandb.ai/olgaseraya/bilstm_flair_pos_tagger/runs/2grv761y\" target=\"_blank\">https://wandb.ai/olgaseraya/bilstm_flair_pos_tagger/runs/2grv761y</a><br/>\n",
              "Find logs at: <code>./wandb/run-20211220_170535-2grv761y/logs</code><br/>\n"
            ],
            "text/plain": [
              "<IPython.core.display.HTML object>"
            ]
          },
          "metadata": {}
        },
        {
          "output_type": "display_data",
          "data": {
            "text/html": [
              "Successfully finished last run (ID:2grv761y). Initializing new run:<br/>"
            ],
            "text/plain": [
              "<IPython.core.display.HTML object>"
            ]
          },
          "metadata": {}
        },
        {
          "output_type": "display_data",
          "data": {
            "text/html": [
              "\n",
              "                    Syncing run <strong><a href=\"https://wandb.ai/olgaseraya/bilstm_flair_pos_tagger/runs/1vrkhafl\" target=\"_blank\">flair_and_classic_embeddings lr=3e-3, 10 epochs, hidden_dim=300</a></strong> to <a href=\"https://wandb.ai/olgaseraya/bilstm_flair_pos_tagger\" target=\"_blank\">Weights & Biases</a> (<a href=\"https://docs.wandb.com/integrations/jupyter.html\" target=\"_blank\">docs</a>).<br/>\n",
              "\n",
              "                "
            ],
            "text/plain": [
              "<IPython.core.display.HTML object>"
            ]
          },
          "metadata": {}
        },
        {
          "output_type": "stream",
          "name": "stdout",
          "text": [
            "Epoch: 0\n",
            "Train loss: 0.179208, Train accuracy: 0.939190, Batch: 782 of 782\n",
            "Val loss: 0.020427, Val accuracy: 0.981460, Batch: 157 of 157\n",
            "Epoch: 1\n",
            "Train loss: 0.015233, Train accuracy: 0.986514, Batch: 782 of 782\n",
            "Val loss: 0.017156, Val accuracy: 0.984759, Batch: 157 of 157\n",
            "Epoch: 2\n",
            "Train loss: 0.009212, Train accuracy: 0.991784, Batch: 782 of 782\n",
            "Val loss: 0.019911, Val accuracy: 0.982862, Batch: 157 of 157\n",
            "Epoch: 3\n",
            "Train loss: 0.006443, Train accuracy: 0.994037, Batch: 782 of 782\n",
            "Val loss: 0.017979, Val accuracy: 0.985308, Batch: 157 of 157\n",
            "Epoch: 4\n",
            "Train loss: 0.004737, Train accuracy: 0.995594, Batch: 782 of 782\n",
            "Val loss: 0.021263, Val accuracy: 0.985191, Batch: 157 of 157\n",
            "Epoch: 5\n",
            "Train loss: 0.003875, Train accuracy: 0.996280, Batch: 782 of 782\n",
            "Val loss: 0.021463, Val accuracy: 0.985599, Batch: 157 of 157\n",
            "Epoch: 6\n",
            "Train loss: 0.003270, Train accuracy: 0.996778, Batch: 782 of 782\n",
            "Val loss: 0.023474, Val accuracy: 0.985394, Batch: 157 of 157\n",
            "Epoch: 7\n",
            "Train loss: 0.003051, Train accuracy: 0.996987, Batch: 782 of 782\n",
            "Val loss: 0.022543, Val accuracy: 0.985612, Batch: 157 of 157\n",
            "Epoch: 8\n",
            "Train loss: 0.002769, Train accuracy: 0.997289, Batch: 782 of 782\n",
            "Val loss: 0.024335, Val accuracy: 0.986069, Batch: 157 of 157\n",
            "Epoch: 9\n",
            "Train loss: 0.002308, Train accuracy: 0.997773, Batch: 782 of 782\n",
            "Val loss: 0.025598, Val accuracy: 0.984964, Batch: 157 of 157\n"
          ]
        }
      ]
    },
    {
      "cell_type": "code",
      "source": [
        "pos_model = PosTagger(len(vocab.t2i), flair_model, freeze_emb=False)\n",
        "pos_trainer = POSTrainer(pos_model, train_loader, val_loader, name='flair_no_freeze')\n",
        "pos_trainer.fit(max_epochs=10, log=True)"
      ],
      "metadata": {
        "colab": {
          "base_uri": "https://localhost:8080/",
          "height": 813,
          "referenced_widgets": [
            "0d60ddf4232d40bb8343254e91057f30",
            "385bd3547a0444c8b633108a32aab36a",
            "15351d802afc438ea1eafc39d21e5bb5",
            "0c1778d5275b4a92af4f6f2cce1a835a",
            "e52596870e57484bb15d3dbc59598417",
            "27dbbc42cd1c4c99bc4a0de707aca99a",
            "2209f00809c14a2fbc592997fbdc80de",
            "51bff48a5e2045c7b262854097e77d30"
          ]
        },
        "id": "mfdMxkiSl76t",
        "outputId": "22154312-0ac1-4295-aee5-cc646325804a"
      },
      "execution_count": 37,
      "outputs": [
        {
          "output_type": "display_data",
          "data": {
            "text/html": [
              "Finishing last run (ID:1vrkhafl) before initializing another..."
            ],
            "text/plain": [
              "<IPython.core.display.HTML object>"
            ]
          },
          "metadata": {}
        },
        {
          "output_type": "display_data",
          "data": {
            "text/html": [
              "<br/>Waiting for W&B process to finish, PID 5613... <strong style=\"color:green\">(success).</strong>"
            ],
            "text/plain": [
              "<IPython.core.display.HTML object>"
            ]
          },
          "metadata": {}
        },
        {
          "output_type": "display_data",
          "data": {
            "application/vnd.jupyter.widget-view+json": {
              "model_id": "0d60ddf4232d40bb8343254e91057f30",
              "version_minor": 0,
              "version_major": 2
            },
            "text/plain": [
              "VBox(children=(Label(value=' 0.00MB of 0.00MB uploaded (0.00MB deduped)\\r'), FloatProgress(value=1.0, max=1.0)…"
            ]
          },
          "metadata": {}
        },
        {
          "output_type": "display_data",
          "data": {
            "text/html": [
              "<style>\n",
              "    table.wandb td:nth-child(1) { padding: 0 10px; text-align: right }\n",
              "    .wandb-row { display: flex; flex-direction: row; flex-wrap: wrap; width: 100% }\n",
              "    .wandb-col { display: flex; flex-direction: column; flex-basis: 100%; flex: 1; padding: 10px; }\n",
              "    </style>\n",
              "<div class=\"wandb-row\"><div class=\"wandb-col\">\n",
              "<h3>Run history:</h3><br/><table class=\"wandb\"><tr><td>epoch</td><td>▁▂▃▃▄▅▆▆▇█</td></tr></table><br/></div><div class=\"wandb-col\">\n",
              "<h3>Run summary:</h3><br/><table class=\"wandb\"><tr><td>epoch</td><td>9</td></tr></table>\n",
              "</div></div>\n",
              "Synced 5 W&B file(s), 0 media file(s), 0 artifact file(s) and 0 other file(s)\n",
              "<br/>Synced <strong style=\"color:#cdcd00\">flair_and_classic_embeddings lr=3e-3, 10 epochs, hidden_dim=300</strong>: <a href=\"https://wandb.ai/olgaseraya/bilstm_flair_pos_tagger/runs/1vrkhafl\" target=\"_blank\">https://wandb.ai/olgaseraya/bilstm_flair_pos_tagger/runs/1vrkhafl</a><br/>\n",
              "Find logs at: <code>./wandb/run-20211220_183852-1vrkhafl/logs</code><br/>\n"
            ],
            "text/plain": [
              "<IPython.core.display.HTML object>"
            ]
          },
          "metadata": {}
        },
        {
          "output_type": "display_data",
          "data": {
            "text/html": [
              "Successfully finished last run (ID:1vrkhafl). Initializing new run:<br/>"
            ],
            "text/plain": [
              "<IPython.core.display.HTML object>"
            ]
          },
          "metadata": {}
        },
        {
          "output_type": "display_data",
          "data": {
            "text/html": [
              "\n",
              "                    Syncing run <strong><a href=\"https://wandb.ai/olgaseraya/bilstm_flair_pos_tagger/runs/31pz93ha\" target=\"_blank\">flair_no_freeze</a></strong> to <a href=\"https://wandb.ai/olgaseraya/bilstm_flair_pos_tagger\" target=\"_blank\">Weights & Biases</a> (<a href=\"https://docs.wandb.com/integrations/jupyter.html\" target=\"_blank\">docs</a>).<br/>\n",
              "\n",
              "                "
            ],
            "text/plain": [
              "<IPython.core.display.HTML object>"
            ]
          },
          "metadata": {}
        },
        {
          "output_type": "stream",
          "name": "stdout",
          "text": [
            "Epoch: 0\n",
            "Train loss: 0.202150, Train accuracy: 0.916930, Batch: 782 of 782\n",
            "Val loss: 0.029822, Val accuracy: 0.971663, Batch: 157 of 157\n",
            "Epoch: 1\n",
            "Train loss: 0.026337, Train accuracy: 0.976128, Batch: 782 of 782\n",
            "Val loss: 0.022662, Val accuracy: 0.977820, Batch: 157 of 157\n",
            "Epoch: 2\n",
            "Train loss: 0.020287, Train accuracy: 0.981146, Batch: 782 of 782\n",
            "Val loss: 0.018717, Val accuracy: 0.981845, Batch: 157 of 157\n",
            "Epoch: 3\n",
            "Train loss: 0.016786, Train accuracy: 0.984024, Batch: 782 of 782\n",
            "Val loss: 0.017782, Val accuracy: 0.982806, Batch: 157 of 157\n",
            "Epoch: 4\n",
            "Train loss: 0.014250, Train accuracy: 0.986164, Batch: 782 of 782\n",
            "Val loss: 0.017682, Val accuracy: 0.982887, Batch: 157 of 157\n",
            "Epoch: 5\n",
            "Train loss: 0.012745, Train accuracy: 0.987371, Batch: 782 of 782\n",
            "Val loss: 0.018477, Val accuracy: 0.983045, Batch: 157 of 157\n",
            "Epoch: 6\n",
            "Train loss: 0.011078, Train accuracy: 0.988796, Batch: 782 of 782\n",
            "Val loss: 0.018467, Val accuracy: 0.983039, Batch: 157 of 157\n",
            "Epoch: 7\n",
            "Train loss: 0.009838, Train accuracy: 0.989874, Batch: 782 of 782\n",
            "Val loss: 0.018093, Val accuracy: 0.983845, Batch: 157 of 157\n",
            "Epoch: 8\n",
            "Train loss: 0.008913, Train accuracy: 0.990759, Batch: 782 of 782\n",
            "Val loss: 0.018428, Val accuracy: 0.984031, Batch: 157 of 157\n",
            "Epoch: 9\n",
            "Train loss: 0.008404, Train accuracy: 0.991356, Batch: 782 of 782\n",
            "Val loss: 0.017577, Val accuracy: 0.984831, Batch: 157 of 157\n"
          ]
        }
      ]
    }
  ]
}